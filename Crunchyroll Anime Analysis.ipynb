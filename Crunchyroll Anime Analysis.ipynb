{
 "cells": [
  {
   "cell_type": "code",
   "execution_count": 1,
   "id": "cba4af80",
   "metadata": {},
   "outputs": [],
   "source": [
    "import pandas as pd \n",
    "import numpy as np\n",
    "import matplotlib.pyplot as plt \n",
    "from scipy.stats import pearsonr, chi2_contingency\n",
    "from sklearn.linear_model import LinearRegression\n",
    "import seaborn as sns\n",
    "import statsmodels.api as sm "
   ]
  },
  {
   "cell_type": "code",
   "execution_count": 2,
   "id": "7f8972c2",
   "metadata": {},
   "outputs": [
    {
     "name": "stdout",
     "output_type": "stream",
     "text": [
      "        id                      title  type  \\\n",
      "0  ts21930            Lupin the Third  SHOW   \n",
      "1  ts25177         Mobile Suit Gundam  SHOW   \n",
      "2  ts35087         Galaxy Express 999  SHOW   \n",
      "3  ts82387              Lupin the 3rd  SHOW   \n",
      "4   ts2846  Chōdenji Machine Voltes V  SHOW   \n",
      "\n",
      "                                         description  release_year  \\\n",
      "0  Arsene Lupin III is the grandson of the master...          1971   \n",
      "1  Mobile Suit Gundam is a televised anime series...          1979   \n",
      "2  Galaxy Express 999 is a manga written and draw...          1978   \n",
      "3  The master thief Lupin III and his cronies con...          1977   \n",
      "4  Chōdenji Machine Voltes V is a Japanese anime ...          1977   \n",
      "\n",
      "  age_certification  runtime  \\\n",
      "0             TV-14       23   \n",
      "1             TV-Y7       25   \n",
      "2             TV-PG       24   \n",
      "3             TV-14       24   \n",
      "4             TV-PG       24   \n",
      "\n",
      "                                              genres production_countries  \\\n",
      "0  ['scifi', 'animation', 'action', 'comedy', 'cr...               ['JP']   \n",
      "1  ['scifi', 'war', 'animation', 'action', 'drama...               ['JP']   \n",
      "2          ['scifi', 'action', 'drama', 'animation']               ['JP']   \n",
      "3  ['scifi', 'animation', 'action', 'comedy', 'cr...               ['JP']   \n",
      "4          ['drama', 'action', 'scifi', 'animation']               ['JP']   \n",
      "\n",
      "   seasons    imdb_id  imdb_score  imdb_votes  tmdb_popularity  tmdb_score  \n",
      "0      6.0  tt0159175         7.9      2116.0           45.829         8.0  \n",
      "1      1.0  tt0159172         7.9      2281.0           41.250         8.1  \n",
      "2      1.0  tt0185066         7.8       459.0            5.064         8.3  \n",
      "3      4.0  tt0159192         8.0      1738.0            0.600         NaN  \n",
      "4      1.0  tt0159855         8.1       207.0           12.625         7.3  \n",
      "Index(['id', 'title', 'type', 'description', 'release_year',\n",
      "       'age_certification', 'runtime', 'genres', 'production_countries',\n",
      "       'seasons', 'imdb_id', 'imdb_score', 'imdb_votes', 'tmdb_popularity',\n",
      "       'tmdb_score'],\n",
      "      dtype='object')\n"
     ]
    }
   ],
   "source": [
    "anime = pd.read_csv(r'C:\\Users\\tyler\\Downloads\\titles.csv')\n",
    "credits = pd.read_csv(r\"C:\\Users\\tyler\\Downloads\\credits.csv\")\n",
    "print(anime.head())\n",
    "columns = anime.columns\n",
    "print(columns)"
   ]
  },
  {
   "cell_type": "code",
   "execution_count": 3,
   "id": "8baf3aa7",
   "metadata": {},
   "outputs": [
    {
     "name": "stdout",
     "output_type": "stream",
     "text": [
      "id                       object\n",
      "title                    object\n",
      "type                     object\n",
      "description              object\n",
      "release_year              int64\n",
      "age_certification        object\n",
      "runtime                   int64\n",
      "genres                   object\n",
      "production_countries     object\n",
      "seasons                 float64\n",
      "imdb_id                  object\n",
      "imdb_score              float64\n",
      "imdb_votes              float64\n",
      "tmdb_popularity         float64\n",
      "tmdb_score              float64\n",
      "dtype: object\n"
     ]
    }
   ],
   "source": [
    "print(anime.dtypes)"
   ]
  },
  {
   "cell_type": "code",
   "execution_count": 4,
   "id": "bfa85e6c",
   "metadata": {},
   "outputs": [
    {
     "name": "stdout",
     "output_type": "stream",
     "text": [
      "463\n",
      "567\n",
      "31\n",
      "35\n",
      "353\n",
      "49\n",
      "253\n",
      "55\n",
      "90\n",
      "4\n"
     ]
    }
   ],
   "source": [
    "def action_indicator(x): \n",
    "    if 'action' in x: \n",
    "        return 1\n",
    "    else: \n",
    "        return 0 \n",
    "def adventure_indicator(x): \n",
    "    if 'adventure' in x:\n",
    "        return 1\n",
    "    else: \n",
    "        return 0 \n",
    "    \n",
    "def comedy_indicator(x): \n",
    "    if 'comedy' in x: \n",
    "        return 1\n",
    "    else:\n",
    "        return 0 \n",
    "\n",
    "def crime_indicator(x): \n",
    "    if 'crime' in x: \n",
    "        return 1\n",
    "    else: \n",
    "        return 0\n",
    "\n",
    "def drama_indicator(x):\n",
    "    if 'drama' in x: \n",
    "        return 1\n",
    "    else:\n",
    "        return 0\n",
    "\n",
    "def family_indicator(x): \n",
    "    if 'family' in x: \n",
    "        return 1\n",
    "    else: \n",
    "        return 0\n",
    "    \n",
    "def fantasy_indicator(x): \n",
    "    if 'fantasy' in x: \n",
    "        return 1\n",
    "    else:\n",
    "        return 0\n",
    "    \n",
    "def historical_indicator(x): \n",
    "    if 'history' in x: \n",
    "        return 1\n",
    "    else: \n",
    "        return 0 \n",
    "    \n",
    "def horror_indicator(x): \n",
    "    if 'horror' in x: \n",
    "        return 1\n",
    "    else: \n",
    "        return 0     \n",
    "\n",
    "def romance_indicator(x): \n",
    "    if 'romance' in x: \n",
    "        return 1\n",
    "    else: \n",
    "        return 0 \n",
    "\n",
    "def science_fiction_indicator(x): \n",
    "    if 'scifi' in x: \n",
    "        return 1 \n",
    "    else:\n",
    "        return 0 \n",
    "    \n",
    "def sports_indicator(x): \n",
    "    if 'sport' in x: \n",
    "        return 1 \n",
    "    else: \n",
    "        return 0 \n",
    "    \n",
    "def thriller_indicator(x): \n",
    "    if 'thriller' in x: \n",
    "        return 1\n",
    "    else: \n",
    "        return 0 \n",
    "\n",
    "def western_indicator(x):\n",
    "    if 'western' in x:\n",
    "        return 1\n",
    "    else:\n",
    "        return 0\n",
    "\n",
    "anime['Action'] = anime.genres.apply(func = action_indicator)\n",
    "anime['Comedy'] = anime.genres.apply(func = comedy_indicator)\n",
    "anime['Crime'] = anime.genres.apply(func = crime_indicator)\n",
    "anime['Family'] = anime.genres.apply(func = family_indicator)\n",
    "anime['Fantasy'] = anime.genres.apply(func = fantasy_indicator)\n",
    "anime['Horror'] = anime.genres.apply(func = horror_indicator)\n",
    "anime['Romance'] = anime.genres.apply(func = romance_indicator)\n",
    "anime['Science Fiction'] = anime.genres.apply(func = science_fiction_indicator)\n",
    "anime['Sports'] = anime.genres.apply(func = sports_indicator)\n",
    "anime['Thriller'] = anime.genres.apply(func = thriller_indicator)\n",
    "anime['Western'] = anime.genres.apply(func = western_indicator)\n",
    "\n",
    "print(anime.Action.sum())\n",
    "print(anime.Comedy.sum())\n",
    "print(anime.Crime.sum())\n",
    "print(anime.Family.sum())\n",
    "print(anime.Fantasy.sum())\n",
    "print(anime.Horror.sum())\n",
    "print(anime.Romance.sum())\n",
    "print(anime.Sports.sum())\n",
    "print(anime.Thriller.sum())\n",
    "print(anime.Western.sum())"
   ]
  },
  {
   "cell_type": "code",
   "execution_count": 5,
   "id": "5fc46a11",
   "metadata": {},
   "outputs": [
    {
     "name": "stdout",
     "output_type": "stream",
     "text": [
      "            id                            title  type  \\\n",
      "0      ts21930                  Lupin the Third  SHOW   \n",
      "1      ts25177               Mobile Suit Gundam  SHOW   \n",
      "2      ts35087               Galaxy Express 999  SHOW   \n",
      "3      ts82387                    Lupin the 3rd  SHOW   \n",
      "4       ts2846        Chōdenji Machine Voltes V  SHOW   \n",
      "...        ...                              ...   ...   \n",
      "1076  ts252949         Farewell, My Dear Cramer  SHOW   \n",
      "1077  ts267874  I★Chu: Halfway Through the Idol  SHOW   \n",
      "1078  ts268254             ABCiee Working Diary  SHOW   \n",
      "1079  ts285889       GLOOMY The Naughty Grizzly  SHOW   \n",
      "1080  ts255190                          Idolls!  SHOW   \n",
      "\n",
      "                                            description  release_year  \\\n",
      "0     Arsene Lupin III is the grandson of the master...          1971   \n",
      "1     Mobile Suit Gundam is a televised anime series...          1979   \n",
      "2     Galaxy Express 999 is a manga written and draw...          1978   \n",
      "3     The master thief Lupin III and his cronies con...          1977   \n",
      "4     Chōdenji Machine Voltes V is a Japanese anime ...          1977   \n",
      "...                                                 ...           ...   \n",
      "1076  With no soccer accomplishments to speak of dur...          2021   \n",
      "1077  Youths aiming to become full-fledged idols enr...          2021   \n",
      "1078  ABCiee is a bit klutzy and ditsy, but he's ful...          2021   \n",
      "1079  Gloomy, an abandoned little bear, is rescued b...          2021   \n",
      "1080  Go for Hoi Hoi Hall! This is the passionate bu...          2021   \n",
      "\n",
      "     age_certification  runtime  \\\n",
      "0                TV-14       23   \n",
      "1                TV-Y7       25   \n",
      "2                TV-PG       24   \n",
      "3                TV-14       24   \n",
      "4                TV-PG       24   \n",
      "...                ...      ...   \n",
      "1076             TV-14       23   \n",
      "1077             TV-14       24   \n",
      "1078               NaN        2   \n",
      "1079               NaN        1   \n",
      "1080             TV-14        8   \n",
      "\n",
      "                                                 genres production_countries  \\\n",
      "0     ['scifi', 'animation', 'action', 'comedy', 'cr...               ['JP']   \n",
      "1     ['scifi', 'war', 'animation', 'action', 'drama...               ['JP']   \n",
      "2             ['scifi', 'action', 'drama', 'animation']               ['JP']   \n",
      "3     ['scifi', 'animation', 'action', 'comedy', 'cr...               ['JP']   \n",
      "4             ['drama', 'action', 'scifi', 'animation']               ['JP']   \n",
      "...                                                 ...                  ...   \n",
      "1076                                ['comedy', 'drama']               ['JP']   \n",
      "1077                            ['comedy', 'animation']               ['JP']   \n",
      "1078                                         ['comedy']               ['JP']   \n",
      "1079                            ['comedy', 'animation']               ['JP']   \n",
      "1080                   ['comedy', 'animation', 'music']               ['JP']   \n",
      "\n",
      "      seasons  ... Sports  Thriller  Western  PG-13  TV-14  TV-G  TV-MA  \\\n",
      "0         6.0  ...      0         0        0      0      1     0      0   \n",
      "1         1.0  ...      0         0        0      0      0     0      0   \n",
      "2         1.0  ...      0         0        0      0      0     0      0   \n",
      "3         4.0  ...      0         0        0      0      1     0      0   \n",
      "4         1.0  ...      0         0        0      0      0     0      0   \n",
      "...       ...  ...    ...       ...      ...    ...    ...   ...    ...   \n",
      "1076      1.0  ...      0         0        0      0      1     0      0   \n",
      "1077      1.0  ...      0         0        0      0      1     0      0   \n",
      "1078      1.0  ...      0         0        0      0      0     0      0   \n",
      "1079      1.0  ...      0         0        0      0      0     0      0   \n",
      "1080      1.0  ...      0         0        0      0      1     0      0   \n",
      "\n",
      "      TV-PG  TV-Y  TV-Y7  \n",
      "0         0     0      0  \n",
      "1         0     0      1  \n",
      "2         1     0      0  \n",
      "3         0     0      0  \n",
      "4         1     0      0  \n",
      "...     ...   ...    ...  \n",
      "1076      0     0      0  \n",
      "1077      0     0      0  \n",
      "1078      0     0      0  \n",
      "1079      0     0      0  \n",
      "1080      0     0      0  \n",
      "\n",
      "[1081 rows x 33 columns]\n",
      "Index(['id', 'title', 'type', 'description', 'release_year',\n",
      "       'age_certification', 'runtime', 'genres', 'production_countries',\n",
      "       'seasons', 'imdb_id', 'imdb_score', 'imdb_votes', 'tmdb_popularity',\n",
      "       'tmdb_score', 'Action', 'Comedy', 'Crime', 'Family', 'Fantasy',\n",
      "       'Horror', 'Romance', 'Science Fiction', 'Sports', 'Thriller', 'Western',\n",
      "       'PG-13', 'TV-14', 'TV-G', 'TV-MA', 'TV-PG', 'TV-Y', 'TV-Y7'],\n",
      "      dtype='object')\n"
     ]
    }
   ],
   "source": [
    "age_ratings = pd.get_dummies(anime.age_certification)\n",
    "anime = pd.concat([anime, age_ratings], ignore_index = False, axis = 1)\n",
    "print(anime)\n",
    "print(anime.columns)"
   ]
  },
  {
   "cell_type": "code",
   "execution_count": 6,
   "id": "222a4b4e",
   "metadata": {
    "scrolled": true
   },
   "outputs": [
    {
     "data": {
      "image/png": "[encoded data removed]",
      "text/plain": [
       "<Figure size 432x288 with 1 Axes>"
      ]
     },
     "metadata": {
      "needs_background": "light"
     },
     "output_type": "display_data"
    },
    {
     "data": {
      "text/plain": [
       "count    1080.000000\n",
       "mean        1.725926\n",
       "std         2.345282\n",
       "min         1.000000\n",
       "25%         1.000000\n",
       "50%         1.000000\n",
       "75%         2.000000\n",
       "max        51.000000\n",
       "Name: seasons, dtype: float64"
      ]
     },
     "execution_count": 6,
     "metadata": {},
     "output_type": "execute_result"
    },
    {
     "data": {
      "text/plain": [
       "<Figure size 432x288 with 0 Axes>"
      ]
     },
     "metadata": {},
     "output_type": "display_data"
    }
   ],
   "source": [
    "plt.hist(anime.seasons, bins = 20)\n",
    "plt.show()\n",
    "plt.clf()\n",
    "\n",
    "anime.seasons.describe()"
   ]
  },
  {
   "cell_type": "code",
   "execution_count": 7,
   "id": "71d58c31",
   "metadata": {},
   "outputs": [
    {
     "name": "stdout",
     "output_type": "stream",
     "text": [
      "174\n"
     ]
    }
   ],
   "source": [
    "print(anime.imdb_score.isna().sum())\n",
    "anime.dropna(subset = ['imdb_score'], axis = 0, inplace = True)"
   ]
  },
  {
   "cell_type": "code",
   "execution_count": 8,
   "id": "059e7507",
   "metadata": {},
   "outputs": [
    {
     "data": {
      "image/png": "[encoded data removed]",
      "text/plain": [
       "<Figure size 432x288 with 1 Axes>"
      ]
     },
     "metadata": {
      "needs_background": "light"
     },
     "output_type": "display_data"
    },
    {
     "data": {
      "image/png": "[encoded data removed]",
      "text/plain": [
       "<Figure size 432x288 with 1 Axes>"
      ]
     },
     "metadata": {
      "needs_background": "light"
     },
     "output_type": "display_data"
    },
    {
     "name": "stdout",
     "output_type": "stream",
     "text": [
      "count    907.000000\n",
      "mean       6.830650\n",
      "std        1.012411\n",
      "min        1.400000\n",
      "25%        6.300000\n",
      "50%        6.900000\n",
      "75%        7.500000\n",
      "max        9.100000\n",
      "Name: imdb_score, dtype: float64\n"
     ]
    },
    {
     "data": {
      "text/plain": [
       "<Figure size 432x288 with 0 Axes>"
      ]
     },
     "metadata": {},
     "output_type": "display_data"
    }
   ],
   "source": [
    "plt.hist(anime.imdb_score, color = 'green', edgecolor = 'black')\n",
    "plt.xlabel('IMDB Score')\n",
    "plt.show()\n",
    "plt.clf()\n",
    "\n",
    "sns.boxplot(x = anime.imdb_score, color = 'green')\n",
    "plt.xlabel('IMDB Score')\n",
    "plt.show()\n",
    "plt.clf()\n",
    "\n",
    "print(anime.imdb_score.describe())"
   ]
  },
  {
   "cell_type": "code",
   "execution_count": 9,
   "id": "61b756e9",
   "metadata": {},
   "outputs": [
    {
     "name": "stdout",
     "output_type": "stream",
     "text": [
      "0\n"
     ]
    }
   ],
   "source": [
    "print(anime.imdb_votes.isna().sum())\n",
    "anime.dropna(subset = ['imdb_votes'], axis = 0, inplace = True)"
   ]
  },
  {
   "cell_type": "code",
   "execution_count": 10,
   "id": "f8f4bffd",
   "metadata": {},
   "outputs": [
    {
     "data": {
      "image/png": "[encoded data removed]",
      "text/plain": [
       "<Figure size 432x288 with 1 Axes>"
      ]
     },
     "metadata": {
      "needs_background": "light"
     },
     "output_type": "display_data"
    },
    {
     "data": {
      "image/png": "[encoded data removed]",
      "text/plain": [
       "<Figure size 432x288 with 1 Axes>"
      ]
     },
     "metadata": {
      "needs_background": "light"
     },
     "output_type": "display_data"
    },
    {
     "data": {
      "text/plain": [
       "<matplotlib.collections.PathCollection at 0x1ddbbe866a0>"
      ]
     },
     "execution_count": 10,
     "metadata": {},
     "output_type": "execute_result"
    },
    {
     "data": {
      "image/png": "[encoded data removed]",
      "text/plain": [
       "<Figure size 432x288 with 1 Axes>"
      ]
     },
     "metadata": {
      "needs_background": "light"
     },
     "output_type": "display_data"
    }
   ],
   "source": [
    "plt.hist(anime.imdb_votes, color = 'green', bins = 20)\n",
    "plt.xlabel('Number of IMDB Votes')\n",
    "plt.show()\n",
    "plt.clf()\n",
    "\n",
    "sns.boxplot(x = anime.imdb_votes)\n",
    "plt.show()\n",
    "plt.clf()\n",
    "\n",
    "plt.scatter(anime.imdb_votes, anime.imdb_score, color = 'green')"
   ]
  },
  {
   "cell_type": "code",
   "execution_count": 11,
   "id": "4b5e093c",
   "metadata": {},
   "outputs": [
    {
     "name": "stdout",
     "output_type": "stream",
     "text": [
      "1\n"
     ]
    }
   ],
   "source": [
    "print(anime.seasons.isna().sum())\n",
    "anime.dropna(subset = ['seasons'], axis = 0, inplace = True)"
   ]
  },
  {
   "cell_type": "code",
   "execution_count": 12,
   "id": "b9e38368",
   "metadata": {},
   "outputs": [
    {
     "data": {
      "image/png": "[encoded data removed]",
      "text/plain": [
       "<Figure size 432x288 with 1 Axes>"
      ]
     },
     "metadata": {
      "needs_background": "light"
     },
     "output_type": "display_data"
    },
    {
     "data": {
      "image/png": "[encoded data removed]",
      "text/plain": [
       "<Figure size 432x288 with 1 Axes>"
      ]
     },
     "metadata": {
      "needs_background": "light"
     },
     "output_type": "display_data"
    },
    {
     "data": {
      "text/plain": [
       "<Figure size 432x288 with 0 Axes>"
      ]
     },
     "metadata": {},
     "output_type": "display_data"
    }
   ],
   "source": [
    "median_seasons = anime.seasons.median()\n",
    "average_seasons = anime.seasons.mean()\n",
    "min_seasons = anime.seasons.mean()\n",
    "max_seasons = anime.seasons.max()\n",
    "\n",
    "plt.hist(anime.seasons, color = 'green')\n",
    "plt.xlabel('Number of Seasons')\n",
    "plt.show()\n",
    "plt.clf()\n",
    "\n",
    "sns.boxplot(x = anime.seasons, color = 'green')\n",
    "plt.xlabel('Number of Seasons')\n",
    "plt.show()\n",
    "plt.clf()"
   ]
  },
  {
   "cell_type": "code",
   "execution_count": 13,
   "id": "867c56a0",
   "metadata": {},
   "outputs": [
    {
     "data": {
      "image/png": "[encoded data removed]",
      "text/plain": [
       "<Figure size 432x288 with 1 Axes>"
      ]
     },
     "metadata": {
      "needs_background": "light"
     },
     "output_type": "display_data"
    },
    {
     "data": {
      "image/png": "[encoded data removed]",
      "text/plain": [
       "<Figure size 432x288 with 1 Axes>"
      ]
     },
     "metadata": {
      "needs_background": "light"
     },
     "output_type": "display_data"
    },
    {
     "data": {
      "text/plain": [
       "count    412.000000\n",
       "mean       6.924272\n",
       "std        1.049293\n",
       "min        1.400000\n",
       "25%        6.400000\n",
       "50%        7.000000\n",
       "75%        7.600000\n",
       "max        9.100000\n",
       "Name: imdb_score, dtype: float64"
      ]
     },
     "execution_count": 13,
     "metadata": {},
     "output_type": "execute_result"
    },
    {
     "data": {
      "text/plain": [
       "<Figure size 432x288 with 0 Axes>"
      ]
     },
     "metadata": {},
     "output_type": "display_data"
    }
   ],
   "source": [
    "plt.hist(anime.imdb_score[anime.Action == 1], color = 'red', bins = 20, edgecolor = 'black')\n",
    "plt.xlabel('IMDb score - Action')\n",
    "plt.show()\n",
    "plt.clf()\n",
    "\n",
    "\n",
    "sns.boxplot(x = anime.imdb_score[anime.Action == 1], color = 'red')\n",
    "plt.xlabel('IMDB Score - Action')\n",
    "plt.show()\n",
    "plt.clf()\n",
    "anime.imdb_score[anime.Action == 1].describe()"
   ]
  },
  {
   "cell_type": "code",
   "execution_count": 14,
   "id": "0227378e",
   "metadata": {},
   "outputs": [
    {
     "data": {
      "image/png": "[encoded data removed]",
      "text/plain": [
       "<Figure size 432x288 with 1 Axes>"
      ]
     },
     "metadata": {
      "needs_background": "light"
     },
     "output_type": "display_data"
    },
    {
     "data": {
      "image/png": "[encoded data removed]",
      "text/plain": [
       "<Figure size 432x288 with 1 Axes>"
      ]
     },
     "metadata": {
      "needs_background": "light"
     },
     "output_type": "display_data"
    },
    {
     "data": {
      "text/plain": [
       "count    525.000000\n",
       "mean       6.903619\n",
       "std        1.012124\n",
       "min        1.400000\n",
       "25%        6.400000\n",
       "50%        7.000000\n",
       "75%        7.600000\n",
       "max        9.100000\n",
       "Name: imdb_score, dtype: float64"
      ]
     },
     "execution_count": 14,
     "metadata": {},
     "output_type": "execute_result"
    },
    {
     "data": {
      "text/plain": [
       "<Figure size 432x288 with 0 Axes>"
      ]
     },
     "metadata": {},
     "output_type": "display_data"
    }
   ],
   "source": [
    "plt.hist(anime.imdb_score[anime.Comedy == 1], color = '#F0EC00', bins = 20, edgecolor = 'black')\n",
    "plt.xlabel('IMDb score - Comedy')\n",
    "plt.show()\n",
    "plt.clf()\n",
    "\n",
    "sns.boxplot(x = anime.imdb_score[anime.Comedy == 1], color = '#F0EC00')\n",
    "plt.xlabel('IMDB Score - Comedy')\n",
    "plt.show()\n",
    "plt.clf()\n",
    "\n",
    "anime.imdb_score[anime.Comedy == 1].describe()"
   ]
  },
  {
   "cell_type": "code",
   "execution_count": 15,
   "id": "f0c48bc1",
   "metadata": {},
   "outputs": [
    {
     "data": {
      "image/png": "[encoded data removed]",
      "text/plain": [
       "<Figure size 432x288 with 1 Axes>"
      ]
     },
     "metadata": {
      "needs_background": "light"
     },
     "output_type": "display_data"
    },
    {
     "data": {
      "image/png": "[encoded data removed]",
      "text/plain": [
       "<Figure size 432x288 with 1 Axes>"
      ]
     },
     "metadata": {
      "needs_background": "light"
     },
     "output_type": "display_data"
    },
    {
     "data": {
      "text/plain": [
       "count    29.000000\n",
       "mean      7.151724\n",
       "std       1.371293\n",
       "min       1.700000\n",
       "25%       6.600000\n",
       "50%       7.300000\n",
       "75%       7.900000\n",
       "max       9.000000\n",
       "Name: imdb_score, dtype: float64"
      ]
     },
     "execution_count": 15,
     "metadata": {},
     "output_type": "execute_result"
    },
    {
     "data": {
      "text/plain": [
       "<Figure size 432x288 with 0 Axes>"
      ]
     },
     "metadata": {},
     "output_type": "display_data"
    }
   ],
   "source": [
    "plt.hist(anime.imdb_score[anime.Crime == 1], color = 'blue', bins = 20, edgecolor = 'black')\n",
    "plt.xlabel('IMDb Score - Crime')\n",
    "plt.show()\n",
    "plt.clf()\n",
    "\n",
    "sns.boxplot(x = anime.imdb_score[anime.Crime == 1], color = 'blue')\n",
    "plt.xlabel('IMDB Score - Crime')\n",
    "plt.show()\n",
    "plt.clf()\n",
    "\n",
    "anime.imdb_score[anime.Crime == 1].describe()"
   ]
  },
  {
   "cell_type": "code",
   "execution_count": 16,
   "id": "1ec9fe86",
   "metadata": {},
   "outputs": [
    {
     "data": {
      "image/png": "[encoded data removed]",
      "text/plain": [
       "<Figure size 432x288 with 1 Axes>"
      ]
     },
     "metadata": {
      "needs_background": "light"
     },
     "output_type": "display_data"
    },
    {
     "data": {
      "image/png": "[encoded data removed]",
      "text/plain": [
       "<Figure size 432x288 with 1 Axes>"
      ]
     },
     "metadata": {
      "needs_background": "light"
     },
     "output_type": "display_data"
    },
    {
     "data": {
      "text/plain": [
       "count    35.000000\n",
       "mean      7.288571\n",
       "std       0.798075\n",
       "min       4.600000\n",
       "25%       7.000000\n",
       "50%       7.300000\n",
       "75%       7.750000\n",
       "max       9.000000\n",
       "Name: imdb_score, dtype: float64"
      ]
     },
     "execution_count": 16,
     "metadata": {},
     "output_type": "execute_result"
    },
    {
     "data": {
      "text/plain": [
       "<Figure size 432x288 with 0 Axes>"
      ]
     },
     "metadata": {},
     "output_type": "display_data"
    }
   ],
   "source": [
    "plt.hist(anime.imdb_score[anime.Family == 1], color = '#0087F0', bins = 20, edgecolor = 'black')\n",
    "plt.xlabel('IMDb Score - Family')\n",
    "plt.show()\n",
    "plt.clf()\n",
    "\n",
    "sns.boxplot(x = anime.imdb_score[anime.Family == 1], color = '#0087F0')\n",
    "plt.xlabel('IMDB Score - Family')\n",
    "plt.show()\n",
    "plt.clf()\n",
    "\n",
    "anime.imdb_score[anime.Family == 1].describe()"
   ]
  },
  {
   "cell_type": "code",
   "execution_count": 17,
   "id": "87edce57",
   "metadata": {},
   "outputs": [
    {
     "data": {
      "image/png": "[encoded data removed]",
      "text/plain": [
       "<Figure size 432x288 with 1 Axes>"
      ]
     },
     "metadata": {
      "needs_background": "light"
     },
     "output_type": "display_data"
    },
    {
     "data": {
      "image/png": "[encoded data removed]",
      "text/plain": [
       "<Figure size 432x288 with 1 Axes>"
      ]
     },
     "metadata": {
      "needs_background": "light"
     },
     "output_type": "display_data"
    },
    {
     "data": {
      "text/plain": [
       "count    348.000000\n",
       "mean       7.018966\n",
       "std        0.934844\n",
       "min        1.400000\n",
       "25%        6.500000\n",
       "50%        7.000000\n",
       "75%        7.600000\n",
       "max        9.100000\n",
       "Name: imdb_score, dtype: float64"
      ]
     },
     "execution_count": 17,
     "metadata": {},
     "output_type": "execute_result"
    },
    {
     "data": {
      "text/plain": [
       "<Figure size 432x288 with 0 Axes>"
      ]
     },
     "metadata": {},
     "output_type": "display_data"
    }
   ],
   "source": [
    "plt.hist(anime.imdb_score[anime.Fantasy == 1], color = 'purple', bins = 20, edgecolor = 'black')\n",
    "plt.xlabel('IMDb Score - Fantasy')\n",
    "plt.show()\n",
    "plt.clf()\n",
    "\n",
    "sns.boxplot(x = anime.imdb_score[anime.Fantasy == 1], color = 'purple')\n",
    "plt.xlabel('IMDB Score - Fantasy')\n",
    "plt.show()\n",
    "plt.clf()\n",
    "\n",
    "anime.imdb_score[anime.Fantasy == 1].describe()"
   ]
  },
  {
   "cell_type": "code",
   "execution_count": 18,
   "id": "8783cbf5",
   "metadata": {},
   "outputs": [
    {
     "data": {
      "image/png": "[encoded data removed]",
      "text/plain": [
       "<Figure size 432x288 with 1 Axes>"
      ]
     },
     "metadata": {
      "needs_background": "light"
     },
     "output_type": "display_data"
    },
    {
     "data": {
      "image/png": "[encoded data removed]",
      "text/plain": [
       "<Figure size 432x288 with 1 Axes>"
      ]
     },
     "metadata": {
      "needs_background": "light"
     },
     "output_type": "display_data"
    },
    {
     "data": {
      "text/plain": [
       "count    49.000000\n",
       "mean      7.030612\n",
       "std       1.137102\n",
       "min       4.300000\n",
       "25%       6.400000\n",
       "50%       7.100000\n",
       "75%       7.800000\n",
       "max       9.000000\n",
       "Name: imdb_score, dtype: float64"
      ]
     },
     "execution_count": 18,
     "metadata": {},
     "output_type": "execute_result"
    },
    {
     "data": {
      "text/plain": [
       "<Figure size 432x288 with 0 Axes>"
      ]
     },
     "metadata": {},
     "output_type": "display_data"
    }
   ],
   "source": [
    "plt.hist(anime.imdb_score[anime.Horror == 1], color = 'grey', bins = 20, edgecolor = 'black')\n",
    "plt.xlabel('IMDb Score - Horror')\n",
    "plt.show()\n",
    "plt.clf()\n",
    "\n",
    "sns.boxplot(x = anime.imdb_score[anime.Horror == 1], color = 'grey')\n",
    "plt.xlabel('IMDB Score - Horror')\n",
    "plt.show()\n",
    "plt.clf()\n",
    "\n",
    "anime.imdb_score[anime.Horror == 1].describe()"
   ]
  },
  {
   "cell_type": "code",
   "execution_count": 19,
   "id": "52554d3b",
   "metadata": {},
   "outputs": [
    {
     "data": {
      "image/png": "[encoded data removed]",
      "text/plain": [
       "<Figure size 432x288 with 1 Axes>"
      ]
     },
     "metadata": {
      "needs_background": "light"
     },
     "output_type": "display_data"
    },
    {
     "data": {
      "image/png": "[encoded data removed]",
      "text/plain": [
       "<Figure size 432x288 with 1 Axes>"
      ]
     },
     "metadata": {
      "needs_background": "light"
     },
     "output_type": "display_data"
    },
    {
     "data": {
      "text/plain": [
       "count    253.000000\n",
       "mean       6.896443\n",
       "std        0.940421\n",
       "min        1.700000\n",
       "25%        6.400000\n",
       "50%        7.000000\n",
       "75%        7.500000\n",
       "max        8.800000\n",
       "Name: imdb_score, dtype: float64"
      ]
     },
     "execution_count": 19,
     "metadata": {},
     "output_type": "execute_result"
    },
    {
     "data": {
      "text/plain": [
       "<Figure size 432x288 with 0 Axes>"
      ]
     },
     "metadata": {},
     "output_type": "display_data"
    }
   ],
   "source": [
    "plt.hist(anime.imdb_score[anime.Romance == 1], color = 'pink', bins = 20, edgecolor = 'black')\n",
    "plt.xlabel('IMDb Score - Romance')\n",
    "plt.show()\n",
    "plt.clf()\n",
    "\n",
    "sns.boxplot(x = anime.imdb_score[anime.Romance == 1], color = 'pink')\n",
    "plt.xlabel('IMDB Score - Romance')\n",
    "plt.show()\n",
    "plt.clf()\n",
    "\n",
    "anime.imdb_score[anime.Romance == 1].describe()"
   ]
  },
  {
   "cell_type": "code",
   "execution_count": 20,
   "id": "dc1ef740",
   "metadata": {},
   "outputs": [
    {
     "data": {
      "image/png": "[encoded data removed]",
      "text/plain": [
       "<Figure size 432x288 with 1 Axes>"
      ]
     },
     "metadata": {
      "needs_background": "light"
     },
     "output_type": "display_data"
    },
    {
     "data": {
      "image/png": "[encoded data removed]",
      "text/plain": [
       "<Figure size 432x288 with 1 Axes>"
      ]
     },
     "metadata": {
      "needs_background": "light"
     },
     "output_type": "display_data"
    },
    {
     "data": {
      "text/plain": [
       "count    411.000000\n",
       "mean       6.909732\n",
       "std        1.039537\n",
       "min        1.400000\n",
       "25%        6.300000\n",
       "50%        7.000000\n",
       "75%        7.600000\n",
       "max        9.100000\n",
       "Name: imdb_score, dtype: float64"
      ]
     },
     "execution_count": 20,
     "metadata": {},
     "output_type": "execute_result"
    },
    {
     "data": {
      "text/plain": [
       "<Figure size 432x288 with 0 Axes>"
      ]
     },
     "metadata": {},
     "output_type": "display_data"
    }
   ],
   "source": [
    "plt.hist(anime.imdb_score[anime['Science Fiction'] == 1], color = 'green', bins = 20, edgecolor = 'black')\n",
    "plt.xlabel('IMDb Score - Science Fiction')\n",
    "plt.show()\n",
    "plt.clf()\n",
    "\n",
    "sns.boxplot(x = anime.imdb_score[anime['Science Fiction'] == 1], color = 'green')\n",
    "plt.xlabel('IMDB Score - Science Fiction')\n",
    "plt.show()\n",
    "plt.clf()\n",
    "\n",
    "anime.imdb_score[anime['Science Fiction'] == 1].describe()"
   ]
  },
  {
   "cell_type": "code",
   "execution_count": 21,
   "id": "4995796e",
   "metadata": {},
   "outputs": [
    {
     "data": {
      "image/png": "[encoded data removed]",
      "text/plain": [
       "<Figure size 432x288 with 1 Axes>"
      ]
     },
     "metadata": {
      "needs_background": "light"
     },
     "output_type": "display_data"
    },
    {
     "data": {
      "image/png": "[encoded data removed]",
      "text/plain": [
       "<Figure size 432x288 with 1 Axes>"
      ]
     },
     "metadata": {
      "needs_background": "light"
     },
     "output_type": "display_data"
    },
    {
     "data": {
      "text/plain": [
       "count    55.000000\n",
       "mean      7.076364\n",
       "std       0.899787\n",
       "min       5.000000\n",
       "25%       6.400000\n",
       "50%       7.300000\n",
       "75%       7.700000\n",
       "max       8.800000\n",
       "Name: imdb_score, dtype: float64"
      ]
     },
     "execution_count": 21,
     "metadata": {},
     "output_type": "execute_result"
    },
    {
     "data": {
      "text/plain": [
       "<Figure size 432x288 with 0 Axes>"
      ]
     },
     "metadata": {},
     "output_type": "display_data"
    }
   ],
   "source": [
    "plt.hist(anime.imdb_score[anime.Sports == 1], color = '#00F083', bins = 20, edgecolor = 'black')\n",
    "plt.xlabel('IMDb Score - Sports')\n",
    "plt.show()\n",
    "plt.clf()\n",
    "\n",
    "sns.boxplot(x = anime.imdb_score[anime['Sports'] == 1], color = '#00F083')\n",
    "plt.xlabel('IMDB Score - Sports')\n",
    "plt.show()\n",
    "plt.clf()\n",
    "\n",
    "anime.imdb_score[anime.Sports == 1].describe()"
   ]
  },
  {
   "cell_type": "code",
   "execution_count": 22,
   "id": "e5edb66b",
   "metadata": {},
   "outputs": [
    {
     "data": {
      "image/png": "[encoded data removed]",
      "text/plain": [
       "<Figure size 432x288 with 1 Axes>"
      ]
     },
     "metadata": {
      "needs_background": "light"
     },
     "output_type": "display_data"
    },
    {
     "data": {
      "image/png": "[encoded data removed]",
      "text/plain": [
       "<Figure size 432x288 with 1 Axes>"
      ]
     },
     "metadata": {
      "needs_background": "light"
     },
     "output_type": "display_data"
    },
    {
     "data": {
      "text/plain": [
       "count    90.000000\n",
       "mean      7.462222\n",
       "std       0.976531\n",
       "min       4.900000\n",
       "25%       6.800000\n",
       "50%       7.600000\n",
       "75%       8.300000\n",
       "max       9.000000\n",
       "Name: imdb_score, dtype: float64"
      ]
     },
     "execution_count": 22,
     "metadata": {},
     "output_type": "execute_result"
    },
    {
     "data": {
      "text/plain": [
       "<Figure size 432x288 with 0 Axes>"
      ]
     },
     "metadata": {},
     "output_type": "display_data"
    }
   ],
   "source": [
    "plt.hist(anime.imdb_score[anime.Thriller == 1], color = 'brown', bins = 20, edgecolor = 'black')\n",
    "plt.xlabel('IMDb Score - Thriller')\n",
    "plt.show()\n",
    "plt.clf()\n",
    "\n",
    "sns.boxplot(x = anime.imdb_score[anime['Thriller'] == 1], color = 'brown')\n",
    "plt.xlabel('IMDB Score - Thriller')\n",
    "plt.show()\n",
    "plt.clf()\n",
    "\n",
    "anime.imdb_score[anime.Thriller == 1].describe()"
   ]
  },
  {
   "cell_type": "code",
   "execution_count": 23,
   "id": "a29e3a90",
   "metadata": {},
   "outputs": [
    {
     "data": {
      "image/png": "[encoded data removed]",
      "text/plain": [
       "<Figure size 432x288 with 1 Axes>"
      ]
     },
     "metadata": {
      "needs_background": "light"
     },
     "output_type": "display_data"
    },
    {
     "data": {
      "image/png": "[encoded data removed]",
      "text/plain": [
       "<Figure size 432x288 with 1 Axes>"
      ]
     },
     "metadata": {
      "needs_background": "light"
     },
     "output_type": "display_data"
    },
    {
     "data": {
      "text/plain": [
       "count    3.000000\n",
       "mean     8.166667\n",
       "std      0.665833\n",
       "min      7.600000\n",
       "25%      7.800000\n",
       "50%      8.000000\n",
       "75%      8.450000\n",
       "max      8.900000\n",
       "Name: imdb_score, dtype: float64"
      ]
     },
     "execution_count": 23,
     "metadata": {},
     "output_type": "execute_result"
    },
    {
     "data": {
      "text/plain": [
       "<Figure size 432x288 with 0 Axes>"
      ]
     },
     "metadata": {},
     "output_type": "display_data"
    }
   ],
   "source": [
    "plt.hist(anime.imdb_score[anime.Western == 1], color = 'green', bins = 20, edgecolor = 'black')\n",
    "plt.xlabel('IMDb Score - Western')\n",
    "plt.show()\n",
    "plt.clf()\n",
    "\n",
    "sns.boxplot(x = anime.imdb_score[anime['Western'] == 1], color = 'green')\n",
    "plt.xlabel('IMDB Score - Western')\n",
    "plt.show()\n",
    "plt.clf()\n",
    "\n",
    "anime.imdb_score[anime.Western == 1].describe()"
   ]
  },
  {
   "cell_type": "code",
   "execution_count": 25,
   "id": "c0d9962b",
   "metadata": {},
   "outputs": [
    {
     "name": "stderr",
     "output_type": "stream",
     "text": [
      "C:\\Users\\tyler\\anaconda3\\lib\\site-packages\\statsmodels\\tsa\\tsatools.py:142: FutureWarning: In a future version of pandas all arguments of concat except for the argument 'objs' will be keyword-only\n",
      "  x = pd.concat(x[::order], 1)\n"
     ]
    },
    {
     "data": {
      "text/html": [
       "<table class=\"simpletable\">\n",
       "<caption>OLS Regression Results</caption>\n",
       "<tr>\n",
       "  <th>Dep. Variable:</th>       <td>imdb_score</td>    <th>  R-squared:         </th> <td>   0.158</td>\n",
       "</tr>\n",
       "<tr>\n",
       "  <th>Model:</th>                   <td>OLS</td>       <th>  Adj. R-squared:    </th> <td>   0.144</td>\n",
       "</tr>\n",
       "<tr>\n",
       "  <th>Method:</th>             <td>Least Squares</td>  <th>  F-statistic:       </th> <td>   11.15</td>\n",
       "</tr>\n",
       "<tr>\n",
       "  <th>Date:</th>             <td>Fri, 11 Nov 2022</td> <th>  Prob (F-statistic):</th> <td>3.21e-25</td>\n",
       "</tr>\n",
       "<tr>\n",
       "  <th>Time:</th>                 <td>17:38:33</td>     <th>  Log-Likelihood:    </th> <td> -1218.6</td>\n",
       "</tr>\n",
       "<tr>\n",
       "  <th>No. Observations:</th>      <td>   906</td>      <th>  AIC:               </th> <td>   2469.</td>\n",
       "</tr>\n",
       "<tr>\n",
       "  <th>Df Residuals:</th>          <td>   890</td>      <th>  BIC:               </th> <td>   2546.</td>\n",
       "</tr>\n",
       "<tr>\n",
       "  <th>Df Model:</th>              <td>    15</td>      <th>                     </th>     <td> </td>   \n",
       "</tr>\n",
       "<tr>\n",
       "  <th>Covariance Type:</th>      <td>nonrobust</td>    <th>                     </th>     <td> </td>   \n",
       "</tr>\n",
       "</table>\n",
       "<table class=\"simpletable\">\n",
       "<tr>\n",
       "         <td></td>            <th>coef</th>     <th>std err</th>      <th>t</th>      <th>P>|t|</th>  <th>[0.025</th>    <th>0.975]</th>  \n",
       "</tr>\n",
       "<tr>\n",
       "  <th>const</th>           <td>    6.0890</td> <td>    0.081</td> <td>   75.317</td> <td> 0.000</td> <td>    5.930</td> <td>    6.248</td>\n",
       "</tr>\n",
       "<tr>\n",
       "  <th>seasons</th>         <td>    0.0540</td> <td>    0.013</td> <td>    4.222</td> <td> 0.000</td> <td>    0.029</td> <td>    0.079</td>\n",
       "</tr>\n",
       "<tr>\n",
       "  <th>Comedy</th>          <td>    0.1818</td> <td>    0.068</td> <td>    2.672</td> <td> 0.008</td> <td>    0.048</td> <td>    0.315</td>\n",
       "</tr>\n",
       "<tr>\n",
       "  <th>Crime</th>           <td>    0.0776</td> <td>    0.185</td> <td>    0.419</td> <td> 0.675</td> <td>   -0.286</td> <td>    0.441</td>\n",
       "</tr>\n",
       "<tr>\n",
       "  <th>Family</th>          <td>    0.4163</td> <td>    0.169</td> <td>    2.463</td> <td> 0.014</td> <td>    0.085</td> <td>    0.748</td>\n",
       "</tr>\n",
       "<tr>\n",
       "  <th>Fantasy</th>         <td>    0.2101</td> <td>    0.071</td> <td>    2.943</td> <td> 0.003</td> <td>    0.070</td> <td>    0.350</td>\n",
       "</tr>\n",
       "<tr>\n",
       "  <th>Horror</th>          <td>    0.0044</td> <td>    0.148</td> <td>    0.030</td> <td> 0.976</td> <td>   -0.287</td> <td>    0.295</td>\n",
       "</tr>\n",
       "<tr>\n",
       "  <th>Romance</th>         <td>    0.0875</td> <td>    0.071</td> <td>    1.225</td> <td> 0.221</td> <td>   -0.053</td> <td>    0.228</td>\n",
       "</tr>\n",
       "<tr>\n",
       "  <th>Science Fiction</th> <td>    0.0748</td> <td>    0.071</td> <td>    1.050</td> <td> 0.294</td> <td>   -0.065</td> <td>    0.214</td>\n",
       "</tr>\n",
       "<tr>\n",
       "  <th>Sports</th>          <td>    0.4203</td> <td>    0.136</td> <td>    3.095</td> <td> 0.002</td> <td>    0.154</td> <td>    0.687</td>\n",
       "</tr>\n",
       "<tr>\n",
       "  <th>Thriller</th>        <td>    0.6200</td> <td>    0.115</td> <td>    5.411</td> <td> 0.000</td> <td>    0.395</td> <td>    0.845</td>\n",
       "</tr>\n",
       "<tr>\n",
       "  <th>Western</th>         <td>    0.8679</td> <td>    0.550</td> <td>    1.579</td> <td> 0.115</td> <td>   -0.211</td> <td>    1.947</td>\n",
       "</tr>\n",
       "<tr>\n",
       "  <th>TV-14</th>           <td>    0.4332</td> <td>    0.077</td> <td>    5.609</td> <td> 0.000</td> <td>    0.282</td> <td>    0.585</td>\n",
       "</tr>\n",
       "<tr>\n",
       "  <th>TV-G</th>            <td>    0.4670</td> <td>    0.274</td> <td>    1.704</td> <td> 0.089</td> <td>   -0.071</td> <td>    1.005</td>\n",
       "</tr>\n",
       "<tr>\n",
       "  <th>TV-MA</th>           <td>    0.2387</td> <td>    0.111</td> <td>    2.159</td> <td> 0.031</td> <td>    0.022</td> <td>    0.456</td>\n",
       "</tr>\n",
       "<tr>\n",
       "  <th>TV-PG</th>           <td>    0.4760</td> <td>    0.110</td> <td>    4.324</td> <td> 0.000</td> <td>    0.260</td> <td>    0.692</td>\n",
       "</tr>\n",
       "</table>\n",
       "<table class=\"simpletable\">\n",
       "<tr>\n",
       "  <th>Omnibus:</th>       <td>140.730</td> <th>  Durbin-Watson:     </th> <td>   1.711</td>\n",
       "</tr>\n",
       "<tr>\n",
       "  <th>Prob(Omnibus):</th> <td> 0.000</td>  <th>  Jarque-Bera (JB):  </th> <td> 330.860</td>\n",
       "</tr>\n",
       "<tr>\n",
       "  <th>Skew:</th>          <td>-0.848</td>  <th>  Prob(JB):          </th> <td>1.43e-72</td>\n",
       "</tr>\n",
       "<tr>\n",
       "  <th>Kurtosis:</th>      <td> 5.426</td>  <th>  Cond. No.          </th> <td>    57.2</td>\n",
       "</tr>\n",
       "</table><br/><br/>Notes:<br/>[1] Standard Errors assume that the covariance matrix of the errors is correctly specified."
      ],
      "text/plain": [
       "<class 'statsmodels.iolib.summary.Summary'>\n",
       "\"\"\"\n",
       "                            OLS Regression Results                            \n",
       "==============================================================================\n",
       "Dep. Variable:             imdb_score   R-squared:                       0.158\n",
       "Model:                            OLS   Adj. R-squared:                  0.144\n",
       "Method:                 Least Squares   F-statistic:                     11.15\n",
       "Date:                Fri, 11 Nov 2022   Prob (F-statistic):           3.21e-25\n",
       "Time:                        17:38:33   Log-Likelihood:                -1218.6\n",
       "No. Observations:                 906   AIC:                             2469.\n",
       "Df Residuals:                     890   BIC:                             2546.\n",
       "Df Model:                          15                                         \n",
       "Covariance Type:            nonrobust                                         \n",
       "===================================================================================\n",
       "                      coef    std err          t      P>|t|      [0.025      0.975]\n",
       "-----------------------------------------------------------------------------------\n",
       "const               6.0890      0.081     75.317      0.000       5.930       6.248\n",
       "seasons             0.0540      0.013      4.222      0.000       0.029       0.079\n",
       "Comedy              0.1818      0.068      2.672      0.008       0.048       0.315\n",
       "Crime               0.0776      0.185      0.419      0.675      -0.286       0.441\n",
       "Family              0.4163      0.169      2.463      0.014       0.085       0.748\n",
       "Fantasy             0.2101      0.071      2.943      0.003       0.070       0.350\n",
       "Horror              0.0044      0.148      0.030      0.976      -0.287       0.295\n",
       "Romance             0.0875      0.071      1.225      0.221      -0.053       0.228\n",
       "Science Fiction     0.0748      0.071      1.050      0.294      -0.065       0.214\n",
       "Sports              0.4203      0.136      3.095      0.002       0.154       0.687\n",
       "Thriller            0.6200      0.115      5.411      0.000       0.395       0.845\n",
       "Western             0.8679      0.550      1.579      0.115      -0.211       1.947\n",
       "TV-14               0.4332      0.077      5.609      0.000       0.282       0.585\n",
       "TV-G                0.4670      0.274      1.704      0.089      -0.071       1.005\n",
       "TV-MA               0.2387      0.111      2.159      0.031       0.022       0.456\n",
       "TV-PG               0.4760      0.110      4.324      0.000       0.260       0.692\n",
       "==============================================================================\n",
       "Omnibus:                      140.730   Durbin-Watson:                   1.711\n",
       "Prob(Omnibus):                  0.000   Jarque-Bera (JB):              330.860\n",
       "Skew:                          -0.848   Prob(JB):                     1.43e-72\n",
       "Kurtosis:                       5.426   Cond. No.                         57.2\n",
       "==============================================================================\n",
       "\n",
       "Notes:\n",
       "[1] Standard Errors assume that the covariance matrix of the errors is correctly specified.\n",
       "\"\"\""
      ]
     },
     "execution_count": 25,
     "metadata": {},
     "output_type": "execute_result"
    }
   ],
   "source": [
    "# Multiple Linear Regression Model\n",
    "x = anime[['seasons','Comedy', 'Crime', 'Family', 'Fantasy', 'Horror', 'Romance', 'Science Fiction', 'Sports', 'Thriller', 'Western', 'TV-14', 'TV-G', 'TV-MA', 'TV-PG']]\n",
    "y = anime.imdb_score\n",
    "\n",
    "x = sm.add_constant(x)\n",
    "\n",
    "est = sm.OLS(y, x).fit() \n",
    "est.summary()"
   ]
  }
 ],
 "metadata": {
  "kernelspec": {
   "display_name": "Python 3 (ipykernel)",
   "language": "python",
   "name": "python3"
  },
  "language_info": {
   "codemirror_mode": {
    "name": "ipython",
    "version": 3
   },
   "file_extension": ".py",
   "mimetype": "text/x-python",
   "name": "python",
   "nbconvert_exporter": "python",
   "pygments_lexer": "ipython3",
   "version": "3.9.7"
  }
 },
 "nbformat": 4,
 "nbformat_minor": 5
}
