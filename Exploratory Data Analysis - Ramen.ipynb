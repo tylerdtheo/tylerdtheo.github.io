{
 "cells": [
  {
   "cell_type": "markdown",
   "id": "ca3241d4-7345-4586-8ee0-71618554e28c",
   "metadata": {},
   "source": [
    "Importing all of our necessary libraries in order to properly explore our libraries including tools such as pandas, numpy, seaborn, etc. "
   ]
  },
  {
   "cell_type": "code",
   "execution_count": 284,
   "id": "fa642ae8",
   "metadata": {},
   "outputs": [],
   "source": [
    "import pandas as pd \n",
    "import numpy as np\n",
    "import matplotlib.pyplot as plt \n",
    "from scipy.stats import pearsonr, chi2_contingency\n",
    "from sklearn.linear_model import LinearRegression\n",
    "from sklearn.model_selection import train_test_split\n",
    "import seaborn as sns\n",
    "import statsmodels.api as sm \n",
    "from statsmodels.stats.multicomp import pairwise_tukeyhsd\n",
    "from scipy.stats import f_oneway\n",
    "\n",
    "ramen = pd.read_csv(r\"C:\\Users\\tyler\\Downloads\\ramen-ratings.csv\")"
   ]
  },
  {
   "cell_type": "code",
   "execution_count": 285,
   "id": "49e69add",
   "metadata": {
    "scrolled": true
   },
   "outputs": [
    {
     "name": "stdout",
     "output_type": "stream",
     "text": [
      "   Review #           Brand  \\\n",
      "0      2580       New Touch   \n",
      "1      2579        Just Way   \n",
      "2      2578          Nissin   \n",
      "3      2577         Wei Lih   \n",
      "4      2576  Ching's Secret   \n",
      "\n",
      "                                             Variety Style Country Stars  \\\n",
      "0                          T's Restaurant Tantanmen    Cup   Japan  3.75   \n",
      "1  Noodles Spicy Hot Sesame Spicy Hot Sesame Guan...  Pack  Taiwan     1   \n",
      "2                      Cup Noodles Chicken Vegetable   Cup     USA  2.25   \n",
      "3                      GGE Ramen Snack Tomato Flavor  Pack  Taiwan  2.75   \n",
      "4                                    Singapore Curry  Pack   India  3.75   \n",
      "\n",
      "  Top Ten  \n",
      "0     NaN  \n",
      "1     NaN  \n",
      "2     NaN  \n",
      "3     NaN  \n",
      "4     NaN  \n",
      "          Review #\n",
      "count  2580.000000\n",
      "mean   1290.500000\n",
      "std     744.926171\n",
      "min       1.000000\n",
      "25%     645.750000\n",
      "50%    1290.500000\n",
      "75%    1935.250000\n",
      "max    2580.000000\n",
      "0       3.75\n",
      "1          1\n",
      "2       2.25\n",
      "3       2.75\n",
      "4       3.75\n",
      "        ... \n",
      "2575     3.5\n",
      "2576       1\n",
      "2577       2\n",
      "2578       2\n",
      "2579     0.5\n",
      "Name: Stars, Length: 2580, dtype: object\n",
      "[nan '2016 #10' '2016 #1' '2016 #8' '2016 #5' '2016 #9' '2016 #7'\n",
      " '2015 #10' '2015 #7' '2015 #4' '2015 #9' '2015 #6' '2015 #1' '2013 #10'\n",
      " '2015 #8' '2014 #7' '2014 #4' '2014 #9' '2014 #10' '2014 #8' '2014 #5'\n",
      " '2014 #6' '2014 #1' '2013 #1' '2013 #2' '2013 #4' '\\n' '2013 #9'\n",
      " '2013 #3' '2012 #10' '2012 #7' '2012 #5' '2012 #3' '2012 #6' '2012 #9'\n",
      " '2012 #1' '2012 #2' '2013 #6' '2012 #4']\n"
     ]
    }
   ],
   "source": [
    "print(ramen.head())\n",
    "columns = list(ramen)\n",
    "print(ramen.describe())\n",
    "print(ramen.Stars)\n",
    "print(ramen['Top Ten'].unique())"
   ]
  },
  {
   "cell_type": "markdown",
   "id": "2b4f7514",
   "metadata": {},
   "source": [
    "Converting categorical features into binary variables to prepare for regression analysis. The Style column is encoded into binary values, along with Packaging and Region/Continent in which the product was manufactured. These dummy variables will allow us to include categorical data in the regression model and will serve as key predictors for later analysis."
   ]
  },
  {
   "cell_type": "code",
   "execution_count": 287,
   "id": "0ab5afb6",
   "metadata": {},
   "outputs": [],
   "source": [
    "style_binary_values = pd.get_dummies(ramen.Style)"
   ]
  },
  {
   "cell_type": "raw",
   "id": "749c6279-f27d-453a-9376-e6f6c9c8dbb7",
   "metadata": {},
   "source": [
    "Now we going to wrangle the regional product information in the dataset so we can properly measure region as a possible factor in ramen ratings. "
   ]
  },
  {
   "cell_type": "code",
   "execution_count": 289,
   "id": "66fd9940",
   "metadata": {},
   "outputs": [
    {
     "name": "stdout",
     "output_type": "stream",
     "text": [
      "['Japan' 'Taiwan' 'USA' 'India' 'South Korea' 'Singapore' 'Thailand'\n",
      " 'Hong Kong' 'Vietnam' 'Ghana' 'Malaysia' 'Indonesia' 'China' 'Nigeria'\n",
      " 'Germany' 'Hungary' 'Mexico' 'Fiji' 'Australia' 'Pakistan' 'Bangladesh'\n",
      " 'Canada' 'Nepal' 'Brazil' 'UK' 'Myanmar' 'Netherlands' 'United States'\n",
      " 'Cambodia' 'Finland' 'Sarawak' 'Philippines' 'Sweden' 'Colombia'\n",
      " 'Estonia' 'Holland' 'Poland' 'Dubai']\n"
     ]
    }
   ],
   "source": [
    "country_names = ramen.Country.unique()\n",
    "print(country_names)\n",
    "\n",
    "def assign_region(country: str) -> str:\n",
    "\n",
    "    # Define regions as a dictionary for better maintainability\n",
    "    regions = {\n",
    "        'North America': ['USA', 'United States', 'Mexico', 'Canada'],\n",
    "        'South America': ['Colombia', 'Brazil'],\n",
    "        'Asia': [\n",
    "            'Pakistan', 'Vietnam', 'Japan', 'Taiwan', 'South Korea', 'Singapore', \n",
    "            'Thailand', 'Hong Kong', 'Myanmar', 'Nepal', 'Malaysia', 'Singapore', \n",
    "            'China', 'Sarawak', 'Phillipines', 'Dubai'\n",
    "        ],\n",
    "        'Europe': ['Germany', 'Hungary', 'Holland', 'Poland', 'Finland'],\n",
    "        'Africa': ['Ghana']\n",
    "    }\n",
    "    \n",
    "    # Check each region for the country\n",
    "    for region, countries in regions.items():\n",
    "        if country in countries:\n",
    "            return region\n",
    "    \n",
    "    # Default to Oceania if not found in any other region\n",
    "    return 'Oceania'\n",
    "\n",
    "# Apply the function to create the Region column\n",
    "ramen['Region'] = ramen.Country.apply(assign_region)\n",
    "\n",
    "# Create dummy variables for the Region column\n",
    "region_values = pd.get_dummies(ramen.Region)"
   ]
  },
  {
   "cell_type": "code",
   "execution_count": 290,
   "id": "336cf72f",
   "metadata": {},
   "outputs": [
    {
     "name": "stdout",
     "output_type": "stream",
     "text": [
      "Number of Beef Ramen Products Reviewed: 232\n",
      "Number of Chicken Ramen Products Reviewed: 323\n",
      "Number of Pork Ramen Products Reviewed: 102\n",
      "Ramen Products Reviewed of Other Flavors: 1924\n"
     ]
    }
   ],
   "source": [
    "#Defining Functions which would categorize the ramen into various flavors such as whether it's spicy, chicken, beef, pork, etc. \n",
    "\n",
    "def spicy_indicator(x): \n",
    "    if 'Spicy' in x or 'Hot' in x: \n",
    "        return 1\n",
    "    else: \n",
    "        return 0\n",
    "def chicken_indicator(x): \n",
    "    if 'Chicken' in x: \n",
    "        return 1\n",
    "    else: return 0 \n",
    "    \n",
    "def pork_indicator(x):\n",
    "    if 'Pork' in x: \n",
    "        return 1\n",
    "    else:\n",
    "        return 0 \n",
    "    \n",
    "def beef_indicator(x): \n",
    "    if 'Beef' in x or 'Oxtain' in x:\n",
    "        return 1 \n",
    "    else: \n",
    "        return 0 \n",
    "    \n",
    "def other_indicator(x): \n",
    "    if 'Chicken' in x:\n",
    "        return 0 \n",
    "    elif 'Beef' in x: \n",
    "        return 0 \n",
    "    elif 'Pork' in x: \n",
    "        return 0 \n",
    "    else: \n",
    "        return 1\n",
    "\n",
    "ramen['Spicy'] = ramen.Variety.apply(func = spicy_indicator)\n",
    "ramen['Chicken'] = ramen.Variety.apply(func = chicken_indicator)\n",
    "ramen['Beef'] = ramen.Variety.apply(func = beef_indicator)\n",
    "ramen['Pork'] = ramen.Variety.apply(func = pork_indicator)\n",
    "ramen['Other'] = ramen.Variety.apply(func = other_indicator)\n",
    "\n",
    "print('Number of Beef Ramen Products Reviewed:', ramen.Beef.sum())\n",
    "print('Number of Chicken Ramen Products Reviewed:', ramen.Chicken.sum())\n",
    "print('Number of Pork Ramen Products Reviewed:', ramen.Pork.sum())\n",
    "print('Ramen Products Reviewed of Other Flavors:', ramen.Other.sum())"
   ]
  },
  {
   "cell_type": "code",
   "execution_count": 291,
   "id": "5cfabba4",
   "metadata": {},
   "outputs": [
    {
     "name": "stdout",
     "output_type": "stream",
     "text": [
      "['Review #', 'Brand', 'Variety', 'Style', 'Country', 'Stars', 'Top Ten', 'Region', 'Spicy', 'Chicken', 'Beef', 'Pork', 'Other', 'Bar', 'Bowl', 'Box', 'Can', 'Cup', 'Pack', 'Tray', 'Africa', 'Asia', 'Europe', 'North America', 'Oceania', 'South America']\n"
     ]
    }
   ],
   "source": [
    "#Joining all the variables into one singular DataFrame\n",
    "\n",
    "ramen = pd.concat([ramen, style_binary_values, region_values], ignore_index = False, axis=1)\n",
    "print(list(ramen))"
   ]
  },
  {
   "cell_type": "code",
   "execution_count": 292,
   "id": "7bcf127d",
   "metadata": {},
   "outputs": [
    {
     "data": {
      "text/plain": [
       "Review #          int64\n",
       "Brand            object\n",
       "Variety          object\n",
       "Style            object\n",
       "Country          object\n",
       "Stars            object\n",
       "Top Ten          object\n",
       "Region           object\n",
       "Spicy             int64\n",
       "Chicken           int64\n",
       "Beef              int64\n",
       "Pork              int64\n",
       "Other             int64\n",
       "Bar                bool\n",
       "Bowl               bool\n",
       "Box                bool\n",
       "Can                bool\n",
       "Cup                bool\n",
       "Pack               bool\n",
       "Tray               bool\n",
       "Africa             bool\n",
       "Asia               bool\n",
       "Europe             bool\n",
       "North America      bool\n",
       "Oceania            bool\n",
       "South America      bool\n",
       "dtype: object"
      ]
     },
     "execution_count": 292,
     "metadata": {},
     "output_type": "execute_result"
    }
   ],
   "source": [
    "ramen.dtypes"
   ]
  },
  {
   "cell_type": "code",
   "execution_count": 293,
   "id": "43b8bfef",
   "metadata": {},
   "outputs": [
    {
     "name": "stdout",
     "output_type": "stream",
     "text": [
      "   Review #           Brand  \\\n",
      "0      2580       New Touch   \n",
      "1      2579        Just Way   \n",
      "2      2578          Nissin   \n",
      "3      2577         Wei Lih   \n",
      "4      2576  Ching's Secret   \n",
      "5      2575   Samyang Foods   \n",
      "6      2574         Acecook   \n",
      "7      2573     Ikeda Shoku   \n",
      "8      2572      Ripe'n'Dry   \n",
      "9      2571            KOKA   \n",
      "\n",
      "                                             Variety Style      Country Stars  \\\n",
      "0                          T's Restaurant Tantanmen    Cup        Japan  3.75   \n",
      "1  Noodles Spicy Hot Sesame Spicy Hot Sesame Guan...  Pack       Taiwan     1   \n",
      "2                      Cup Noodles Chicken Vegetable   Cup          USA  2.25   \n",
      "3                      GGE Ramen Snack Tomato Flavor  Pack       Taiwan  2.75   \n",
      "4                                    Singapore Curry  Pack        India  3.75   \n",
      "5                             Kimchi song Song Ramen  Pack  South Korea  4.75   \n",
      "6                Spice Deli Tantan Men With Cilantro   Cup        Japan     4   \n",
      "7                              Nabeyaki Kitsune Udon  Tray        Japan  3.75   \n",
      "8                           Hokkaido Soy Sauce Ramen  Pack        Japan  0.25   \n",
      "9              The Original Spicy Stir-Fried Noodles  Pack    Singapore   2.5   \n",
      "\n",
      "  Top Ten         Region  Spicy  Chicken  ...    Can    Cup   Pack   Tray  \\\n",
      "0     NaN           Asia      0        0  ...  False   True  False  False   \n",
      "1     NaN           Asia      1        0  ...  False  False   True  False   \n",
      "2     NaN  North America      0        1  ...  False   True  False  False   \n",
      "3     NaN           Asia      0        0  ...  False  False   True  False   \n",
      "4     NaN        Oceania      0        0  ...  False  False   True  False   \n",
      "5     NaN           Asia      0        0  ...  False  False   True  False   \n",
      "6     NaN           Asia      0        0  ...  False   True  False  False   \n",
      "7     NaN           Asia      0        0  ...  False  False  False   True   \n",
      "8     NaN           Asia      0        0  ...  False  False   True  False   \n",
      "9     NaN           Asia      1        0  ...  False  False   True  False   \n",
      "\n",
      "   Africa   Asia  Europe  North America  Oceania  South America  \n",
      "0   False   True   False          False    False          False  \n",
      "1   False   True   False          False    False          False  \n",
      "2   False  False   False           True    False          False  \n",
      "3   False   True   False          False    False          False  \n",
      "4   False  False   False          False     True          False  \n",
      "5   False   True   False          False    False          False  \n",
      "6   False   True   False          False    False          False  \n",
      "7   False   True   False          False    False          False  \n",
      "8   False   True   False          False    False          False  \n",
      "9   False   True   False          False    False          False  \n",
      "\n",
      "[10 rows x 26 columns]\n"
     ]
    }
   ],
   "source": [
    "print(ramen.head(10))"
   ]
  },
  {
   "cell_type": "code",
   "execution_count": 294,
   "id": "4ab90c9d",
   "metadata": {},
   "outputs": [
    {
     "name": "stdout",
     "output_type": "stream",
     "text": [
      "There are 0 null values.\n"
     ]
    },
    {
     "data": {
      "image/png": "[encoded data removed]",
      "text/plain": [
       "<Figure size 640x480 with 1 Axes>"
      ]
     },
     "metadata": {},
     "output_type": "display_data"
    },
    {
     "data": {
      "image/png": "[encoded data removed]",
      "text/plain": [
       "<Figure size 640x480 with 1 Axes>"
      ]
     },
     "metadata": {},
     "output_type": "display_data"
    },
    {
     "name": "stdout",
     "output_type": "stream",
     "text": [
      "The average rating is 3.65 stars.\n",
      "The median rating is 3.75 stars.\n",
      "The standard deviation is 1.02 stars.\n",
      "The lowest rating is 0.0 stars.\n",
      "THe highest rating is 5.0 stars.\n"
     ]
    },
    {
     "data": {
      "text/plain": [
       "<Figure size 640x480 with 0 Axes>"
      ]
     },
     "metadata": {},
     "output_type": "display_data"
    }
   ],
   "source": [
    "# Converting the Stars column to a float since it's currently an object in Pandas\n",
    "\n",
    "ramen.Stars = pd.to_numeric(ramen.Stars, errors = 'coerce')\n",
    "ramen.dropna(subset = ['Stars'], axis = 0, inplace = True)\n",
    "print(\"There are\", ramen.Stars.isna().sum(), \"null values.\")\n",
    "\n",
    "plt.hist(ramen.Stars, bins = 15, color = '#EAE061', edgecolor = 'black')\n",
    "plt.show()\n",
    "plt.clf()\n",
    "\n",
    "sns.boxplot(x = ramen.Stars, color = '#EAE061')\n",
    "plt.show()\n",
    "plt.clf()\n",
    "\n",
    "median_stars = ramen.Stars.median()\n",
    "mean_stars = ramen.Stars.mean()\n",
    "std_stars = ramen.Stars.std()\n",
    "\n",
    "\n",
    "minimum_star_rating = ramen.Stars.min()\n",
    "maximum_star_rating = ramen.Stars.max()\n",
    "\n",
    "print(\"The average rating is\", round(mean_stars, 2), \"stars.\")\n",
    "print(\"The median rating is\", round(median_stars, 2), \"stars.\")\n",
    "print(\"The standard deviation is\", round(std_stars, 2), \"stars.\")\n",
    "\n",
    "print(\"The lowest rating is\", round(minimum_star_rating, 2), \"stars.\")\n",
    "print(\"THe highest rating is\", round(maximum_star_rating, 2), \"stars.\")"
   ]
  },
  {
   "cell_type": "code",
   "execution_count": 295,
   "id": "ac7ce449",
   "metadata": {},
   "outputs": [
    {
     "name": "stdout",
     "output_type": "stream",
     "text": [
      "Region\n",
      "Africa           3.500000\n",
      "Asia             3.746866\n",
      "Europe           3.622340\n",
      "North America    3.347756\n",
      "Oceania          3.518373\n",
      "South America    3.772727\n",
      "Name: Stars, dtype: float64\n"
     ]
    }
   ],
   "source": [
    "#Average Ratings Grouped by Continent\n",
    "\n",
    "ramen_reviewers = ramen.Country.unique()\n",
    "regional_average_rating = ramen.groupby('Region').Stars.mean()\n",
    "print(regional_average_rating)"
   ]
  },
  {
   "cell_type": "code",
   "execution_count": 296,
   "id": "0e149f8c",
   "metadata": {},
   "outputs": [
    {
     "name": "stdout",
     "output_type": "stream",
     "text": [
      "Region\n",
      "Africa              2\n",
      "Asia             1795\n",
      "Europe             47\n",
      "North America     390\n",
      "Oceania           332\n",
      "South America      11\n",
      "Name: Region, dtype: int64\n"
     ]
    }
   ],
   "source": [
    "print(ramen.groupby('Region').Region.count())"
   ]
  },
  {
   "cell_type": "code",
   "execution_count": 297,
   "id": "b8df823e",
   "metadata": {},
   "outputs": [
    {
     "name": "stdout",
     "output_type": "stream",
     "text": [
      "Style\n",
      "Bar        1\n",
      "Bowl     481\n",
      "Box        6\n",
      "Can        1\n",
      "Cup      450\n",
      "Pack    1528\n",
      "Tray     108\n",
      "Name: Style, dtype: int64\n"
     ]
    }
   ],
   "source": [
    "print(ramen.groupby('Style').Style.count())"
   ]
  },
  {
   "cell_type": "code",
   "execution_count": 298,
   "id": "61724603",
   "metadata": {},
   "outputs": [
    {
     "name": "stdout",
     "output_type": "stream",
     "text": [
      "Style\n",
      "Bar     5.000000\n",
      "Bowl    3.670686\n",
      "Box     4.291667\n",
      "Can     3.500000\n",
      "Cup     3.498500\n",
      "Pack    3.700458\n",
      "Tray    3.545139\n",
      "Name: Stars, dtype: float64\n"
     ]
    }
   ],
   "source": [
    "style_averages = ramen.groupby('Style').Stars.mean()\n",
    "print(style_averages)"
   ]
  },
  {
   "cell_type": "markdown",
   "id": "3ee393cb",
   "metadata": {},
   "source": [
    "I conducted a multiple linear regression to examine how ramen characteristics influence overall ratings. The dependent variable is the reviewer’s overall rating, while the independent variables include flavor type, country of production, and packaging style. To avoid multicollinearity, one category from each set of dummies is used as the reference group:\n",
    "\n",
    "Country: Oceania (reference)\n",
    "\n",
    "Flavor: Other (non-chicken, beef, or pork)\n",
    "\n",
    "Packaging: Pack ramen\n",
    "\n",
    "This model allows us to estimate how each factor is associated with changes in ramen ratings relative to its respective baseline category."
   ]
  },
  {
   "cell_type": "code",
   "execution_count": 300,
   "id": "439d91a0",
   "metadata": {
    "scrolled": true
   },
   "outputs": [
    {
     "name": "stdout",
     "output_type": "stream",
     "text": [
      "                            OLS Regression Results                            \n",
      "==============================================================================\n",
      "Dep. Variable:                  Stars   R-squared:                       0.036\n",
      "Model:                            OLS   Adj. R-squared:                  0.030\n",
      "Method:                 Least Squares   F-statistic:                     6.358\n",
      "Date:                Thu, 28 Aug 2025   Prob (F-statistic):           1.87e-13\n",
      "Time:                        00:34:42   Log-Likelihood:                -3648.2\n",
      "No. Observations:                2577   AIC:                             7328.\n",
      "Df Residuals:                    2561   BIC:                             7422.\n",
      "Df Model:                          15                                         \n",
      "Covariance Type:            nonrobust                                         \n",
      "=================================================================================\n",
      "                    coef    std err          t      P>|t|      [0.025      0.975]\n",
      "---------------------------------------------------------------------------------\n",
      "const             3.6151      0.059     61.674      0.000       3.500       3.730\n",
      "Bowl             -0.0312      0.053     -0.586      0.558      -0.136       0.073\n",
      "Box               0.6016      0.409      1.470      0.142      -0.201       1.404\n",
      "Can               0.2528      1.003      0.252      0.801      -1.713       2.219\n",
      "Cup              -0.1372      0.054     -2.527      0.012      -0.244      -0.031\n",
      "Bar               1.5192      1.002      1.517      0.129      -0.445       3.483\n",
      "Tray             -0.0586      0.102     -0.573      0.566      -0.259       0.142\n",
      "North America    -0.1342      0.077     -1.743      0.082      -0.285       0.017\n",
      "Africa            0.0652      0.712      0.092      0.927      -1.331       1.462\n",
      "South America     0.2200      0.307      0.717      0.474      -0.382       0.822\n",
      "Europe            0.0877      0.156      0.562      0.574      -0.218       0.393\n",
      "Asia              0.2045      0.061      3.333      0.001       0.084       0.325\n",
      "Spicy             0.0112      0.059      0.188      0.851      -0.105       0.128\n",
      "Chicken          -0.2337      0.062     -3.767      0.000      -0.355      -0.112\n",
      "Beef             -0.1803      0.070     -2.557      0.011      -0.318      -0.042\n",
      "Pork             -0.2754      0.102     -2.700      0.007      -0.475      -0.075\n",
      "==============================================================================\n",
      "Omnibus:                      470.688   Durbin-Watson:                   1.735\n",
      "Prob(Omnibus):                  0.000   Jarque-Bera (JB):              896.759\n",
      "Skew:                          -1.110   Prob(JB):                    1.87e-195\n",
      "Kurtosis:                       4.850   Cond. No.                         66.0\n",
      "==============================================================================\n",
      "\n",
      "Notes:\n",
      "[1] Standard Errors assume that the covariance matrix of the errors is correctly specified.\n"
     ]
    }
   ],
   "source": [
    "# Multiple Linear Regression Model\n",
    "\n",
    "x = ramen[['Bowl', 'Box', 'Can', 'Cup', 'Bar', 'Tray','Spicy', 'Chicken', 'Beef', 'Pork', 'Africa', 'Asia', 'Europe', 'North America', 'Oceania', 'South America']]\n",
    "y = ramen['Stars']\n",
    "\n",
    "\n",
    "# Your columns\n",
    "X = ramen[['Bowl','Box','Can','Cup','Bar','Tray',\n",
    "           'North America','Africa','South America','Europe','Asia',\n",
    "           'Spicy','Chicken','Beef','Pork']].copy()\n",
    "y = ramen['Stars'].copy()\n",
    "\n",
    "# 0) Normalize common string placeholders\n",
    "X = X.replace(['', 'NA', 'N/A', 'None', '-', 'null'], np.nan)\n",
    "y = y.replace(['', 'NA', 'N/A', 'None', '-', 'null'], np.nan)\n",
    "\n",
    "for c in X.columns:\n",
    "    if pd.api.types.is_bool_dtype(X[c]) or str(X[c].dtype) == 'boolean':\n",
    "        X[c] = X[c].astype('float64')  # True/False/NA -> 1.0/0.0/NaN\n",
    "\n",
    "obj_cols = [c for c in X.columns if X[c].dtype == 'O']\n",
    "for c in obj_cols:\n",
    "    s = X[c].astype(str).str.strip().str.lower()\n",
    "    s = s.replace({'true':'1', 'false':'0', 't':'1', 'f':'0'})\n",
    "    s = s.str.replace(',', '', regex=False) \n",
    "    X[c] = pd.to_numeric(s, errors='coerce')\n",
    "\n",
    "X_np = X.to_numpy(dtype='float64')\n",
    "X_np = sm.add_constant(X_np, has_constant='add')\n",
    "y_np = y.to_numpy(dtype='float64')\n",
    "\n",
    "feat_order = ['Bowl','Box','Can','Cup','Bar','Tray',\n",
    "              'North America','Africa','South America','Europe','Asia',\n",
    "              'Spicy','Chicken','Beef','Pork']\n",
    "\n",
    "# Start from your numeric X (without const):\n",
    "X_df = pd.DataFrame(X, columns=feat_order).astype('float64')\n",
    "\n",
    "# Now add the const (once)\n",
    "X_df = sm.add_constant(X_df, has_constant='add')\n",
    "\n",
    "model = sm.OLS(y.astype('float64'), X_df).fit()\n",
    "print(model.summary())"
   ]
  },
  {
   "cell_type": "markdown",
   "id": "4ea49314-d20e-484c-a263-5d528bd3dafc",
   "metadata": {},
   "source": [
    "Based on this multiple linear regression model, we see that there's a positive correlation between whether a product in made in Asia or not and the corresponding number of stars that ramen product received. There's a negative relationship between chicken, beef, and pork flavors and their corresponding ramen ratings as there is a negative coefficient for each flavor. "
   ]
  },
  {
   "cell_type": "markdown",
   "id": "abca5665-1c12-46b9-be13-809aa500f77a",
   "metadata": {},
   "source": [
    "I then conducted an Analysis of Variance (ANOVA) test to see if the rating were substantially different between continents from which the ratings were given. The null hypothesis would be that ratings are the same across regions with our alternative hypothesis that there is some variation across the globe. "
   ]
  },
  {
   "cell_type": "code",
   "execution_count": 302,
   "id": "e25d4cc9",
   "metadata": {},
   "outputs": [
    {
     "name": "stdout",
     "output_type": "stream",
     "text": [
      "f-stat: 11.56464674893\n",
      "p_value 4.564468592903681e-11\n"
     ]
    }
   ],
   "source": [
    "# ANOVA evaluating average ratings by continent\n",
    "\n",
    "north_america_ratings = ramen.Stars[ramen.Region == 'North America']\n",
    "south_america_ratings = ramen.Stars[ramen.Region == 'South America']\n",
    "europe_ratings = ramen.Stars[ramen.Region == 'Europe']\n",
    "africa_ratings = ramen.Stars[ramen.Region == 'Africa']\n",
    "asia_ratings = ramen.Stars[ramen.Region == 'Asia']\n",
    "oceania_ratings = ramen.Stars[ramen.Region == 'Oceania']\n",
    "\n",
    "f_stat, p_val = f_oneway(north_america_ratings, south_america_ratings, europe_ratings, africa_ratings, asia_ratings, oceania_ratings)\n",
    "\n",
    "print('f-stat:', f_stat)\n",
    "print('p_value', p_val)"
   ]
  },
  {
   "cell_type": "markdown",
   "id": "97074564-b736-44fd-b524-8e91c26a0dcb",
   "metadata": {},
   "source": [
    "Given that our p-value has met the alpha threshold of 0.05, we are able to conclude that there is variation on an inter-continental level. Now it's time to look at which regions this variation is present. "
   ]
  },
  {
   "cell_type": "code",
   "execution_count": 303,
   "id": "3d119af2",
   "metadata": {
    "scrolled": true
   },
   "outputs": [
    {
     "name": "stdout",
     "output_type": "stream",
     "text": [
      "       Multiple Comparison of Means - Tukey HSD, FWER=0.05        \n",
      "==================================================================\n",
      "    group1        group2    meandiff p-adj   lower   upper  reject\n",
      "------------------------------------------------------------------\n",
      "       Africa          Asia   0.2469 0.9993 -1.7811  2.2748  False\n",
      "       Africa        Europe   0.1223    1.0 -1.9471  2.1918  False\n",
      "       Africa North America  -0.1522 0.9999 -2.1842  1.8798  False\n",
      "       Africa       Oceania   0.0184    1.0 -2.0145  2.0513  False\n",
      "       Africa South America   0.2727 0.9993 -1.9306  2.4761  False\n",
      "         Asia        Europe  -0.1245 0.9603 -0.5481   0.299  False\n",
      "         Asia North America  -0.3991    0.0 -0.5592  -0.239   True\n",
      "         Asia       Oceania  -0.2285  0.002 -0.3997 -0.0573   True\n",
      "         Asia South America   0.0259    1.0  -0.841  0.8927  False\n",
      "       Europe North America  -0.2746 0.4859 -0.7172   0.168  False\n",
      "       Europe       Oceania   -0.104 0.9858 -0.5507  0.3427  False\n",
      "       Europe South America   0.1504 0.9978 -0.8097  1.1104  False\n",
      "North America       Oceania   0.1706 0.2054 -0.0434  0.3847  False\n",
      "North America South America    0.425 0.7374 -0.4514  1.3013  False\n",
      "      Oceania South America   0.2544 0.9628 -0.6241  1.1328  False\n",
      "------------------------------------------------------------------\n"
     ]
    }
   ],
   "source": [
    "tukey = pairwise_tukeyhsd(endog = ramen.Stars, groups = ramen.Region, alpha = 0.05)\n",
    "print(tukey)"
   ]
  },
  {
   "cell_type": "markdown",
   "id": "f4b5272d-e385-494b-9a6c-a00bf0fd0f73",
   "metadata": {},
   "source": [
    "Here, we can see that there's a statistically significant difference in ratings overall between Asia and North America and Asia and Oceania while the relationship between other pairs remains inconclusive. "
   ]
  }
 ],
 "metadata": {
  "kernelspec": {
   "display_name": "Python [conda env:base] *",
   "language": "python",
   "name": "conda-base-py"
  },
  "language_info": {
   "codemirror_mode": {
    "name": "ipython",
    "version": 3
   },
   "file_extension": ".py",
   "mimetype": "text/x-python",
   "name": "python",
   "nbconvert_exporter": "python",
   "pygments_lexer": "ipython3",
   "version": "3.12.7"
  }
 },
 "nbformat": 4,
 "nbformat_minor": 5
}
