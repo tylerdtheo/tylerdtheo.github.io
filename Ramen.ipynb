{
 "cells": [
  {
   "cell_type": "code",
   "execution_count": 144,
   "id": "fa642ae8",
   "metadata": {},
   "outputs": [],
   "source": [
    "import pandas as pd \n",
    "import numpy as np\n",
    "import matplotlib.pyplot as plt \n",
    "from scipy.stats import pearsonr, chi2_contingency\n",
    "from sklearn.linear_model import LinearRegression\n",
    "from sklearn.model_selection import train_test_split\n",
    "import seaborn as sns\n",
    "import statsmodels.api as sm \n",
    "from statsmodels.stats.multicomp import pairwise_tukeyhsd\n",
    "from scipy.stats import f_oneway\n",
    "\n",
    "ramen = pd.read_csv(r\"C:\\Users\\tyler\\Downloads\\ramen-ratings.csv\")"
   ]
  },
  {
   "cell_type": "code",
   "execution_count": 145,
   "id": "49e69add",
   "metadata": {},
   "outputs": [
    {
     "name": "stdout",
     "output_type": "stream",
     "text": [
      "   Review #           Brand  \\\n",
      "0      2580       New Touch   \n",
      "1      2579        Just Way   \n",
      "2      2578          Nissin   \n",
      "3      2577         Wei Lih   \n",
      "4      2576  Ching's Secret   \n",
      "\n",
      "                                             Variety Style Country Stars  \\\n",
      "0                          T's Restaurant Tantanmen    Cup   Japan  3.75   \n",
      "1  Noodles Spicy Hot Sesame Spicy Hot Sesame Guan...  Pack  Taiwan     1   \n",
      "2                      Cup Noodles Chicken Vegetable   Cup     USA  2.25   \n",
      "3                      GGE Ramen Snack Tomato Flavor  Pack  Taiwan  2.75   \n",
      "4                                    Singapore Curry  Pack   India  3.75   \n",
      "\n",
      "  Top Ten  \n",
      "0     NaN  \n",
      "1     NaN  \n",
      "2     NaN  \n",
      "3     NaN  \n",
      "4     NaN  \n",
      "          Review #\n",
      "count  2580.000000\n",
      "mean   1290.500000\n",
      "std     744.926171\n",
      "min       1.000000\n",
      "25%     645.750000\n",
      "50%    1290.500000\n",
      "75%    1935.250000\n",
      "max    2580.000000\n",
      "0       3.75\n",
      "1          1\n",
      "2       2.25\n",
      "3       2.75\n",
      "4       3.75\n",
      "        ... \n",
      "2575     3.5\n",
      "2576       1\n",
      "2577       2\n",
      "2578       2\n",
      "2579     0.5\n",
      "Name: Stars, Length: 2580, dtype: object\n",
      "[nan '2016 #10' '2016 #1' '2016 #8' '2016 #5' '2016 #9' '2016 #7'\n",
      " '2015 #10' '2015 #7' '2015 #4' '2015 #9' '2015 #6' '2015 #1' '2013 #10'\n",
      " '2015 #8' '2014 #7' '2014 #4' '2014 #9' '2014 #10' '2014 #8' '2014 #5'\n",
      " '2014 #6' '2014 #1' '2013 #1' '2013 #2' '2013 #4' '\\n' '2013 #9'\n",
      " '2013 #3' '2012 #10' '2012 #7' '2012 #5' '2012 #3' '2012 #6' '2012 #9'\n",
      " '2012 #1' '2012 #2' '2013 #6' '2012 #4']\n"
     ]
    }
   ],
   "source": [
    "print(ramen.head())\n",
    "columns = list(ramen)\n",
    "print(ramen.describe())\n",
    "print(ramen.Stars)\n",
    "print(ramen['Top Ten'].unique())"
   ]
  },
  {
   "cell_type": "markdown",
   "id": "2b4f7514",
   "metadata": {},
   "source": [
    "Generating binary values of the Style column so they can be used in a regression model later on! Binary values are also calculated for the packaging style, as well as the region/continent and  "
   ]
  },
  {
   "cell_type": "code",
   "execution_count": 146,
   "id": "0ab5afb6",
   "metadata": {},
   "outputs": [],
   "source": [
    "style_binary_values = pd.get_dummies(ramen.Style)"
   ]
  },
  {
   "cell_type": "code",
   "execution_count": 147,
   "id": "66fd9940",
   "metadata": {},
   "outputs": [
    {
     "name": "stdout",
     "output_type": "stream",
     "text": [
      "['Japan' 'Taiwan' 'USA' 'India' 'South Korea' 'Singapore' 'Thailand'\n",
      " 'Hong Kong' 'Vietnam' 'Ghana' 'Malaysia' 'Indonesia' 'China' 'Nigeria'\n",
      " 'Germany' 'Hungary' 'Mexico' 'Fiji' 'Australia' 'Pakistan' 'Bangladesh'\n",
      " 'Canada' 'Nepal' 'Brazil' 'UK' 'Myanmar' 'Netherlands' 'United States'\n",
      " 'Cambodia' 'Finland' 'Sarawak' 'Philippines' 'Sweden' 'Colombia'\n",
      " 'Estonia' 'Holland' 'Poland' 'Dubai']\n"
     ]
    }
   ],
   "source": [
    "country_names = ramen.Country.unique()\n",
    "print(country_names)\n",
    "\n",
    "def region_assignment(x): \n",
    "    if x in ['USA', 'United States', 'Mexico', 'Canada']: \n",
    "        return 'North America'\n",
    "    elif x in ['Colombia', 'Brazil']:\n",
    "        return 'South America'\n",
    "    elif x in ['Pakistan', 'Vietnam', 'Japan', 'Taiwan', 'South Korea', 'Singapore', 'Thailand', \n",
    "               'Hong Kong', 'Myanmar', 'Nepal', 'Malaysia', 'Singapore', \n",
    "               'China', 'Sarawak', 'Phillipines', 'Dubai']:\n",
    "        return 'Asia'\n",
    "    elif x in ['Germany', 'Hungary', 'Holland', 'Poland', 'Finland']:\n",
    "        return 'Europe'\n",
    "    elif x in ['Ghana']: \n",
    "        return 'Africa'\n",
    "    else: \n",
    "        return 'Oceania'\n",
    "    \n",
    "ramen['Region'] = ramen.Country.apply(func = region_assignment)\n",
    "\n",
    "region_values = pd.get_dummies(ramen.Region)"
   ]
  },
  {
   "cell_type": "code",
   "execution_count": 148,
   "id": "336cf72f",
   "metadata": {},
   "outputs": [
    {
     "name": "stdout",
     "output_type": "stream",
     "text": [
      "Number of Beef Ramen Products Reviewed: 232\n",
      "Number of Chicken Ramen Products Reviewed: 323\n",
      "Number of Pork Ramen Products Reviewed: 102\n",
      "Ramen Products Reviewed of Other Flavors: 1924\n"
     ]
    }
   ],
   "source": [
    "def spicy_indicator(x): \n",
    "    if 'Spicy' in x or 'Hot' in x: \n",
    "        return 1\n",
    "    else: \n",
    "        return 0\n",
    "def chicken_indicator(x): \n",
    "    if 'Chicken' in x: \n",
    "        return 1\n",
    "    else: return 0 \n",
    "    \n",
    "def pork_indicator(x):\n",
    "    if 'Pork' in x: \n",
    "        return 1\n",
    "    else:\n",
    "        return 0 \n",
    "    \n",
    "def beef_indicator(x): \n",
    "    if 'Beef' in x or 'Oxtain' in x:\n",
    "        return 1 \n",
    "    else: \n",
    "        return 0 \n",
    "    \n",
    "def other_indicator(x): \n",
    "    if 'Chicken' in x:\n",
    "        return 0 \n",
    "    elif 'Beef' in x: \n",
    "        return 0 \n",
    "    elif 'Pork' in x: \n",
    "        return 0 \n",
    "    else: \n",
    "        return 1\n",
    "\n",
    "ramen['Spicy'] = ramen.Variety.apply(func = spicy_indicator)\n",
    "ramen['Chicken'] = ramen.Variety.apply(func = chicken_indicator)\n",
    "ramen['Beef'] = ramen.Variety.apply(func = beef_indicator)\n",
    "ramen['Pork'] = ramen.Variety.apply(func = pork_indicator)\n",
    "ramen['Other'] = ramen.Variety.apply(func = other_indicator)\n",
    "\n",
    "print('Number of Beef Ramen Products Reviewed:', ramen.Beef.sum())\n",
    "print('Number of Chicken Ramen Products Reviewed:', ramen.Chicken.sum())\n",
    "print('Number of Pork Ramen Products Reviewed:', ramen.Pork.sum())\n",
    "print('Ramen Products Reviewed of Other Flavors:', ramen.Other.sum())"
   ]
  },
  {
   "cell_type": "code",
   "execution_count": 149,
   "id": "5cfabba4",
   "metadata": {},
   "outputs": [
    {
     "name": "stdout",
     "output_type": "stream",
     "text": [
      "['Review #', 'Brand', 'Variety', 'Style', 'Country', 'Stars', 'Top Ten', 'Region', 'Spicy', 'Chicken', 'Beef', 'Pork', 'Other', 'Bar', 'Bowl', 'Box', 'Can', 'Cup', 'Pack', 'Tray', 'Africa', 'Asia', 'Europe', 'North America', 'Oceania', 'South America']\n"
     ]
    }
   ],
   "source": [
    "ramen = pd.concat([ramen, style_binary_values, region_values], ignore_index = False, axis=1)\n",
    "print(list(ramen))"
   ]
  },
  {
   "cell_type": "code",
   "execution_count": 150,
   "id": "7bcf127d",
   "metadata": {},
   "outputs": [
    {
     "data": {
      "text/plain": [
       "Review #          int64\n",
       "Brand            object\n",
       "Variety          object\n",
       "Style            object\n",
       "Country          object\n",
       "Stars            object\n",
       "Top Ten          object\n",
       "Region           object\n",
       "Spicy             int64\n",
       "Chicken           int64\n",
       "Beef              int64\n",
       "Pork              int64\n",
       "Other             int64\n",
       "Bar               uint8\n",
       "Bowl              uint8\n",
       "Box               uint8\n",
       "Can               uint8\n",
       "Cup               uint8\n",
       "Pack              uint8\n",
       "Tray              uint8\n",
       "Africa            uint8\n",
       "Asia              uint8\n",
       "Europe            uint8\n",
       "North America     uint8\n",
       "Oceania           uint8\n",
       "South America     uint8\n",
       "dtype: object"
      ]
     },
     "execution_count": 150,
     "metadata": {},
     "output_type": "execute_result"
    }
   ],
   "source": [
    "ramen.dtypes"
   ]
  },
  {
   "cell_type": "code",
   "execution_count": 151,
   "id": "43b8bfef",
   "metadata": {},
   "outputs": [
    {
     "name": "stdout",
     "output_type": "stream",
     "text": [
      "   Review #           Brand  \\\n",
      "0      2580       New Touch   \n",
      "1      2579        Just Way   \n",
      "2      2578          Nissin   \n",
      "3      2577         Wei Lih   \n",
      "4      2576  Ching's Secret   \n",
      "5      2575   Samyang Foods   \n",
      "6      2574         Acecook   \n",
      "7      2573     Ikeda Shoku   \n",
      "8      2572      Ripe'n'Dry   \n",
      "9      2571            KOKA   \n",
      "\n",
      "                                             Variety Style      Country Stars  \\\n",
      "0                          T's Restaurant Tantanmen    Cup        Japan  3.75   \n",
      "1  Noodles Spicy Hot Sesame Spicy Hot Sesame Guan...  Pack       Taiwan     1   \n",
      "2                      Cup Noodles Chicken Vegetable   Cup          USA  2.25   \n",
      "3                      GGE Ramen Snack Tomato Flavor  Pack       Taiwan  2.75   \n",
      "4                                    Singapore Curry  Pack        India  3.75   \n",
      "5                             Kimchi song Song Ramen  Pack  South Korea  4.75   \n",
      "6                Spice Deli Tantan Men With Cilantro   Cup        Japan     4   \n",
      "7                              Nabeyaki Kitsune Udon  Tray        Japan  3.75   \n",
      "8                           Hokkaido Soy Sauce Ramen  Pack        Japan  0.25   \n",
      "9              The Original Spicy Stir-Fried Noodles  Pack    Singapore   2.5   \n",
      "\n",
      "  Top Ten         Region  Spicy  Chicken  ...  Can  Cup  Pack  Tray  Africa  \\\n",
      "0     NaN           Asia      0        0  ...    0    1     0     0       0   \n",
      "1     NaN           Asia      1        0  ...    0    0     1     0       0   \n",
      "2     NaN  North America      0        1  ...    0    1     0     0       0   \n",
      "3     NaN           Asia      0        0  ...    0    0     1     0       0   \n",
      "4     NaN        Oceania      0        0  ...    0    0     1     0       0   \n",
      "5     NaN           Asia      0        0  ...    0    0     1     0       0   \n",
      "6     NaN           Asia      0        0  ...    0    1     0     0       0   \n",
      "7     NaN           Asia      0        0  ...    0    0     0     1       0   \n",
      "8     NaN           Asia      0        0  ...    0    0     1     0       0   \n",
      "9     NaN           Asia      1        0  ...    0    0     1     0       0   \n",
      "\n",
      "   Asia  Europe  North America  Oceania  South America  \n",
      "0     1       0              0        0              0  \n",
      "1     1       0              0        0              0  \n",
      "2     0       0              1        0              0  \n",
      "3     1       0              0        0              0  \n",
      "4     0       0              0        1              0  \n",
      "5     1       0              0        0              0  \n",
      "6     1       0              0        0              0  \n",
      "7     1       0              0        0              0  \n",
      "8     1       0              0        0              0  \n",
      "9     1       0              0        0              0  \n",
      "\n",
      "[10 rows x 26 columns]\n"
     ]
    }
   ],
   "source": [
    "print(ramen.head(10))"
   ]
  },
  {
   "cell_type": "code",
   "execution_count": 152,
   "id": "4ab90c9d",
   "metadata": {},
   "outputs": [
    {
     "name": "stdout",
     "output_type": "stream",
     "text": [
      "0       3.75\n",
      "1       1.00\n",
      "2       2.25\n",
      "3       2.75\n",
      "4       3.75\n",
      "        ... \n",
      "2575    3.50\n",
      "2576    1.00\n",
      "2577    2.00\n",
      "2578    2.00\n",
      "2579    0.50\n",
      "Name: Stars, Length: 2580, dtype: float64\n",
      "There are 0 null values.\n"
     ]
    },
    {
     "data": {
      "image/png": "[encoded data removed]",
      "text/plain": [
       "<Figure size 432x288 with 1 Axes>"
      ]
     },
     "metadata": {
      "needs_background": "light"
     },
     "output_type": "display_data"
    },
    {
     "data": {
      "image/png": "[encoded data removed]",
      "text/plain": [
       "<Figure size 432x288 with 1 Axes>"
      ]
     },
     "metadata": {
      "needs_background": "light"
     },
     "output_type": "display_data"
    },
    {
     "name": "stdout",
     "output_type": "stream",
     "text": [
      "The average rating is 3.65 stars.\n",
      "The median rating is 3.75 stars.\n",
      "The standard deviation is 1.02 stars.\n",
      "The lowest rating is 0.0 stars.\n",
      "THe highest rating is 5.0 stars.\n"
     ]
    },
    {
     "data": {
      "text/plain": [
       "<Figure size 432x288 with 0 Axes>"
      ]
     },
     "metadata": {},
     "output_type": "display_data"
    }
   ],
   "source": [
    "ramen.Stars = pd.to_numeric(ramen.Stars, errors = 'coerce')\n",
    "print(ramen.Stars)\n",
    "ramen.dropna(subset = ['Stars'], axis = 0, inplace = True)\n",
    "print(\"There are\", ramen.Stars.isna().sum(), \"null values.\")\n",
    "\n",
    "plt.hist(ramen.Stars, bins = 15, color = '#EAE061', edgecolor = 'black')\n",
    "plt.show()\n",
    "plt.clf()\n",
    "\n",
    "sns.boxplot(x = ramen.Stars, color = '#EAE061')\n",
    "plt.show()\n",
    "plt.clf()\n",
    "\n",
    "median_stars = ramen.Stars.median()\n",
    "mean_stars = ramen.Stars.mean()\n",
    "std_stars = ramen.Stars.std()\n",
    "\n",
    "\n",
    "minimum_star_rating = ramen.Stars.min()\n",
    "maximum_star_rating = ramen.Stars.max()\n",
    "\n",
    "print(\"The average rating is\", round(mean_stars, 2), \"stars.\")\n",
    "print(\"The median rating is\", round(median_stars, 2), \"stars.\")\n",
    "print(\"The standard deviation is\", round(std_stars, 2), \"stars.\")\n",
    "\n",
    "print(\"The lowest rating is\", round(minimum_star_rating, 2), \"stars.\")\n",
    "print(\"THe highest rating is\", round(maximum_star_rating, 2), \"stars.\")"
   ]
  },
  {
   "cell_type": "code",
   "execution_count": 153,
   "id": "ac7ce449",
   "metadata": {},
   "outputs": [
    {
     "name": "stdout",
     "output_type": "stream",
     "text": [
      "Region\n",
      "Africa           3.500000\n",
      "Asia             3.746866\n",
      "Europe           3.622340\n",
      "North America    3.347756\n",
      "Oceania          3.518373\n",
      "South America    3.772727\n",
      "Name: Stars, dtype: float64\n"
     ]
    }
   ],
   "source": [
    "ramen_reviewers = ramen.Country.unique()\n",
    "regional_average_rating = ramen.groupby('Region').Stars.mean()\n",
    "print(regional_average_rating)"
   ]
  },
  {
   "cell_type": "code",
   "execution_count": 154,
   "id": "0e149f8c",
   "metadata": {},
   "outputs": [
    {
     "name": "stdout",
     "output_type": "stream",
     "text": [
      "Region\n",
      "Africa              2\n",
      "Asia             1795\n",
      "Europe             47\n",
      "North America     390\n",
      "Oceania           332\n",
      "South America      11\n",
      "Name: Region, dtype: int64\n"
     ]
    }
   ],
   "source": [
    "print(ramen.groupby('Region').Region.count())"
   ]
  },
  {
   "cell_type": "code",
   "execution_count": 155,
   "id": "b8df823e",
   "metadata": {},
   "outputs": [
    {
     "name": "stdout",
     "output_type": "stream",
     "text": [
      "Style\n",
      "Bar        1\n",
      "Bowl     481\n",
      "Box        6\n",
      "Can        1\n",
      "Cup      450\n",
      "Pack    1528\n",
      "Tray     108\n",
      "Name: Style, dtype: int64\n"
     ]
    }
   ],
   "source": [
    "print(ramen.groupby('Style').Style.count())"
   ]
  },
  {
   "cell_type": "code",
   "execution_count": 156,
   "id": "61724603",
   "metadata": {},
   "outputs": [
    {
     "name": "stdout",
     "output_type": "stream",
     "text": [
      "Style\n",
      "Bar     5.000000\n",
      "Bowl    3.670686\n",
      "Box     4.291667\n",
      "Can     3.500000\n",
      "Cup     3.498500\n",
      "Pack    3.700458\n",
      "Tray    3.545139\n",
      "Name: Stars, dtype: float64\n"
     ]
    }
   ],
   "source": [
    "style_averages = ramen.groupby('Style').Stars.mean()\n",
    "print(style_averages)"
   ]
  },
  {
   "cell_type": "markdown",
   "id": "3ee393cb",
   "metadata": {},
   "source": [
    "Now I conducted a multiple linear regression looking at the relationship between the flavor of ramen, the country it was produced, the packaging style of ramen, and the overall rating a reviewer assigns said product, which serves as the dependent variable in this analysis. For each independent variable, a specific variable is left out for reference (in this case, \"Oceania,\" \"Other (ramen that's not chicken, beef, or pork)\", and \"Pack\" ramen. "
   ]
  },
  {
   "cell_type": "code",
   "execution_count": 157,
   "id": "439d91a0",
   "metadata": {},
   "outputs": [
    {
     "name": "stderr",
     "output_type": "stream",
     "text": [
      "C:\\Users\\tyler\\anaconda3\\lib\\site-packages\\statsmodels\\tsa\\tsatools.py:142: FutureWarning: In a future version of pandas all arguments of concat except for the argument 'objs' will be keyword-only\n",
      "  x = pd.concat(x[::order], 1)\n"
     ]
    },
    {
     "data": {
      "text/html": [
       "<table class=\"simpletable\">\n",
       "<caption>OLS Regression Results</caption>\n",
       "<tr>\n",
       "  <th>Dep. Variable:</th>          <td>Stars</td>      <th>  R-squared:         </th> <td>   0.036</td>\n",
       "</tr>\n",
       "<tr>\n",
       "  <th>Model:</th>                   <td>OLS</td>       <th>  Adj. R-squared:    </th> <td>   0.030</td>\n",
       "</tr>\n",
       "<tr>\n",
       "  <th>Method:</th>             <td>Least Squares</td>  <th>  F-statistic:       </th> <td>   6.358</td>\n",
       "</tr>\n",
       "<tr>\n",
       "  <th>Date:</th>             <td>Mon, 29 Aug 2022</td> <th>  Prob (F-statistic):</th> <td>1.87e-13</td>\n",
       "</tr>\n",
       "<tr>\n",
       "  <th>Time:</th>                 <td>22:15:23</td>     <th>  Log-Likelihood:    </th> <td> -3648.2</td>\n",
       "</tr>\n",
       "<tr>\n",
       "  <th>No. Observations:</th>      <td>  2577</td>      <th>  AIC:               </th> <td>   7328.</td>\n",
       "</tr>\n",
       "<tr>\n",
       "  <th>Df Residuals:</th>          <td>  2561</td>      <th>  BIC:               </th> <td>   7422.</td>\n",
       "</tr>\n",
       "<tr>\n",
       "  <th>Df Model:</th>              <td>    15</td>      <th>                     </th>     <td> </td>   \n",
       "</tr>\n",
       "<tr>\n",
       "  <th>Covariance Type:</th>      <td>nonrobust</td>    <th>                     </th>     <td> </td>   \n",
       "</tr>\n",
       "</table>\n",
       "<table class=\"simpletable\">\n",
       "<tr>\n",
       "        <td></td>           <th>coef</th>     <th>std err</th>      <th>t</th>      <th>P>|t|</th>  <th>[0.025</th>    <th>0.975]</th>  \n",
       "</tr>\n",
       "<tr>\n",
       "  <th>const</th>         <td>    3.6151</td> <td>    0.059</td> <td>   61.674</td> <td> 0.000</td> <td>    3.500</td> <td>    3.730</td>\n",
       "</tr>\n",
       "<tr>\n",
       "  <th>Bowl</th>          <td>   -0.0312</td> <td>    0.053</td> <td>   -0.586</td> <td> 0.558</td> <td>   -0.136</td> <td>    0.073</td>\n",
       "</tr>\n",
       "<tr>\n",
       "  <th>Box</th>           <td>    0.6016</td> <td>    0.409</td> <td>    1.470</td> <td> 0.142</td> <td>   -0.201</td> <td>    1.404</td>\n",
       "</tr>\n",
       "<tr>\n",
       "  <th>Can</th>           <td>    0.2528</td> <td>    1.003</td> <td>    0.252</td> <td> 0.801</td> <td>   -1.713</td> <td>    2.219</td>\n",
       "</tr>\n",
       "<tr>\n",
       "  <th>Cup</th>           <td>   -0.1372</td> <td>    0.054</td> <td>   -2.527</td> <td> 0.012</td> <td>   -0.244</td> <td>   -0.031</td>\n",
       "</tr>\n",
       "<tr>\n",
       "  <th>Bar</th>           <td>    1.5192</td> <td>    1.002</td> <td>    1.517</td> <td> 0.129</td> <td>   -0.445</td> <td>    3.483</td>\n",
       "</tr>\n",
       "<tr>\n",
       "  <th>Tray</th>          <td>   -0.0586</td> <td>    0.102</td> <td>   -0.573</td> <td> 0.566</td> <td>   -0.259</td> <td>    0.142</td>\n",
       "</tr>\n",
       "<tr>\n",
       "  <th>North America</th> <td>   -0.1342</td> <td>    0.077</td> <td>   -1.743</td> <td> 0.082</td> <td>   -0.285</td> <td>    0.017</td>\n",
       "</tr>\n",
       "<tr>\n",
       "  <th>Africa</th>        <td>    0.0652</td> <td>    0.712</td> <td>    0.092</td> <td> 0.927</td> <td>   -1.331</td> <td>    1.462</td>\n",
       "</tr>\n",
       "<tr>\n",
       "  <th>South America</th> <td>    0.2200</td> <td>    0.307</td> <td>    0.717</td> <td> 0.474</td> <td>   -0.382</td> <td>    0.822</td>\n",
       "</tr>\n",
       "<tr>\n",
       "  <th>Europe</th>        <td>    0.0877</td> <td>    0.156</td> <td>    0.562</td> <td> 0.574</td> <td>   -0.218</td> <td>    0.393</td>\n",
       "</tr>\n",
       "<tr>\n",
       "  <th>Asia</th>          <td>    0.2045</td> <td>    0.061</td> <td>    3.333</td> <td> 0.001</td> <td>    0.084</td> <td>    0.325</td>\n",
       "</tr>\n",
       "<tr>\n",
       "  <th>Spicy</th>         <td>    0.0112</td> <td>    0.059</td> <td>    0.188</td> <td> 0.851</td> <td>   -0.105</td> <td>    0.128</td>\n",
       "</tr>\n",
       "<tr>\n",
       "  <th>Chicken</th>       <td>   -0.2337</td> <td>    0.062</td> <td>   -3.767</td> <td> 0.000</td> <td>   -0.355</td> <td>   -0.112</td>\n",
       "</tr>\n",
       "<tr>\n",
       "  <th>Beef</th>          <td>   -0.1803</td> <td>    0.070</td> <td>   -2.557</td> <td> 0.011</td> <td>   -0.318</td> <td>   -0.042</td>\n",
       "</tr>\n",
       "<tr>\n",
       "  <th>Pork</th>          <td>   -0.2754</td> <td>    0.102</td> <td>   -2.700</td> <td> 0.007</td> <td>   -0.475</td> <td>   -0.075</td>\n",
       "</tr>\n",
       "</table>\n",
       "<table class=\"simpletable\">\n",
       "<tr>\n",
       "  <th>Omnibus:</th>       <td>470.688</td> <th>  Durbin-Watson:     </th> <td>   1.735</td> \n",
       "</tr>\n",
       "<tr>\n",
       "  <th>Prob(Omnibus):</th> <td> 0.000</td>  <th>  Jarque-Bera (JB):  </th> <td> 896.759</td> \n",
       "</tr>\n",
       "<tr>\n",
       "  <th>Skew:</th>          <td>-1.110</td>  <th>  Prob(JB):          </th> <td>1.87e-195</td>\n",
       "</tr>\n",
       "<tr>\n",
       "  <th>Kurtosis:</th>      <td> 4.850</td>  <th>  Cond. No.          </th> <td>    66.0</td> \n",
       "</tr>\n",
       "</table><br/><br/>Notes:<br/>[1] Standard Errors assume that the covariance matrix of the errors is correctly specified."
      ],
      "text/plain": [
       "<class 'statsmodels.iolib.summary.Summary'>\n",
       "\"\"\"\n",
       "                            OLS Regression Results                            \n",
       "==============================================================================\n",
       "Dep. Variable:                  Stars   R-squared:                       0.036\n",
       "Model:                            OLS   Adj. R-squared:                  0.030\n",
       "Method:                 Least Squares   F-statistic:                     6.358\n",
       "Date:                Mon, 29 Aug 2022   Prob (F-statistic):           1.87e-13\n",
       "Time:                        22:15:23   Log-Likelihood:                -3648.2\n",
       "No. Observations:                2577   AIC:                             7328.\n",
       "Df Residuals:                    2561   BIC:                             7422.\n",
       "Df Model:                          15                                         \n",
       "Covariance Type:            nonrobust                                         \n",
       "=================================================================================\n",
       "                    coef    std err          t      P>|t|      [0.025      0.975]\n",
       "---------------------------------------------------------------------------------\n",
       "const             3.6151      0.059     61.674      0.000       3.500       3.730\n",
       "Bowl             -0.0312      0.053     -0.586      0.558      -0.136       0.073\n",
       "Box               0.6016      0.409      1.470      0.142      -0.201       1.404\n",
       "Can               0.2528      1.003      0.252      0.801      -1.713       2.219\n",
       "Cup              -0.1372      0.054     -2.527      0.012      -0.244      -0.031\n",
       "Bar               1.5192      1.002      1.517      0.129      -0.445       3.483\n",
       "Tray             -0.0586      0.102     -0.573      0.566      -0.259       0.142\n",
       "North America    -0.1342      0.077     -1.743      0.082      -0.285       0.017\n",
       "Africa            0.0652      0.712      0.092      0.927      -1.331       1.462\n",
       "South America     0.2200      0.307      0.717      0.474      -0.382       0.822\n",
       "Europe            0.0877      0.156      0.562      0.574      -0.218       0.393\n",
       "Asia              0.2045      0.061      3.333      0.001       0.084       0.325\n",
       "Spicy             0.0112      0.059      0.188      0.851      -0.105       0.128\n",
       "Chicken          -0.2337      0.062     -3.767      0.000      -0.355      -0.112\n",
       "Beef             -0.1803      0.070     -2.557      0.011      -0.318      -0.042\n",
       "Pork             -0.2754      0.102     -2.700      0.007      -0.475      -0.075\n",
       "==============================================================================\n",
       "Omnibus:                      470.688   Durbin-Watson:                   1.735\n",
       "Prob(Omnibus):                  0.000   Jarque-Bera (JB):              896.759\n",
       "Skew:                          -1.110   Prob(JB):                    1.87e-195\n",
       "Kurtosis:                       4.850   Cond. No.                         66.0\n",
       "==============================================================================\n",
       "\n",
       "Notes:\n",
       "[1] Standard Errors assume that the covariance matrix of the errors is correctly specified.\n",
       "\"\"\""
      ]
     },
     "execution_count": 157,
     "metadata": {},
     "output_type": "execute_result"
    }
   ],
   "source": [
    "x = ramen[['Bowl', 'Box', 'Can', 'Cup', 'Bar', 'Tray', 'North America', 'Africa', 'South America', 'Europe', 'Asia', 'Spicy', 'Chicken', 'Beef', 'Pork']]\n",
    "y = ramen.Stars\n",
    "\n",
    "x = sm.add_constant(x)\n",
    "\n",
    "est = sm.OLS(y, x).fit() \n",
    "est.summary()"
   ]
  },
  {
   "cell_type": "code",
   "execution_count": 158,
   "id": "e25d4cc9",
   "metadata": {},
   "outputs": [
    {
     "name": "stdout",
     "output_type": "stream",
     "text": [
      "f-stat: 11.56464674893\n",
      "p_value 4.564468592903681e-11\n"
     ]
    }
   ],
   "source": [
    "north_america_ratings = ramen.Stars[ramen.Region == 'North America']\n",
    "south_america_ratings = ramen.Stars[ramen.Region == 'South America']\n",
    "europe_ratings = ramen.Stars[ramen.Region == 'Europe']\n",
    "africa_ratings = ramen.Stars[ramen.Region == 'Africa']\n",
    "asia_ratings = ramen.Stars[ramen.Region == 'Asia']\n",
    "oceania_ratings = ramen.Stars[ramen.Region == 'Oceania']\n",
    "\n",
    "f_stat, p_val = f_oneway(north_america_ratings, south_america_ratings, europe_ratings, africa_ratings, asia_ratings, oceania_ratings)\n",
    "\n",
    "print('f-stat:', f_stat)\n",
    "print('p_value', p_val)"
   ]
  },
  {
   "cell_type": "code",
   "execution_count": 159,
   "id": "3d119af2",
   "metadata": {},
   "outputs": [
    {
     "name": "stdout",
     "output_type": "stream",
     "text": [
      "       Multiple Comparison of Means - Tukey HSD, FWER=0.05        \n",
      "==================================================================\n",
      "    group1        group2    meandiff p-adj   lower   upper  reject\n",
      "------------------------------------------------------------------\n",
      "       Africa          Asia   0.2469    0.9  -1.781  2.2748  False\n",
      "       Africa        Europe   0.1223    0.9 -1.9471  2.1918  False\n",
      "       Africa North America  -0.1522    0.9 -2.1842  1.8797  False\n",
      "       Africa       Oceania   0.0184    0.9 -2.0145  2.0513  False\n",
      "       Africa South America   0.2727    0.9 -1.9306  2.4761  False\n",
      "         Asia        Europe  -0.1245    0.9 -0.5481   0.299  False\n",
      "         Asia North America  -0.3991  0.001 -0.5592  -0.239   True\n",
      "         Asia       Oceania  -0.2285  0.002 -0.3997 -0.0573   True\n",
      "         Asia South America   0.0259    0.9  -0.841  0.8927  False\n",
      "       Europe North America  -0.2746 0.4864 -0.7172   0.168  False\n",
      "       Europe       Oceania   -0.104    0.9 -0.5507  0.3427  False\n",
      "       Europe South America   0.1504    0.9 -0.8097  1.1104  False\n",
      "North America       Oceania   0.1706 0.2053 -0.0434  0.3847  False\n",
      "North America South America    0.425 0.7102 -0.4514  1.3013  False\n",
      "      Oceania South America   0.2544    0.9 -0.6241  1.1328  False\n",
      "------------------------------------------------------------------\n"
     ]
    }
   ],
   "source": [
    "tukey = pairwise_tukeyhsd(endog = ramen.Stars, groups = ramen.Region, alpha = 0.05)\n",
    "print(tukey)"
   ]
  }
 ],
 "metadata": {
  "kernelspec": {
   "display_name": "Python 3 (ipykernel)",
   "language": "python",
   "name": "python3"
  },
  "language_info": {
   "codemirror_mode": {
    "name": "ipython",
    "version": 3
   },
   "file_extension": ".py",
   "mimetype": "text/x-python",
   "name": "python",
   "nbconvert_exporter": "python",
   "pygments_lexer": "ipython3",
   "version": "3.9.7"
  }
 },
 "nbformat": 4,
 "nbformat_minor": 5
}
