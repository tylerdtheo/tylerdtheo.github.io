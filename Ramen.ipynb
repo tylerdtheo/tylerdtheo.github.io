{
 "cells": [
  {
   "cell_type": "code",
   "execution_count": 41,
   "id": "fa642ae8",
   "metadata": {},
   "outputs": [],
   "source": [
    "import pandas as pd \n",
    "import numpy as np\n",
    "import matplotlib.pyplot as plt \n",
    "from scipy.stats import pearsonr, chi2_contingency\n",
    "from sklearn.linear_model import LinearRegression\n",
    "from sklearn.model_selection import train_test_split\n",
    "import seaborn as sns\n",
    "import statsmodels.api as sm \n",
    "from statsmodels.stats.multicomp import pairwise_tukeyhsd\n",
    "from scipy.stats import f_oneway\n",
    "\n",
    "ramen = pd.read_csv(r\"C:\\Users\\tyler\\Downloads\\ramen-ratings.csv\")"
   ]
  },
  {
   "cell_type": "code",
   "execution_count": 42,
   "id": "49e69add",
   "metadata": {},
   "outputs": [
    {
     "name": "stdout",
     "output_type": "stream",
     "text": [
      "   Review #           Brand  \\\n",
      "0      2580       New Touch   \n",
      "1      2579        Just Way   \n",
      "2      2578          Nissin   \n",
      "3      2577         Wei Lih   \n",
      "4      2576  Ching's Secret   \n",
      "\n",
      "                                             Variety Style Country Stars  \\\n",
      "0                          T's Restaurant Tantanmen    Cup   Japan  3.75   \n",
      "1  Noodles Spicy Hot Sesame Spicy Hot Sesame Guan...  Pack  Taiwan     1   \n",
      "2                      Cup Noodles Chicken Vegetable   Cup     USA  2.25   \n",
      "3                      GGE Ramen Snack Tomato Flavor  Pack  Taiwan  2.75   \n",
      "4                                    Singapore Curry  Pack   India  3.75   \n",
      "\n",
      "  Top Ten  \n",
      "0     NaN  \n",
      "1     NaN  \n",
      "2     NaN  \n",
      "3     NaN  \n",
      "4     NaN  \n",
      "          Review #\n",
      "count  2580.000000\n",
      "mean   1290.500000\n",
      "std     744.926171\n",
      "min       1.000000\n",
      "25%     645.750000\n",
      "50%    1290.500000\n",
      "75%    1935.250000\n",
      "max    2580.000000\n",
      "0       3.75\n",
      "1          1\n",
      "2       2.25\n",
      "3       2.75\n",
      "4       3.75\n",
      "        ... \n",
      "2575     3.5\n",
      "2576       1\n",
      "2577       2\n",
      "2578       2\n",
      "2579     0.5\n",
      "Name: Stars, Length: 2580, dtype: object\n"
     ]
    }
   ],
   "source": [
    "print(ramen.head())\n",
    "columns = list(ramen)\n",
    "print(ramen.describe())\n",
    "print(ramen.Stars)"
   ]
  },
  {
   "cell_type": "code",
   "execution_count": 43,
   "id": "77bc6c3a",
   "metadata": {},
   "outputs": [
    {
     "name": "stdout",
     "output_type": "stream",
     "text": [
      "[\"T's Restaurant Tantanmen \", 'Noodles Spicy Hot Sesame Spicy Hot Sesame Guan-miao Noodles', 'Cup Noodles Chicken Vegetable', 'GGE Ramen Snack Tomato Flavor', 'Singapore Curry', 'Kimchi song Song Ramen', 'Spice Deli Tantan Men With Cilantro', 'Nabeyaki Kitsune Udon', 'Hokkaido Soy Sauce Ramen', 'The Original Spicy Stir-Fried Noodles', 'Creamy tom Yum Kung Flavour', 'Yokohama Tonkotsu Shoyu', 'Mr. Bibim Stir-Fried Kimchi Flavor', 'Deka Buto Kimchi Pork Flavor', 'Demae Ramen Bar Noodle Aka Tonkotsu Flavour Instant Noodle', 'Mushroom Flavour Instant Noodles', 'Mario Masala Noodles', 'Tokyo Shoyu Ramen', 'Mi Hai Cua', 'Premium Gomtang', 'Cup Noodles Laksa Flavour', 'Beef Ramen', 'Creamy Soup With Crushed Noodles Hot & Sour Fish Flavor', 'Sapporo Miso Ramen', 'Hot Garlic Instant Noodles', 'Song Song Kimchi Big Bowl', 'Instant Noodles Beef In Light Soup Flavour', 'Hakata Ramen Noodle White Tonkotsu', 'Penang White Curry Rice Vermicelli Soup', 'Signature Tom Yum Flavor Instant Noodles', 'Paegaejang Ramen', 'Gekikara Ramen Extra Hot Ramen Goreng', 'Plain Instant Noodle No Soup Included', 'Chongqing Spicy Hot Noodles', 'Sugo-Men Kyoto Backfat Shoyu Ramen', 'Instant Noodles Laksa Singapura Flavour', 'Cup-A-Soup Chicken Noodle With White Meat Instant Soup', 'Curry Flavour Instant Noodles', 'Super Cup Yochan Ika Yakisoba', 'Cup Noodles Very Veggie Spicy Chicken Flavor Ramen Noodle Soup', 'GGE Noodle Snack Wheat Crackers Mexican Spicy', 'Demae Iccho Tonkotsu Flavour Instant Noodle', 'Cup Noodles Very Veggie Beef Flavor Ramen Noodle Soup', 'Cup NoodlesTom Yam Seafood (More Shrimptacular)', 'Instant Noodles Beef', 'Cup Noodles Very Veggie Chicken Flavor Ramen Noodle Soup', 'Hokkaido Hakodate Shoyu Ramen', 'Shin Ramyun Black', 'Nippon Onomichi Ramen', 'Pickled Cabbage Beef', 'Ppushu Ppushu Noodle Snack Honey Butter ', 'Gotsumori Chanpon Ramen', \"Juzz's Mee Creamy Chicken Flavour (Export Version)\", 'Mushroom Flavor', 'Jjamppong Big Bowl', 'Curry Udon', 'Straits Reborn Laksa', 'Budae Jjigae Noodle Soup', 'Hearty Japanese Style Curry Udon', 'Cup Noodles Potato Chips Black Pepper Crab Flavour', 'Cup Noodles Blacl Pepper Crab Flavour (More Angry Crab)', 'Anchovy Flavor Guava Rice Noodles', 'Umami Ramen', 'Nabeyaki Tempura Udoin', 'Hokkaido Hakodate Miso Ramen', 'Man Han Feast Spicy Beef Flavor Instant Noodles', 'Kirin Giraffe Shoyu Ramen', 'Nissin Top Ramen Chicken Flavor Potato Crisps ', 'Dan Dan Noodle', 'Samyang Ramen Classic Edition', 'Penang Red Tom Yum Goong Noodle', 'Hot Heads Green Chilli Noodles', 'Mala Buldak Bokkeummyun', 'RMy Noodlez Rumput Laut', 'Delight Chicken Flavor Instant Non-Fried Noodles', 'Super Cup Torigawa Shoyu', 'Shin Ramyun', 'Sweet Potato Instant Noodle Sout-Hot Flavor', 'Onion Chicken Flavor', 'Toona Paste Noodle', 'Supreme Creamy Tom Yum Noodle', 'Creamy Soup With Crushed Noodles Chicken Flavor', 'Demae Ramen Spicy Beef', 'Cup Noodles Spicy', 'Soba Thai', 'Cup Noodles Huhn (Chicken)', 'Demae Ramen Korean Kimchi', 'Cup Noodles Curry', 'Smack Chili', 'Soba Yakitori Chicken', 'Demae Ramen Garlic Chicken', 'Cup Noodles Ente (Duck)', 'Demae Ramen Thai Tom Yum', 'Soba Sukiyaki Beef', 'Demae Ramen Spicy', 'Cup Noodles Shrimps', 'Demae Ramen Tokyo Soy Sauce', 'Bul Jjamppong', 'Chicken With Chinese Shaoxing Wine', 'Buldak Bokkeummyun', 'Pork Wantan Men', 'Instant Noodles Chicken Flavour', 'Scallion Oil & Soy Sauce Noodle', 'Sichuan Spices Flavor Noodle', 'Kimchi Stew Ramyun', 'Seimen Red Spicy Dandan Men', 'Ppushu Ppushu Noodle Snack Chilli Cheese Flavor', 'Mini Instant Noodle Mild Curry Flavor', 'Noodle Snack Wheat Cracks Seaweed Flavor', 'Cup Noodles Mini Seafood Flavour', 'Udon Japanese Style Noodles With Soup Base Hot & Sour Flavor', 'Signature Curry Flavor Instant Noodles', 'Dossari Yasai Chanpon', 'Volcano Curry Kkokkomyun', 'Instant Noodle King Pepper Duck Flavour Soup', 'Cup Noodles XO Sauce Seafood', 'Extreme Spicy Hot Chicken Flavor Udon', 'Gekikara Ramen Rasa Pedas', 'Sesame Oil Chicken Noodle With Rice Wine', 'Hokkaido Hakodate Shio Ramen', 'Katsuo Bowl Udon', 'Cup Noodles MUG Shoyu & Seafood', 'Sari Ramen', 'Instant Noodles Chicken Satay Flavour', 'Signature Spicy Singapore Fried Noodles Instant Noodles', 'Creamy Soup With Crushed Noodles Sweet Corn Flavor', 'Silk Beef Pho Flavor Instant Rice Fettuccine', 'Delight Spicy Sesame Flavor Instant Non-Fried Noodles', 'Signature Laksa Singapura Instant Noodles', 'Delight Spicy Black Pepper Flavor Instant Non-Fried Noodles', 'Purple Wheat Noodles Chili & Lime Flavor', 'Delight Tomato Flavor Instant Non-Fried Noodles', 'Seafood Flavor Instant Noodles', 'Signature Stir-Fry Original Flavor Instant Noodles', 'Creamy Soup Witrh Crushed Noodles Curry Flavor', 'Delight Laksa Singapura Flavor Instant Non-Fried Noodles', 'Silk Spicy Marinara Instant Rice Fettuccine', 'Signature Chicken Flavor Instant Noodles', 'Cup Noodles Sopa Nissin Hot Sauce Con Camaron', 'Penang Hokkien Prawn Flavor Noodle', 'Roasted Pork Noodle', 'Man Han Feast Super Hot Pot Beef Flavor Instant Noodles', 'Mi Goreng Original Flavour Fried Noodles', 'Raoh Nojyuku Toro Tonkotsu Ramen', \"Artificial Dongpo's Braised Pork Flavour\", 'Lau Tom Chua Cay', 'Old Beijing Fried Bean Sauce Noodle', 'Cup Noodles Indonesia Mie Goreng', 'Yummy Spicy Rice Soup With Seafood', 'Udon Japanese Style Fresh Noodle', 'MeeKuali Bihun Sup Rempah Perisa Daging', \"T's Restaurant Sura Tanmen\", 'Sesame Oil Chicken With Rice Wine Noodle', 'HALAL Chicken Shoyu Sauce Ramen', 'Vegan Pad Thai Noodle Soup', 'Seafood Flavour Rice Vermicelli', 'Cheese Type Buldak Bokkeummyun (Black Pkg)', 'Kung-Fu Instant Oriental Noodles Soup Artificial Onion Flavor', 'Cup Noodles Sopa Nissin Con Camaron Picante', 'Baseball Snack Noodle', 'Cup Noodles Spicy Seafood Flavor', 'Penang Red Tom Yum Goong', 'Yomise No Yakisoba Karashi Mentaiko Flavor', 'Bihun Kuah Rasa Baso Sapi', 'Hot & Sour Beef Noodles', 'Kitsune Udon Donbei (West)', 'Thailand Green Curry Instant Noodle', 'Cup Noodles Beef Flavour', 'Sanukiya Udon Shrimp Flavor', 'Chicken Fajita Flavor Instant Ramen Noodles', 'Lamb Stew Flavor Instant Ramen Noodles', 'Seafood Gumbo Flavor Instant Ramen Noodles', 'Chicken Taco Flavor Instant Ramen Noodles', 'Chuan Wei Spicy Guan-miao Noodles', 'Sweet Potato Instant Noodle Braised Spicy Chitterling Flavor', 'Cup Noodles Mini Spicy Seafood', 'Penang Hokkien Prawn Noodle Soup', 'Yakisoba Japanese Style Noodle', 'Nutri-licious Pazzta Tomato Twist', 'Chongqing Noodles Burning Dry Noodles', 'Cup Noodles Tom Yam Seafood Flavour', 'My Noodles Mi Goreng Pizza Cheese', 'Shaanxi Cold Noodle: Mustard Spicy', 'Cheese Buldak Bokkeummyun (Black)', '2 Minute Noodles Chicken Flavour', 'Chicken Flavor Instant Noolde', 'Cup Noodles Prawn Flavour', 'Hokkaido Miso Ramen', 'Penang Red Tom Yum Goong Rice Vermicelli Soup', 'Jin Jjambbong Spicy Seafood Ramyun', 'Rice Vermicelli Pickled Vegetable Pork Flavour', 'Imitation Chicken Flavor', 'Three Fresh Delicacies Instant Noodle', 'Demae Iccho Sesame Oil Flavour Instant Noodle', '2 Minute Noodles Curry Flavour', 'Man Han Feast Chilli Beef Flavor Instant Noodles', '9999 Chongqing Artificial Beef Flavor Instant Noodle', 'Cup Noodles Beef Flavor Ramen Noodle Soup (New Recipe)', 'Seaweed Instant Noodle', 'Demae Iccho Seafood Flavour Instant Noodle', 'Non-Fried Ramyun With Spicy Beef Broth', 'Cup Noodles Hot & Spicy Shrimp Flavor Ramen Noodle Soup (New Recipe)', 'Non-Fried Mix Noodle Black Pepper XO Sauce Flavoured', 'Penang White Curry Instant Noodle (Japan Version)', 'Disney Cuties Instant Chicken With Corn Flavour', 'Man Han Feast Braised Pork Flavor Instant Noodles', 'Mi Goreng Garlic Flavour Fried Noodles', 'Top Ramen Atta Nooldes Masala', 'Instant Spicy Rice Noodle', 'Tanuki Soba', 'Zzaldduck Buldak Bokkeummyun Snack', 'Curry Buldak Bokkeummyun', 'Cool/Ice Buldak Bokkeummyun', '2x Spicy Haek Buldak Bokkeummyun', 'Buldak Bokkeummyun Snack', 'Stew Buldak Bokkeumtangmyun', 'Cheese Buldak Bokkeummyun', 'Buldak Bokkeummyun (New Packaging)', 'Bowl Instant Noodles Artificial Spicy Beef Flavor', 'Demae Iccho Chicken Flavour Instant Noodle (Bowl Noodle)', 'Instant Noodles Artificial Chicken Flavoured', 'Kitsune Udon', 'Pickled Cabbage Flavor Instant Vermicelli', 'Noodle King Artificial Wonton Soup Flavored', 'Spicy Shrimp Cup Noodle', 'Nagasaki Agodashi Shoyu Ramen', 'Viet Cuisine Bun Rieu Cua Sour Crab Soup Instant Rice Vermicelli', 'Cup Noodles Rich Garlic, Egg Yolk & Oxtail', 'Minced Pork Flavor Instant Noodles', 'Chatpat Masala', 'Cup Noodles BIG XO Sauce Seafood Flavour', 'Noodles Chicken & Corn Flavour', 'Hokkaido Salt Ramen', 'Demae Iccho Tonkotsu Flavour Instant Noodle (Bowl Noodle)', 'Chatt Patta Instant Noodles', 'Clam Flavor Soup Kal-guksu', 'Cup Noodles Sopa Nissin Sabor A Pollo', 'Maxi Sopa Nissin Cuchareable Sabor A Jugo De Carne', 'Sopa Nissin Sabor A Camaron Sopa Instantanea Tipo Ramen', 'Cup Noodles Sopa Nissin Sabor A Carne De Res', 'RapiFideo Sabor A Tomate Y Pollo', 'Cup Noodles Sopa Nissin Sabor Camaron, Habanero Y Limon', 'Sopa Nissin Sabor A Pollo Sopa Instantanea Tipo Ramen', 'Cup Noodles Sopa Nissin Con Camaron', 'Maxi Sopa Nissin Cuchareable Sabor A Camaron Picante', 'Cup Noodles Gourmet Sabor A Caldo De Camaron', 'Sopa Nissin Sabor Mariscos, Habanero Y Limon', 'Maxi Sopa Nissin Cuchareable Sabor A Pollo', 'Sopa Nissin Sabor A Res Instantanea Tipo Ramen', 'Cup Noodles Sopa Nissin Hot Sauce Sabor A Pollo', 'Little Prince(ss) Brand Snack Noodles Artificial Mexican Pizza Flavor', 'Atta Noodles Jhatpat Banao Befikr Khao', 'Shaanxi Cold Noot Hot & Sour Flavor', 'Cup Noodles Spicy Lime Flavor Ramen Noodle Soup (New Recipe)', 'Demae Iccho Tokyo Shoru Tonkotsu Instant Noodle', 'Mr. Noodles Curry Flavor Instant Noodles', 'Bul Jjajangmyeon', 'Kirin Giraffe Shio Ramen', 'Mie Kamayama Ramen Gyukotsu Misoaji', 'Black Pepper XO Sauce Flavour', 'Nupasta Bolognese Flavour Instant Noodle', 'Saeutang Sabalmyeon', 'Sichuan Spicy Flavor', 'Instant Bowl Noodles Shrimp (Tom Yum) Flavor Base', 'Cup Noodle Spicy Curry Chicken', 'Ramen Noodles Miso Flavor', 'Cup Noodles Spicy Beef Flavour', 'Sesame Oil With Garlic Flavor Thin Noodle', 'Traditional Shallot & Onion Oil Noodle', 'Sesame Sauce Matcha Noodle', 'Mr. Noodles Instant Noodles Beef Flavour', 'Cup Noodles Big Seafood Flavour', 'Noodles Chicken Chow Mein Flavour', 'Ramyun Sabor Pollo', 'Demae Iccho Black Garlic Oil Tonkotsu Flavour Instant Noodles', 'Chicken Flavor Ramen', '2 Minute Noodles Masala Spicy', 'Sopa Maruchan Sobar A Camaron', 'Yakisoba', 'Noodle With Oriental Chicken Flavour', 'Demae Ramen Spicy Xo Sauce Seafood Flavour Instant Noodle', 'Mi Segera Mmm... Original', 'Cup Noodles Spicy Chile Chicken (New Recipe)', 'Bowl Instant Noodles Artificial Beef With Sauerkraut Flavor', 'Noodles With Chicken Flavour', 'Cup Noodles Seafood', 'Tabimen AizuKitakata Gyokai Shoyu Ramen', 'Nupasta Bacon In Carbonara Sauce Flavour Instant Noodle', 'Chongqing Noodles Spicy Hot Flavor', 'Buldak Bokkummyun Cheese Flavor', 'Demae Ramen Straight Noodle Black Garlic Oil Tonkotsu Flavour Instant Noodle', 'Shin Toyama Black Ramen', 'Cup Noodles Tom Yum Goong Flavour', 'Artificial Abalone Crab Flavor Instant Noodle', 'Noodle King Artificial Abalone And Chicken Soup Flavored', 'Noodles Beef Flavour', 'Korean Kimchi Flavour Vermicelli', 'Raoh Pork Bone Soy Soup Noodle', 'Gold Jjamppong Fried Noodle', 'Demae Iccho Red Hot Seafood Flavour Instant Noodle', 'Chongqing Noodles Hot & Sour Flavor', 'Demae Iccho Spicy Tonkotsu Flavour Instant Noodle (Bowl Noodle)', 'Raoh Tantanmen', 'Ramen Noodles Soy Sauce Flavor', 'Cup Noodles With Shrimp Ramen Noodle Soup (New Recipe)', 'Noodles With Braised Beef Flavour', 'A Q Bucket Noodle Korean Kimchi Flavor', 'Demae Iccho Spicy Kimchi Pot Flavour Instant Noodle (Bowl Noodle)', 'Fresh Bibimmyun Fried Noodle', 'Instant Noodles Veg Masala Flavour', 'Nupasta Neapolitan Flavour Instant Noodle', 'Karami Ramen Spicy Chili Flavour Japanese Style Noodle With Soup Base', 'Disney Cuties Instant Noodle Crab Flavour', 'Cup Noodles Rich Soft Shelled Turle Soup', 'Instant Vegetarian Beehoon Rice Vermicelli', 'Broad Noodle Artificial Beef Flavor Hot Pot', 'Tohokuno Aji Yonezawa Ramen', \"Science Noodle (X'Mas Edition)\", 'Pho Beef Flavor Vietnamese Rice Noodle Soup', 'Instant Wonton Noodles Scallop Lobster Soup Flavour', 'Tom Yam Soup Instant Noodle', 'Ramen Noodles Artificially Flavored Tonkotsu', 'Hiroshima Flavor Yakisoba', 'Disney Cuties Instant Noodle Seaweed Flavour', 'Instant Noodles Mi Goreng Flavour', 'Sugomen Sano Ramen', 'Ramyon Sabor Y Camaron', 'Demae Iccho Spicy XO Sauce Seafood Flavour', 'Sun Dried Noodle - Fruity Soy Bean Paste', 'Shin Noodle Soup', 'Sapporo Noukou Miso Ramen', 'Soy Sauce', 'Vietnamese Chicken Coriander Flavour Vermicelli', 'Artificial Spicy Beef Flavour', 'Cup Noodles Black Pepper Crab Flavour', 'Beef Style Noodles With Vegetables', 'Spicy Soup Instant Noodle Beef Flavour', 'Rice Noodle Anchovy Flavor', 'Cup Noodles Chicken Flavor Ramen Noodle Soup (New Recipe)', 'Rumpum Gundruk Flavour', 'Cup Noodle Light+ Bagna Cauda', 'Gotsumori Koku Tonkotsu Ramen', 'Tom Yum Shrimp Creamy Flavour Instant Noodles', 'Bibim Men', 'Cup Noodles Milk Seafood Flavour', 'Spicy Chikin Donburi', 'Noodle Chicken Flavour', 'Kuroma-Yu Tonkotsu Kumamoto Ramen', 'Artificial Beef With Sauerkraut Flavour', 'Raoh Shoyu Ramen', 'Ramen Noodle Soup Sriracha Chicken Flavor', 'Hiyashi Soba Taidashi Goma', 'Bowl Chicken Flavour Instant Rice Vermicelli', 'X-Press Flavour Of Pizza In Noodles Proprietary Food', 'Rice Noodles Fragrant Chicken Pho Ga Flavour', 'Vegetarian Penang White Curry', 'Cup Noodle Seafood', 'Budae Jjigae', 'Noodles Crispy Bacon Flavour', 'Spicy Braised Pork Flavor', 'Demae Ramen Spicy Seafood Flavour Instant Noodle', 'Chow Mein Spicy Flavor', 'Mee Goreng Spicy Flavour', 'Tabimen Nagasaki Chanpon', 'Oh! Ricey Pork Flavour', 'Disney Cuties Instant Noodle Roast Pork Flavour', 'Instant Noodles Masala', 'Demae Ramen Spicy Hot tonkotsu Flavour Instant Noodle', 'Ramen Japanese Style Quick-Cooking Alimentary Paste With Chicken Artificially Flavored Soup Base', 'Big Cup Noodles Tonkotsu Flavour', 'Deka Buto Kuro M-yu Tonkotsu', 'Bowl Taste Of Asia Hearty Pork Flavor Tonkotsu Ramen', 'Cup Noodles Sabor Galinha Caipira', 'Bowl Noodle Soup Independence Day Limited Edition Spicy Chicken Flavor', 'Nupasta Vongole Flavour Instant Noodle', 'Penang Chicken Curry Laksa', 'Shaolin Monk Vegetables', 'Tai Chi Chicken', 'Dragon Fire Mushroom', 'Hong Kong Street Beef', 'Warrior Fighting Shrimp', 'Gyorai Inaniwa Chuka Soba', 'Chicken Flavour Instant Noodle', 'Chicken Flavored Instant Noodles', 'Penang White Curry Instant Noodle', 'XO Scallops Sauce Dry Noodles', 'Barikata Noukou Tonkotsu Shoyu', 'Demae Ramen Sesame Oil Flavour Cup', 'Non-Fried Ramyun Noodle (Crab Flavor)', 'Assorted Seafood Noodles', 'Raoh Hot & Sour Ramen', 'Coriander Instant Rice Noodles', 'Instant Rice Noodles Moo Nam Tok Flavour', 'Instant Rice Vermicelli Clear Soup', 'Instant Rice Noodles Chicken Flavour', 'Pho Ga Rice Noodles With Artificial Chicken Flavour', 'Oriental Kitchen Instant Rice Vermicelli In Gravy', 'Instant Tom Yam Rice Noodles', 'Instant Rice Noodles Vegetable Flavour', 'Instant Rice Vermicelli Yentafo Tom Yam Mohfai', 'Instant Flat Noodles Clear Soup', 'Cup Rice Noodles Tom Saab Flavour', 'Instant Rice Noodles Stew Beef Flavour', 'Instant Rice Noodles Phnom Penh Style', 'Instant Flat Noodles Tom Yam Flavour', 'Ramen Noodle soup Mushroom Flavor', 'Vegetable Flavour Instant Noodles', 'Rice Noodle Shallot With Braised Pork Flavor', 'Vegetable Flavour Noodles With Vegetables', 'Instant Noodle Artificial Beef Flavor 7 sour Pickled Cabbage', 'Noodles With Hot & Spicy Flavour', 'Rice Noodle Chinese Mushroom With Soybean Vegetarian Braised Pork Flavor', 'Piritto Karakuchi Tantan Udon', 'Rice Noodle Seafood Laksa Flavour', 'Chal Bibim Myun', 'Japanese Yakisoba Umami Sauce', 'Sazon Casero Sopa Con Tomate Y Sabor Pollo', 'Chow Mein Original Flavor', 'Artificial Mushroom Chicken Flavor Instant Noodle', 'Chow Mein Oyster Sauce BBQ Flavor', 'Aloe Vera Guan Mian Purple Sweet Potato Noodle With Spicy Miso Sauce', 'Black Eyes Bean Original Noodle With Sesame Sauce', 'Aloe Vera Guan Mian Pumpkin Noodle With Basil Sauce', 'Black Eyes Bean Cyanobacteria Noodle With Ginger Oil Sauce', 'Aloe Vera Guan Mian Original Noodle With Sesame Sauce', 'Black Eyes Bean Purple Sweet Potato Noodle With Spicy Miso Sauce', 'Aloe Vera Guan Mian Cyanobacteria Noodle With Ginger Oil Sauce', 'Black Eyes Bean Pumpkin Noodles With Basil Sauce', 'Instant Lunch Pork Flavor Ramen Noodles With Vegetables', 'Kun Ramen Sumo-kuchikin (Smoked Chicken)', 'Tonkotsu', 'Lamen Sabor Picanha', 'Lemon Chicken Flavour Instant Noodles', 'Bowl Taste Of Asia Miso Chicken Flavor Spicy Miso Ramen', 'Men Shokunin Kaoruyasai Shio', 'Rice Noodle Seafood Flavour', 'Superior Soup Instant Noodles (Mfg in Thailand)', 'Superior Soup Instant Noodles (Mfg in Vietnam)', 'Demae Ramen Spicy Curry Flavour Instant Noodles', 'Demae Ramen Roast Beef Flavour Instant Noodles', 'Instant Noodle Supreme Abalone And Chicken Flavour', 'Kimchi Chikin Ramen Donburi', 'Instant Lunch Chipotle Chicken Flavor Ramen Noodle Soup', 'Mee Goreng Thai Tom Yum Flavour', 'Artificial Salted Beef With Mushrooms Flavour', 'Hot & Spicy Dry Curry With Chives Soup', 'Taimeiken Yousyoku Yasangatsukutta Omumen', 'Noodles With Chicken & Sweet Corn Flavour', 'Mennippon Oumi Chanpon', 'Nissin Instant Noodles Tom Yum Seafood Creamy Flavour King Cup', 'Cup Noodles Tom Yum Shrimp Sabb Flavour', 'Chilli Noodles Stir Fried Holy Basil Flavour', 'Instant Noodles Moo Manao Flavour', 'Super Tom Yum Shrimp', 'Cup Noodles Minced Pork Flavour', 'Chilli Noodles Tom Yum Shrimp Creamy Soup Flavour', 'Nissin Instant Noodles Shrimp Ma Nao Lui Suan Flavour King Cup', 'Instant Noodles Tom Yum Shrimp Saab Flavour', 'Cup Noodles Moo Manao Flavour', 'Instant Noodles Minced Pork Flavour', 'Cup Noodles Seafood Creamy Flavour', 'Chilli Noodles Spicy Tom Yum Flavour', 'Cup Noodles Chilli Crab Flavour', 'Vegetarian Flavour Ramen Noodles', 'Tuna With Shallot Flavor Noodle', 'GGE Noodle Snack Wheat Crackers Original Ramen', 'Lamen Sabor Frango Assado Com Toque De Limao', 'Onion Flavor Shoyu Ramen', 'Ramen Noodle Soup Chicken Tortilla Flavor', 'Rice Noodle Kimchi Flavor', 'Ramen Japanese Style Quick-Cooking Alimentary Paste With Beef Artificially Flavored Soup Base', 'Cup Noodles Singapore Laksa', 'Pojangmacha Udon', 'Mee Goreng Original Flavour', 'Yakibuta Ramen', 'Kimchi Flavor Noodle Soup', 'Otentiq Cheezy Mushroom Instant Noodles (Improved Taste)', 'Seimen Noukou Toro Tonkotsu', 'Straits Kitchen Laksa', 'Champong Noodle Soup Spicy Seafood Flavor', 'Seaweed Flavour Noodle', 'Instant Noodle Preserved Vegetable Flavour', 'Penang Hokkien Prawn Noodle Authentic Taste', 'Nupasta Salmon In White Sauce Flavour Instant Noodle', 'Big Cup Noodles Seafood Curry Flavour', 'Demae Iccho Beef Flavour Instant Noodle', 'Mie Goreng Indonesia Stir Noodle Original Flavour', 'Demae Ramen Sesame Flavour Instant Noodles', 'Superior Soup Instant Rice Vermicelli', 'Demae Ramen Straight Noodle Kyushu Tonkotsu Instant Noodle', 'Taisho Fried Noodle Sesame Paste Flavour Instant Noodle', 'Cup Noodles Pork Chowder Flavour', 'Cup Mifun Spicy Beef Flavour', 'Non-Fried Superior Soup Noodle', 'Nupasta Carbonara Flavour Instant Noodle', 'Demae Iccho Curry Beef Flavour', 'Cup Noodles Big Spicy Seafood Flavour', 'Demae Iccho Black Garlic Oil Tonkotsu', 'Mi Segera Mi Goreng Ayam Krispi', 'Cup Noodles Sabor Pollo Habanero Y Limon Sopa Instantanea', 'Spicy Ramen Noodles', 'Bowl Taste Of Asia Beef Flavor Sukiyaki Ramen', 'Tainan Noodle Original Sauce', 'Negi Ramen', 'Instant Noodle Vegetarian Flavour', 'Fusian Special Edition Ow... Ow... Spicy Cow Mi Goreng', 'Fresh Jjajang', 'Hakata Tonkotsu Ramen', 'Kung Tak Lam Vegetarian Noodle (Mushroom)', 'Arrabiata Rice Bucatini', 'Pepper Noodles Vegetarian', 'Ramyon Sabor Mariscos', 'Dried Mix Noodles Scallop Seafood Flavoured', 'Cup Noodle Light+ Cheese Fondue', 'Beef And Radish Flavour Instant Noodle', 'Instant Noodle Shrimp Tom Yam Flavoured', 'RapiFideo Sabor A Chile Y Limon', 'Garlic Pepper Reduced Sodium Ramen', 'Tokyo Tokunou Gyokai Tonkotsu', 'Noodles Curried Prawn Flavour', 'Instant Lunch Sriracha Chicken Flavor Ramen Noodle Soup', 'Pop Mie Mi Instan Cup Rasa Ayam', 'Artificial Pork Ribs Flavour Instant Noodle', 'Penang Red Tom Yum Goong Noodle Authentic Taste', 'Ramyon Sabor A Res', 'Kadomen Koikoku Tonkotsu', 'XO Sauce Noodle', 'Perisa Asam Pedas Mi Segera', 'Chicken Style Ramen Noodles', 'Hello Kitty Dim Sum Noodle Japanese Soy Sauce Flavour', 'Malaysia Green Curry Noodle', 'Noodles Mi Goreng', 'Tomato Sauce Instant Noodle', 'Cup Noodles Sabor Franhp Com Requeijao', 'Vegetarian Herbal Noodle', 'Hovenia Ramen Vegetable Flavor', 'Hakka BBQ Sauce Noodle', 'Maru Uma Curry Udon', 'Noodles Oriental Flavour', 'Instant Noodles Artificial Chicken & Shrimp Flavored', 'Noodle King Artificial Beef Soup Flavored', 'Otentiq Cheezy Curry Instant Noodles (Improved Taste)', 'Charumera Atyificial Tonkotsu Shouyu Flavor', 'Instant Noodles Beef Flavour', 'Sopa Maruchan Sabor a Camaron, Limon y Habanero', 'Shinshu Miso Ramen', 'Penang White Curry Authentic Taste Cup', 'Authentic Street Food Chow Mein', 'Authentic Street Food Pad Thai', 'Authentic Street Food Black Bean', 'Authentic Street Food Thai Red Curry', 'Authentic Street Food Satay', 'Artificial Roasted Beef', 'Seabura Tonkotsu Ramen', 'Noodle With Spicy Oyster Soup', 'Honey & Cheese Big Bowl', 'Chicken Style Noodles With Vegetables', 'Perisa Kari Mi Segera (Improved Taste)', 'Ghost Pepper Noodle', 'Beef Style Ramen Noodles', 'Vegetarian Instant Noodles Shiitake Flavour', '2 Minute Laksa Flavour Noodles', 'Rangers Snack Noodles Popcorn Flavour', 'Oriental Noodles Soto Ajam', 'Hot spicy Flavor Instant Vermicelli', 'Rice Fettucini Alfredo', 'Wonton Noodles Beef Flavour', 'Hakka Spicy Barbeque Sauce', 'Donbei Dashi Shoyu Yakiudon', 'Raoh Rich Miso Flavor', 'Cup Noodles Tom Yum Goong', 'Cup Noodle Big Seafood Clam Chowder', 'Chikin Ramen Donburi', 'Men Shokunin Shoyu', 'Cup Noodle Vegeta Buta-kyabetsu Tonkotsu', 'Cup Noodle Pasta Style Tarako Spaghetti', 'Cup Noodle Big Cheese Mexican Chilli', 'Gyoretsu-no-Dekiru-Mise-no-Ramen (Shrimp Tantanmen)', 'Raoh Tonkotsu', 'Cup Noodle Light Plus Ratatouille', 'Cup Noodle Milk Chikin Ramen', 'Cup Noodle', 'Penang White curry Noodle Authentic Taste', 'Instant Noodles Chicken Soup Flavour', 'Yokohama Walker Iekei Ramen', 'Quinoa Noodle With Oyster Sauce And Vegetables', 'Singapore Prawn Soup La Mian', 'Chinese Tan Tan Vermicelli', 'Tokushima Ramen', 'Assorted Pork Bone Noodle', 'Penang Red tom Yum Goong Noodle Authentic Taste', 'Noodles Witrh Prawn & Chicken Flavour', 'BIG Cup Noodle Ajillo', 'Nyonya Curry Laksa (Improved Taste)', 'Malaysia Penang Green Curry Vermicelli (New Package)', 'Kumamoto Spicy Ramen', 'Soba Fried Noodles Classic', 'Cheese Curry Ramyun', 'Cup Noodles Sabor Calabresa', 'Spicy Flavour Instant Mifun', 'Horse Crab Flavour Ramen', 'Malaysia Penang Red Curry Noodle', 'Noodle Soup Seasoned With Real Kimchi', 'Top Ramen Chicken Flavor Ramen Noodle Soup (New Packaging)', 'Kinchan Ramen', 'GGE Noodle Snack Wheat Crackers Soy Sauce Ramen', 'Penang Spicy Prawn Soup Noodle Authentic Taste', 'Instant Noodles Coconut Milk Flavour', 'Rice Noodles Vegetable Laksa', 'Rice Noodles Chicken Pho', 'Chicken Ramen', 'Chilli Chicken Ramen', 'Charumera Shoyu Ramen', 'Mi Goreng Bento Noodles In A Box Curry Masala Flavour', 'Cup Vegetarian Instant Noodles Tom Yum Flavour', 'Spicy Tomato Salsa Ramen', 'Raoh Ramen Noodle Soup Umami Soy Sauce Flavor', 'Island Of Flavours Spicy Thai Chicken Instant Noodles Soup', 'Singapore Fish Soup La Mian', 'Kung-Fu Brand Instant Oriental Noodle Soup Artificial Beef Flavor', 'Cup Noodles Ramen Noodle Soup Hearty Chicken Flavor [New Package]', 'Red King Crab Flavour Ramen', 'Oriental Style Instant Noodles Shrimp Flavour (Tom Yum)', 'Artificial Pickled Cabbage Fish Flavor Instant Vermicelli', 'Singapore Laksa Wholegrain La Mian', 'Raoh Shio Ramen', 'Oriental Style Instant Noodles Masala Flavour', 'GGE Noodle Snack Wheat Crackers Hot Spicy', 'Sugomen Niigata Seabura Shoyu Ramen', 'Always Mi Goreng Perisa Sambal Udang', 'Good Noodles Tandoori', 'Cup Noodle Pasta Style Bolognese', 'Instant Noodles Shrimp Creamy Tom Yum Flavour', 'Donbei Kamodashi Soba', 'Chicken Soup Flavour Cup Noodles', 'Rice Noodle Coconut Curry', 'Guanmiao Dried Noodles With Oleum Sesami', 'Guanmiao Dried Noodles With Spicy Sauce', 'Guanmiao Dried Noodles With Authentic Sauce', 'Guanmiao Dried Noodles With Shallot Flavor', 'Instant Noodles chicken Flavour', 'Island Of Flavours Lemongrass Instant Noodles Soup', 'Instant Noodles Oriental Style Chicken Flavour', 'Kogashi Megiiri Tonkotsu Kagoshima Ramen', 'Bowl Noodles Hot & Spicy Chicken Flavor Less Sodium Ramen Noodle Soup', \"Juzz's Mee Creamy Chicken Flavour\", 'Broad Noodle Artificial Beef Flavor', 'Oriental Noodles Teriyaki', 'Instant Cup Mi Kuah Rasa Baso Spesial', 'Cup Noodles Ramen Noodle Soup Chicken Flavor [New Package]', 'Ramen Tonkotudou Kumamoto Noodles', 'Shiroi Chikara Mochi Udon', 'Mi Goreng Bento Noodles In A Box Hot Sweet & Sour Flavor', 'Soba Fried Noodles Teriyaki', 'Yuzu Sesame Sauce Udon', \"Juzz's Mee Curry Flavour\", 'Mushroom Rice Noodle Soup Bowl', 'Instant Noodles Chicken Sichek Flavour', 'Emergency Chikin Ramen Cup Noodle', 'Chow Mein Pad Thai', 'Instant Noodles With Chicken Flavouring', 'Kuroma-yu Tonkotsu Kumamoto Ramen', 'Singapore Curry Wholegrain La Mian', 'Chicken Flavour Asian Style Instant Noodles', 'Nuudeli Kana Nudlar Kyckling', 'Instant Noodles Duck Flavour', 'Tonkotsu Ramen', 'Seafood Tom Yum Sichek Flavour', \"Juzz's Mee Original Spicy Flavour\", 'Always Mi Goreng Perisa Kari Kapitan', 'Island Of Flavours Thai Royal Shrimp Instant Noodles', 'Spicy Fish Noodle', 'Cup Noodle Massaman Curry', 'Seimen Houjyun Koku Shoyu', 'Rangers Snack Noodles BBQ Flavour', 'Cup Noodle Sio', 'Cheese Ramen', 'Cup Noodles Homestyle Chicken', 'Beef Tongue Shio Mayo Ramen', 'Rangers Snack Noodles Sour Cream Flavour', 'Cup Noodles Kyushu White Flavour', 'Mee Poh Dry', 'Chicken Abalone Flavour', 'Ramen Char Mee 100', 'La Ramen Spicy Mushroom Flavour Big Bowl', 'Mee Goreng', 'La Ramen Spicy Lobster Hot Pot Flavour Big Bowl', 'Thai Tom Yam Flavour', 'Chicken Tanmen Flavour', 'Extra Spicy Singapore Curry Big Bowl', 'La Ramen Spicy Mushroom Flavour', 'Chicken Flavour', 'Tonkotsu Ramen Artificially Flavored Tonkotsu White Chicken Broth', 'Always Mi Goreng Perisa Thai Tom Yam', 'Wei Wei A Instant Noodles Chicken Flavor', 'Hakata Ossyoi', 'Instant Noodles With Beef Flavouring', 'Soba Fried Noodles Chili', 'Premier Bowl Instant Noodles Stewed Pork Flavour', 'Penang Spicy Prawn Soup Noodle', 'Shrimp Tom Yum Flavour Cup Noodles', 'Raoh Ramen Noodle Soup Umami Tonkotsu Flavor', 'Broad Noodle Pickled Vegetable Artificial Beef Flavor', 'Always Mi Goreng Perisa Asli', 'Oriental Noodles Groene Curry', 'Cupo Noodle Pasta Style Vongole', 'Instant Noodles chicken Green Curry Flavour', 'Wantan Men', 'Mi Goreng Bento Noodles In A Box Shallot Teriyaki Flavor', 'Instant Cup Noodles Mi Goreng Fried Noodles', 'Negi Man Ramen', 'Chinese Kitchen Chinese Style Instant Noodles', 'Instant Noodles Shrimp Flavour', 'Udon Japanese Style Precooked Noodles With Soup Hot & Spicy Flavor', 'Snow Crab Flavour Shio Ramen', 'Raoh Ramen Noodle Soup Umami Miso Flavor', 'Instant Rice Vermicelli Clear Soup Flavour', 'Penang Red tom Yum Goong Noodle (New Version)', 'Oriental Noodles Hot & Spicy', 'Chow Mein Savory Sauce And Restayrant Quality Noodles Roast Chicken Flavor ', 'Oriental Style Instant Noodles Shrimp Flavour', 'Gold Sumire Ramen', 'Sunbaked Noodles With Sesame Sauce', 'Purple Sweet Potato Noodles With Taiwanese Sauce', 'Sunbaked Noodles With Spicy Sauce', 'Sweet Potato Noodles With Sesame Paste Sauce', 'Taste Of Malaysia Penang White Curry Ramen', 'Taste Of Malaysia Penang Asam Laksa Fried Instant Noodle', 'Taste Of Malaysia Penang Hokkien Mee Ramen', 'Taste Of Malaysia Penang White Curry Fried Instant Noodle', 'Taste Of Malaysia Penang Asam Laksa Ramen', 'Taste Of Malaysia Penang Hokkien Mee Fried Instant Noodle', 'Instant Noodles With Chicken Flavour', 'Instant Flat Shaped Noodles Boat Noodles Nam Tok Flavour', 'Plum Mayo Ramen', 'Sichuan Pepper Flavor', 'Hu Sesame Flavor', 'Scallion With Sichuan Pepper  Flavor', 'Zha Wang ((Jjawang) Noodles With Chajang Sauce', 'Instant Noodles Stewed Beef Flavour', 'Broad Noodle Chilli Oil Flavor', 'Soon Veggie Noodle Soup', 'MeeKuali spicy Fried Noodle', 'Mi Kuah Rasa Baso Spesial', 'Udon Japanese Style Pre-Cooked Noodles With Soup Beef Flavor', 'Veggie King Buddha Jump Instant Noodles', 'Premier Bowl Instant Noodles Suki Flavour', 'Nara Tenri Shoyu Ramen', 'Penang Vegetarian Prawn Instant Bowl Noodles', 'Asian Style Instant Noodles Artificial Beef Flavor', 'Hingya no Shio Ramen', 'Island Of Flavours Tom Yum Instant Noodles Soup', 'Soba Fried Noodles Curry', 'Mushroom Instant Noodle', 'Oriental Noodles Oosterse Groenten', 'Penang White Curry Noodle (New Version)', 'Nagahama Hakata Tonkotsu Ramen', 'Vegetarian Instant Cup Noodle Tofu & Shiitake Flavour', 'Tom Yum Goong Flavour Instant Noodle', 'Mi Segera Mmm... Perisa Goreng Ala Indonesia', 'Oriental Style Instant Noodles Tandoori Flavour', 'Oriental Style Instant Noodles Shrimp Creamy Tom Yum Flavour', 'Vegetarian Instant Noodles Tom Yum Flavour', 'Cup Noodles Ramen Noodles Ramen Noodle Soup Beef Flavor (New Package) ', 'Spicy Artificial Fei Chang Instant Vermicelli (New Recipe)', 'Soup All Natural Hot & Sour', 'Spring Onion Rice Noodle Soup Bowl', 'Instant Noodles Vegetable Flavour', 'Instant Rice Vermicelli Crab Flavour', 'Salty Taste Chanko Noodle', 'Kimchee Flavour Noodle Soup', 'Shallot Chicken Instant Noodles', 'Mi Segera Mmm... Perisa Asam Laksa', 'Soup Spices Noodle Mee Rempahan Sup', 'Tom Yam Instant Noodles', 'Kimchi', 'Mi Segera Mmm... Perisa Ayam Cendawan', 'Curry Flavour Noodles', 'Kua Teaw Segera', 'Chow Mein Premium Savory Sauce And Restaurant Quality Noodles Sriracha Flavor', 'Instant Noodles Black Pepper Crab Mi Goreng', 'Instant Noodles Creamy Tom Yum Shrimp Flavour', 'Beef Flavour Instant Noodles', 'Penang Hokkien Prawn Soup Rice Vermicelli (Bihun)', 'Non-Fried Noodle Blackbean Sauce Noodle With Squid', 'Instant Non-Fried Noodles Tomato Flavour', 'Spicy King Spicy Chicken', 'Supereme Bowl Noodles With Stewed Egg Spicy Flavour', 'Spicy King Bowl Noodle Spicy Chicken', 'Spicy King Bowl Noodle Spicy Beef', 'Spicy King Spicy Pork', 'Supreme Bowl Noodles With Stewed Egg Sour Beans With Pork Flavour', 'Spicy King Spicy Beef', 'Supreme Bowl Noodles With Stewed Egg Braised Beef Flavour', 'Spicy King Bowl Noodle Spicy Pork', 'Chef Lontong Flavour', 'Negi Miso No Ippin Ramen', 'Instant Noodles Shrimp Tom Yum Flavour', 'Bulnak Boeummyun King Noodle', 'Cup Noodles Ramen Noodles With Shrimp (New Package) ', 'Nuudeli Tom Yum Katkarapu', 'Tuna Flavor Ramen', 'Sesame & Pepper', 'Natural Quality Foods Pad Thai Noodle Bowl', 'Homestyle Tonjiru', 'Duck Instant Noodles', 'Veggie Noodle Carrot Noodle With Original Sauce', 'Oriental Style Instant Noodles Hot & Spicy Flavour', 'King Bowl Super Spicy Pan Stirfried Noodle', 'Garlic Rice Noodle Soup Bowl', 'Mayo Ramen', 'Spicy & Sour Flavor', 'Instant Cup Mi Kuah Rasa Soto', 'Jumbo Instant Noodles Tom Yum Kung Creamy Flavour', 'Chili Chicken Flavour Noodle Soup', 'Curry Instant Noodles', 'Ramen Shoyu Taste', 'Good Noodles Kerrie', 'Veggie Noodle Baby Grass Noodle With Toona Sauce', 'Rangers Snack Noodles Shrimp Tom Yum Flavour', 'Curry Me! Penang White Curry Stir-fry Noodle', 'Udon Japanese Style Pre-Cooked Noodles With Soup Chicken Flavor', 'Braised Beef Noodle', 'Raoh Tanrei Koku Shio Ramen', 'Instant Cup Mi Goreng', 'Monster Snek Mi Pedas', 'Laksa Singapura', 'Seafood Flavour Noodles', 'Instant Noodles Creamy Shrimp Tom Yum Flavour', 'BBQ Pork Flavor Chow Mein', 'Zan Vegetarian Instant Noodle Series Shiitake Mushroom Flavour', 'Tenobe Somen', 'Jah Jan Men', 'Oh! Ricey Pho Ga', 'Veggie Noodle Black Sesame Noodle', 'Nuudeli Liha Nudlar Kott', 'Artificial Beef Instant Noodles With Soup Base', 'Otentiq Cheezy Curry Instant Noodles', 'Mi Goreng Dengan Abon', 'Grilled Pork Flavour Instant Noodles', 'Hao Hao Sate Onion Flavour', 'Sarawak White Laksa Instant Noodle', 'Instant Noodles Egg Protein Noodles', 'Instant Noodles Minced Pork Flavor', 'Sichuan Hot Spicy Fish', 'Otentiq Cheezy Mushroom Instant Noodles', 'Organic Miso Ramen', 'Vegetarian Penang Laksa', 'Instant Non-Fried Noodles Vegetable Curry Flavor', 'Instant Noodles With Shrimp Flavouring', 'Sibu Instant Kampua Original', 'Hot & Spicy Flavour Noodle Soup', 'Hot Cup Goreng Perencah Cili Fiesta', 'Gold Bihun Kari Heritage Instant Rice Vermicelli', 'Sour & Spicy Flavour', 'Seafood Noodle', 'Organic Shoyu Ramen', 'Hakka Flat Noodle With Za Jiang Sauce', 'Mi goreng Pedas Chewy & springy', 'Instant Lunch Chicken Tortilla Flavor Ramen Noodles With Vegetables', 'Instant Kampua Dark Soy Sauce', 'Cup Yentafo Tom Yum Mohfai', 'Cup Shrimp Creamy Tom Yum', 'Instant Rice Vermicelli Bihun Goreng Original Flavour', 'Instant Noodles coconut Milk Flavour', 'Oriental Style Instant Noodles Chicken Flavour', 'Instant Cup Noodles Minced Prok Flavor', 'Sour Bamboo Shoot & Beef If Hot Pot Flavor Noodles', 'Tomato Beef Brisket Flavor Purple Potato Noodle', 'Sea Tangle & Sparerins Flavor Noodles', \"Chef's Grains Millet Noodle\", \"Chef's Grains Buckwheat Noodle\", \"Chef's Grains Pea Noodle\", 'Sichuan Pepper & Chicken Flavor Noodle', \"Sour Soup & Minced Meat Flavor Chef's Grain Naked Oat Noodles\", 'Curry Me! Penang White Curry Soup Noodle', 'Veggie World Vegetarian Braised Beef Instant Noodles', 'Shin Black Spicy Po-Au-Feu Flavor (Mew Edition)', 'Raobokki Noodle (Export Version)', 'Emporer Herbs Chicken Noodle', 'Sauerkraut Flavor', 'Dare You! Habanero Ramen (New Edition)', 'Black Cock Brand Vegetarian Chicken Noodle', 'Chili Seafood Flavor Noodle Soup', 'Penang Favourite White Curry Rice Vermicelli', 'Less Fat Noodles Grilled Chicken', 'Mi Ly Instant Noodles Mi Chay Vegetarian Flavor', 'Cup Rice Vermicelli With Clear Soup', 'Aloe Thin Noodles With Camelia Oil Vegetable Sauce Flavor', 'Curry Instant Noodle With Chicken', 'Koreno Premium Mushroom Flavor', 'Oriental Noodles Prawn Flavor', 'King Chef Authentic Kimchi Flavour', 'Non-Fried Instant Noodles Ramen Tonkotsu Flavor', 'Senior Food Rice Noodle Fragrant Peppery Beef', 'Ho Fan Wonton Soup Flavored', 'Xi Gon Satay Onion Flavor', 'Hurricane Rice Cake (Topokki)', 'Shoop Instant Noodles Bombay Biryani Flavour', 'JokCup Instant Porridge Soup Seafood Flavour', 'Artificial Pickled Vegetable Beef Flavor', 'Malaysia Penang White Curry Noodle Super Spicy', 'Malaysia Penang Green Curry Rice Vermicelli', 'Malaysia Penang White Curry Noodle Original', 'Chicken Flavour Instant Noodles', 'Sesame Flavor Ramen Korean Style Instant Noodle', 'Seafood Flavour Instant Cooking Noodles', 'Instant Noodles With Onion Flavour', 'Shrimp Flavour Oriental Noodles And Soup Mix', 'Spaghetti Instant Noodles', 'Supreme Jjamppong Korean Style Spicy Seafood Soup', 'Vegetarian Penang Laksa Instant Bowl Noodles', 'Dare You! Habanero Jjajang Ramen', 'Hearty Noodles Savoury Beef Flavour', 'Japanese Ramen Noodle', 'Taiwan Dried Noodles With Onion Oil Sauce', 'Bihun Creamy Tom Yam Flavour', 'Veggie Noodle Tomato Noodle With Vine Ripened Tomato Sauce', 'Instant Nudelsuppe Huhn Geschmack', 'Shoop Instant Noodles Masala Flavour', 'Quick Zabb Tom Klong Flavour Instant Noodles', 'Shoyu Noodle', 'Mi Ly Instant Noodles Mi Bo Beef Flavor', 'Mi Segera Mmm... Perisa Kari', 'Donbei Tempura Soba Mini', 'Korean Clay Pot Ramyun', 'Penang Laksa Instant Bowl Noodles', 'Kimchee Noodle Soup', 'Wei Wei A Instant Noodles Hot Beef Flavour', 'Gonbuto Kistune Udon', 'Instant Rice Noodle Soup Spicy Shrimp Flavour', 'Artificial Pork Flavour', 'Penang White Curry Noodle (New Improved Tatse)', 'Quick2 Hot & Spicy Noodle Soup With Habanero & Lime', 'MenWhite Creamy Tonkotsu', 'Gold Penang Asam Laksa Bihun', 'Chu Qian Yi Ding Tom Yum Instant Noodles With Soup Base', 'Aloe This Noodles With Camellia Oil Spicy Bean Sauce Flavor', 'Penang Hokkien Prawn Noodle (New Improved Taste)', 'Instant Noodles Artificial Spicy Beef Flavor (New Package)', 'Shanghai Kaiyang Noodle', 'Penang White Curry Noodle', 'Kaoru Maitake Tempura Udon', 'Shoop Instant Noodles Spicy Lemon Flavour', 'Supreme Seafood Flavor Big Cup', 'Koreno Premium Ginseng Flavor', 'Brown Rice Ramen', 'Penang Vegetarian Prawn Instant Noodles', 'Nyumen Desse Shoyu', 'Perencah Kari Letup Mi Segera', 'Demae Iccho Mushroom With Vegetables Flavour Macaroni', 'Mushroom Honpo Shiitake Nutritious Noodle', 'Mi Goreng Ala Jawa Dengan Sambal Cabe Asli', 'Mikochi Tom Yum Flavor Instant Noodles', 'Jinjja Jinjja (New)', 'Instant Non-Fried Noodles Shallot Pork Flavour', 'Top Ramen Super Noodles Tomato', 'Cup Rice Vermicelli Shrimp Creamy Tom Yum', 'Original Chow Mein Premium Spicy Chicken Flavor', 'White Curry Noodle More Spicy', 'Emporer Instant Noodles Spicy Chicken', 'Jan Jan Dashi Shoyu Yakisoba', 'Tteokgukmyun', 'Vegan Chilli With Sesame Sauce', 'Perisa Sayuran', 'Perisa Kari Sayuran', 'Mi Perencah Ayam Jagung', 'Perisa Bayam', 'Plain Noodles', 'Snek Mi Perisa Ayam', 'Nyonya Curry Laksa', 'Mi Perencah Asam Pedas', 'Snek Mi Perisa BBQ', 'Perisa Kari / Curry Flavour', '3 Con Tom Instant Noodles Thailand Sour Shrimp Flavor', 'Penang Authentic White Curry Noodle', 'Gonbuto Tempura Udon', 'Pork Flavour Whole Wheat Noodle', 'Authentic Indian Noodles Vegetable Atta Masala', 'Jjajangmen Chajang Noodle King Bowl', 'Steam Vegetarian Flavor Noodles', 'Penang White Curry Instant Bowl Noodles', 'Artificial Seafood Flavor Instant Noodle', 'Choice Instant Noodles Curry Flavour', 'Big Cup Ramen Corn, Salt & Butter Flavor', 'Mi Goreng Perencah Kari Ori', 'Instant Noodles Cup Beef Flavour', 'Emergency Cup Noodle', 'Cup Noodles Tomato Enjoy Noodles With Hot Soup', 'Baby Star Snack Noodle Chicken Flavour', 'Mì Ly Instant Noodles Mì Thịt Xào Pork Flavor', 'Shin Ramyun Noodle Soup (New Edition)', 'Purple Wheat Noodles Soy & Vinegar Flavor', 'White Curry Noodle', 'Instant Rice Noodle Spicy Seafood', 'Spicy Beef Flavor Instant Noodle', 'Beef Flavour Oriental Noodles And Soup Mix', 'Penang Laksa ', 'Instant Noodles Taste Sensation Mixed Vegetable Flavour', 'Asia Fast Noodles Snabbnudlar Räksmak', 'Mi Segera Perisa Itik', 'Oriental Style Instant Noodles Pa-Lo Duck Flavour', 'Men Black Seafood Tonkotsu', 'Penang White CurryMee', 'Chow Mein Japanese Style Noodles Yakisoba', 'Curry Noodle', 'Volcano Spicy Pork Noodle', 'Demae Rice Vermicelli Beef Flavour', 'Penang Asam Pedas Hot & Sour Noodle', 'Pad Thai Instant rice Noodles & Sauce', '2 Minute Noodles Hungrooo Masala Spicy', 'Steam Pork Flavour', 'Instant Noodles Artificial Shallot Beef Flavour', 'Kimchi Noodle', 'Oat Noodle Tomato Soup Flavored', 'Quick Zabb Chili Paste Tom Yum Flavour Instant Noodles', 'Koreno Premium Shrimp Flavor', 'Oat Noodle Pork Rib Flavored', 'Seafood Instant Noodles', 'Sate Flavor Instant Noodles', 'Special Instant Noodles Jjamppong Flavor', 'Special Instant sopas Chicken Flavor', 'Spicy Beef Mami Instant Noodle Soup', 'Special Instant Curly Spaghetti With Yummy Red Sauce', 'Supreme Pinoy Chicken Instant Noodles', 'Special Baked Mac Style Instant Macaroni', 'La Paz Batchoy Instant Noodle Soup', 'Instant Kua Teow Tom Yam', 'Chu Qian Yi Ding Spicy Sesame Flavour Instant Noodles With Soup Base', 'Jjamppong Seafood Noodle King Bowl', 'Instant Porridge Seafood Flavour', 'Gotsumori Sauce Yakisoba', 'Oriental Style Instant Noodles Wasabi Flavour', 'Manchurian Instant Noodles', 'Chef Gold Recipe Bihun Kari Seribu Rasa', 'Instant Noodles Spicy Chili', 'Miso Ramen', 'Neoguri Udon Seafood & Mild', 'Royale Penang Seafood Curry', 'Instant Noodles Tom Yum Pork Flavour', 'Japanese Fried Ramen Noodles Kyoto Barbecue Sauce Flavour', 'Tainan Yi Mien With Sesame Oil Sauce', 'Quick Serve Macaroni Wonton Broth', 'Donbei Kitsune Udon Mini', 'Chef Gold Recipe Mi Kari Seribu Rasa', 'Chu Qian Yi Ding Prawn Flavour Instant Noodles With Soup Base', 'Cup Noodles Mug Noodles Spicy Vegetable', 'Shoop Instant Noodles BBQ Flavour', 'Stewed Beef Flavor Cooking Noodle', 'Bowl Noodle Soup Shrimp Habanero Lime Flavor', 'Artificial Pork Flavor Noodles', 'Ohmori Chukafu Yakisoba', 'Instant Noodles Xi Gon Artificial Stewed Beef Flavor', 'Sogokimyun Hot Flavor Noodle Soup', 'Easy Fideos Picante Lime Shrimp Flavor Ramen Noodle Soup', 'Mianba Pork Ribs Flavor Instant Noodles', 'Instant Noodles Mee Goreng', 'Pop Mie Chicken Flavour Cup Noodles', 'Magomi-an Kitsune Udon (Eastern Japan Flavor)', 'Quick Zabb Tom Yum Shrimp Flavour Instant Noodles', 'Potato Ramen', 'Soba Chili Noodles With Japanese Yakisoba Sauce', 'Multigrainz Noodles Spice Remix', 'Asia Snabbnudlar Kycklingsmak', 'Onion Oil & Shrimp Flavor', 'Spicy Tonkotsu Noodle Soup', 'Mee Baa..Gus Mi Goreng Spicier Original Flavour', 'Hot & Spicy Instant Noodle (Mushroom & Beef Flavour)', \"I Want To Eat Ramen' Shoyu Flavor\", 'Mushroom Stew Chicken Ramen', 'Jjol Bibim Men', 'Cup Noodles Easy Fideos Tomato Chicken Flavor Ramen Noodle Soup', 'Tom Yam Flavour Instant Noodles', 'Instant Noodles Moo Nam Tok Flavour', 'Instant Nudelsuppe Shrimp Flavour', 'Cup Oriental Style Instant Noodles Chicken Flavour', 'Instant Noodle Shrimp Tom Yum Flavour Jumbo Pack', 'Instant Cup Noodles Shrimp Tom Yum Flavour (Extreme)', 'Chicken Masala Flavour Instant Fried Noodles', 'Instant Noodles Shrimp Creamy Tom Yum Flavour Jumbo Pack', 'Instant Cup Noodles Spicy Cheese Flavour', 'Oriental Style Instant Noodles Beef Flavour', 'Instant Cup Noodles Seafood Pad Kee Mao Flavour', 'Creamy Tom Yam Instant Noodles', 'Oriental Style Instant Noodles Green Curry Flavour Jumbo Pack', 'Shrimp \"Tom Yum\" Instant Nudelsuppe', 'Penang White curry Noodle With Nanyang Chilli Paste', 'Instant Lunch California Vegetable Ramen Noodles With Vegetables', 'Steam Instant Noodles Korean Salt & Rib Soup Flavour', 'Premium Instant Noodles Spicy Beef Flavour', 'Cup Noodles Tom Yam Veg Flavour', 'Premium Instant Noodles Roasted Beef Flavour', 'Chu Qian Yi Ding Sesame Oil Flavour', 'Cup Noodles Chicken Flavour', 'Premium Instant Noodles XO Sauce Seafood Flavour', 'Japanese Ramen Kyushu Black Instant Noodles With Soup Base', 'Japanese Ramen Tokyo Shoyu Instant Noodles With Soup Base', 'Cup Noodles Seafood Curry Flavour', 'Cup Noodles Cream Of Chicken Flavour', 'Ippei-Chan Jumbo Night Market Style Yakisoba', 'Penang Hokkien Prawn Noodle', 'Instant Lunch Jalapeno Cheddar Flavor Ramen Noodles', 'Harmony Korean Spicy Noodle Dish With Chipotle', '2 Minute Noodles Tom Yam Flavour', 'Souper Meal Chili Picante Chicken With Lime Flavor Ramen Noodle Soup', 'Dried Noodle With Beef Flavor Sauce', 'Mi Segera Mi Goreng Pedas Instant Noodles', 'Old Style Miso Ramen', 'Quick Serve Macaroni Abalone & Chicken Flavour', 'Rice Noodle Beef With Brown Sauce', '2 Minute Noodles Assam Laksa Flavour', 'Hot Cup Perisa Kari', 'Senses Laksa Instant Noodles', 'Extra Spicy Curry Instant Noodles', 'Buldak Bokkummyeon', 'Sabor A Gallina Fideos Con Instantanea', 'Chukazanmai Beijing Style Salt Ramen', 'Cheese Bokki', 'Instant Penang White Curry Noodles', 'King Chef Seafood With Kimchi Flavour', 'Pan Asian Kitchen Spicy Szechuan Chicken Flavor Ramen Noodles', 'Korean Clay Pot Ramyun Noodle', 'I Want To Eat Ramen Shio', 'Ngon-Ngon Tom Yum Minced Pork Noodle', 'Ppushu Ppushu Grilled Chicken Flavor', 'Oat Noodle Abalone Flavored', 'Chukazanmai Szechuan Style Miso', 'Instant Rice Vermicelli Original Flavour', 'Cheese Ramyun (for US market)', 'Curry La-Men', 'Non-Fried Ramen Noodles Taiwan Roast Pork Flavour', 'Prince Katsu Snack Noodles', 'Mi Segera Tom Yam Instant Noodles', 'Spicy Artificial Beef Flavour Instant Noodles With Soup Base', 'Chicken Sopas Creamy Macaroni Soup', 'Ramen House Thai Coconut Ramen', 'Spaghetti With Mushroom Sauce', 'Masala Dumdaar Noodles', 'Instant Noodles Seafood Flavour', 'Everyday Value Chicken & Mushroom Flavour', 'Spesial Rasa Kari Ayam Pedas', 'Yomise No Yakisoba Shiodare Flavor With Black Pepper Mayonnaise', 'Nature Is Delicious Non-Fried Ramyun (Spicy Flavor) (New Version)', 'Oh! Ricey Pho Bo Instant Rice Noodles', 'Fried Noodle Specialist Tom Yam Mee Goreng Flavour', 'Steam Seafood Flavor Ramen', 'Baby Star Snack Noodle Yakisoba Flavor', 'Singapore Laksa Curry Soup Bowl', 'Mild Kokomen (Prototype)', 'Sajimee Curry Soup Flavour', 'Miso Marvellous Soup', 'Shoop Instant Noodles Chicken Flavour', 'Mi Goreng Rasa Iga Penyet', \"Traveller's Choice Thai Red Curry Flavour Instant Noodles\", 'Barbecue Ramyun (Prototype)', 'Red Pepper 7 Garlic Peperoncino', 'Sukiyaki Style Noodle Stew', 'Yaki-Udon Roast Soy Sauce', 'Hiyashi Udon Bonito Sauce', 'Futomen Yakisoba', 'Hiyashi Chuka Lemon Sauce', 'Chanpon', 'Shio Yakisoba', 'Yaki-Udon Mild Spicy Sauce', 'Katsuo Dashi Udon', 'Spaghetti Napolitan', 'Spicy Garlic Ramen', 'Everyday Value Beef & Tomato Flavour Noodles', 'Nagasaki Jjamppong', 'Hearty Noodles Thai Flavour', \"Oriental Style Instant 'Kua-Chap'\", 'Hello Kitty Za Jiang (Soybean Sauce)', 'Soba Teriyaki Noodles With Japanese Yakisoba Sauce', 'Instant Noodles Vegetable & Mushroom Flavour', 'Sir Long Tang Creamy Beef Noodle Soup', 'Seaweed Hot & Spicy Instant Noodle Mushroom & Beef Flavour', 'Korean Style Stew Pork Flavour Noodle Soup', 'Instant Noodle King Won Ton Flavor', 'Instant Noodles Curry Flavour', 'Chef Creamy Tom Yam Flavour', 'Monster BBQ Flavour Snack Noodles', 'Chef Curry Laksa Flavour', 'SLLRRRP! Asam Laksa', 'Mie Goreng Indonesia Spicy Sambal', 'Chef Spicy Chicken Shiitake Flavour', 'Instant Vermicelli Chicken Flavour', 'Instant Noodles Vegetarian Flavour', 'SLLRRRP! Kari Berapi', 'Monster Chicken Flavour Snack Noodles', 'Mie Goreng Indonesia Original Flavour', 'Instant Vermicelli Tom Yam Flavour', 'Bulnak Bokkummyun Spicy Fried Octopus Ramyun', 'Baby Star Ramen Round Consomme Mini', 'Forbidden Rice Ramen', 'Millet & Brown Rice Ramen', 'Jade Pearl Rice Ramen', 'Cuisine Adventures Chicken Pho Soup', 'Taste Of Asia Mi Goreng Rasa Bulgogi Ala Korea', 'Instant Rice Noodle Pad Thai', 'Super Noodles Peppered Steak Flavour', 'Chikara Brand Udon Beef Flavor', 'Fresh Chow Mein Noodles With Seasoning', 'Chikara Brand Udon Hot & Spicy Flavor', 'Chikara Brand Udon Mushroom Flavor', 'Chikara Brand Udon Oriental Flavor', 'Chikara Brand Udon Chicken Flavor', 'Taste Of Asia Mi Kuah Rasa Tom Yum Ala Thailand', 'Otafuku Okonomi Sauce Yakisoba', 'Oriental Style Instant Noodle Mi Ga Chicken Flavor', 'Hello Kitty La Wei (Spicy Flavor)', 'Unif-100 Instant Noodles Artificial Tart Beef Flavor', 'Mi Segera SLLRRRP! Perencah Kari Xtra Pedas', 'Spicy Shrimp Tom Yam Flavour', 'Korean Style Mushroom Chicken Flavour Cooking Noodle', 'Instant Noodle Udon Hot & Spicy', 'Instant Noodles Cup Seafood Flavour', 'Mi Segera Kari Ayam Instant Noodles', 'Spa Oh Tarako Spaghetti', 'Little Prince Brand Snack Noodles Original Flavor', 'Japchae Vermicelli Noodle', 'Korean Traditional Beef Gomtangmen', 'Green Barley Noodle Vegetable Soup', 'I Want To Eat Ramen Miso Flavor', 'Spesial Rasa Soto Ayam', 'Rice Noodle Cart Thai Peanut', 'Oriental Style Instant Noodles Seafood Flavour', 'Cup Noodle Cheese Curry', 'Oriental Style Instant Noodles Tom Yam Flavour', 'Instant Noodle Original Flavor', 'Demae Ramen Shoyu Tonkotsu Artificial Pork Flavour', 'Instant Noodles In A Cup Chicken Flavour', 'Instant Noodles Yentafo Tom Yum Mohfai Flavour', 'Quick Serve Macaroni Shrimp Broth', 'Red Nagasaki Jjampong', 'Noodles In A Cup Spicy Chicken Simulated Flavour', 'Lightning Beef Bone Tteokguk Rice Cake Soup', 'Mie Gepeng Kuah Rasa Ayam Lada Hitam', 'Ramen With Pickled Mustard Flavor', 'Steam Mushroom Flavor Ramen', 'Prawn Noodles', 'Cup Noodles Sabor A Carne Sopa Con Fideos', 'Mì Ly Instant Noodles Mì Tôm Shrimp Flavor', 'Sain Sain Garlic Teriyaki Fresh Cooked Udon Pasta', 'Braised Beef Noodles', 'QQ Scallop Seafood Vermicelli', 'Kumamoto Tonkotsu Ramen', 'Super Noodles Roast Beef & Onion Flavour', 'Supreme Chow Mein Seafood Flavor Instant Stir-Fried Noodles', 'Rice Noodle Cart Sweet Citrus Ginger', 'Oolongmen Kimchi Cup Noodle Soup Mix', 'Purple Wheat Noodles Aglio Olio', 'Jet Black Sesame Oil Pork Tonkotsu', 'Sun Dried Noodle Chlorella Powder Noodle With Curry Sauce', 'Instant Noodles Mixed Vegetable', 'Ppushu Ppushu Noodle Snack Bulgogi Flavor', 'Mì Gà Tìm Chua Cay Hot & Sour Chicken Flavor Instant Noodles', 'Mi Bandung Prawn Mee', 'Ramen With Stewed Pork Flavor', 'Shiitake Flavor Spinach Ramen', 'Basics Instant Noodles Chicken Curry Flavour', 'Baked Noodle Spicy Grilled Beef Ramyun', 'Singapore Chilli Crab La Mian', 'Instant Noodles Taste Sensations Creamy Shrimp Tom Yum Flavour', 'Rice Vermicelli Scallop With XO Sauce Flavour', 'Dried Noodle With Jah Jan Sauce', 'Mi Cup Rasa Soto Ayam Chicken Soto Flavour', 'Selera Pedas Mi Goreng Cup Rasa Gulai Ayam Pedas Hot Gulai Chicken', 'Rasa Ayam Bawang Chicken Onion Flavour', 'Selera Pedas Mi Goreng Cup Rasa Ayam Pedas Limau Hot Chicken Lemon Flavour', 'Cup Noodle Curry X Gunpla RX-78-2 Gundam', 'Mi Cup Rasa Kari Ayam Chicken Curry Flavour', 'Rasa Baso Sapi Meat Ball Mi Instan Cup', 'Mi Goreng Pangsit Fried Noodle With Dumpling', 'Chicken Onion Mi Instan Cup', 'Mi Goreng Rasa Ayam Chicken Flavoured Fried Noodle', 'Mi Goreng Spesial Special Fried Noodle', 'Curry Chicken Mi Instan Cup', 'Sesame Oil Chicken Flavour Instant Noodle', 'Chow Mein Teriyaki Chicken Flavor Chow Mein Noodles', 'Instant Noodles Chow Mein Flavour', 'Instant Noodles Tom Saab Flavour', '三養라면 (Samyang Ramyun) (South Korean Version)', 'Sabor A Pollo Sopa Con Fideos', 'Beef Flavour Tomato Ramen', 'I Want To Eat Ramen Pork Tonkotsu Flavor', 'Ramen House Chicken Vegetable Flavored Ramen', 'Instant Noodle King Abalone & Chicken Flavoured', 'Unif-100 Pickled Cayenne Flavor Beef Ramen', 'Demae Rice Vermicelli Chicken Flavour Instant Rice Vermicelli With Soup Base', 'Garlic Chili Instant Rice Noodles & Sauce', 'Donbei Kansai Soy Sauce Flavor Udon', 'Big Kari Perencah (Big Curry Flavor) 2 Minute Noodles', 'Rasa Ayam Spesial', 'Sesame Ramen', 'Instant Noodles Creamy Tom Yum Minced Pork Flavour', 'Dare You Habanero Ramyun', 'Demae Ramen Miso Tonkotsu Artificial Pork Flavor Ramen Noodle', 'Barbecue Beef Flavour Instant Noodles', 'Sabor A Pollo Sopa Instantánea Con Fideos', 'Mie Gepeng Kuah Rasa Ayam Bawang Pedas', 'Instant Noodle Shallot Flavor', 'Sajimee Original Soto Soup Flavor', 'Tonkotsu Ramen MEGA Dragon', 'Seimen Japanese Instant Ramen Noodles Shio Aji', 'Chicken Kimchi Oriental Style Noodles With Soup Base', 'Artificial Braised Beef Flavor Instant Noodle', 'Pan Asian Kitchen Sweet & Sour Chicken Flavor Ramen Noodles', 'Premium Noodle House Seafood Ramyun', 'Instant Noodles Prawn Oriental Flavour', 'Soba Classic Noodles With Japanese Yakisoba Sauce', 'Selera Pedas Hot Semur Chicken Flavour', 'Ultraman Instant Noodle Pork Flavour', 'Mini Instant Noodle Spicy Flavor', 'Ho Fan Beef Soup Flavored', 'Hello Kitty Dim Sum Noodle Japanese Curry Flavour', 'Super Low Fat Noodles Chilli Chicken Flavour', 'Mi Instan Cup Milk Chicken Soup', 'Rendang Beef Flavour Fried Instant Noodle', 'Hot -Dry Instant Noodles Chilli Flavour', 'Instant Noodles Tom Yum Flavour', 'Demae Iccho Instant Noodle With Soup Base Artificial Chicken Flavour', 'Hell Spicy Mala', 'Super Noodles Chicken Mushroom Flavour', 'Korean Style Stew Prok Flavour Cooking Noodle', 'UFO Yakisoba With Wasabi Mayonnaise', 'Frozen Satay Sauce Noodle', 'Instant Noodles Pork Flavour With Black Pepper', 'Cup Noodles Sabor A Gallina', 'Mie Gepeng Kuah Rasa Soto Cabe Hijau', 'Udon Miso Stew', 'Instant Noodle Curry Flavour', 'Instant Noodles Chicken Green Curry Flavour', 'Maesaengyitangmyun Baked Noodle', 'Cup Noodle Chilli Tomato', 'Bowl Noodles Chicken Flavor', 'Instant Noodles Spicy Tomato Flavour', 'Namja Ramyun (US Version)', 'Soba Curry Noodles With Japanese Yakisoba Sauce', 'Ramen With Simmered Pork Flavor', 'Seribu 1000 Goreng Spesial', 'Hello Kitty Hakata Shoyutonkotsu Ramen', 'Comet Mori Yukino Tan-tan men', 'Braised Pork Ribs', 'Shin Ramyun Cup', 'Sabor A Carne Sopa Instantánea Con Fideos', 'Basics Instant Noodles Chicken Flavour', 'Pokemon Shoyu Ramen', 'Cheese Noodle', 'Go Noodles Xtreme Hot & Spicy Flavour', 'Star Popeye Ramyun Snack', 'What’s That? Leisure Meatballs Spicy Chicken Flavor', 'Chukazanmai Guangdong Style Ramen', 'Shin Black Spicy Pot-au-feu Flavor Premium Noodle Soup', 'Mi ABC Rasa Ayam Bawang (Onion Chicken)', 'Old Style Shio Ramen', 'Green Barley Noodle Milk Chicken Soup', 'Crab Flavor Instant Ramen', 'Spesial Goreng Special', 'Seaweed Ramen Made With Organic Noodles', \"Traveller's Choice Indian Tikka Masala Flavour\", 'Jan Jan Yakisoba', 'Noodles In A Cup Beef Simulated Flavour', 'Donbei Curry Udon (West Japanese)', 'Man Han Feast Sichuan Chilli Eel Flavor', 'Chow Mein With Shrimp Chow Mein Noodles', 'Bowl Chicken Simulated Flavour', 'Rice Vermicelli Spicy Beef With Chilli Flavour', 'Chanpon Ramen', '100 Green Chilli Soto Flavour', 'Chacharoni', 'Demae Iccho XO Sauce Seafood Flavour', \"The Nation's Noodle Beef & Tomato Flavour\", 'Oriental Style Instant Vermicelli Sour Crab Flavour Soup', 'Savory Ramen ', 'Korean Style Shrimp Flavour Cooking Noodle', 'Spicy Flavor Tomato Ramen', 'Tomato & Basil Shio Ramen', 'Fatafat Vegetable Flavor', 'Krrish Instant Noodles Chicken Flavor', 'Preeti Instant Noodles Chicken Soup Base', 'Miteri Instant Noodles Vegetable Flavor', 'Rumpum Chicken Soup Base', '2pm Precooked Noodles Chicken Curry Delight', 'Fatafat Chicken Flavor', 'Krrish Instant Noodles Vegetable Curry Flavor', 'Rumpum Vegetable Soup Base', 'Miteri Instant Noodles Chicken Flavor', 'Joker Ready To Eat Noodles', 'Preeti Instant Noodles Veg Soup Base', 'Gaurav Chicken Seasoning', 'Downtown Ramen Shop Shoyu', 'Oriental Style Instant Noodles Crab Flavour', 'Instant Noodle Beef & Lime Flavour', 'Katsuo Udon', 'E-Men Noodles Abalone Soup Flavor', 'Everyday Value Spicy Curry Flavour Noodles', 'What’s That? Leisure Meatballs Chicken Flavor', 'Big Cup Noodles Habanero Lime Shrimp Flavor Ramen Noodle Soup', 'Baby Star Ramen Round Chikinmini', 'Special Instant Pancit Bihon With Kalamansi', 'Hearty Noodles Chicken Flavour', 'Mie Jepeng Goreng Rasa Ayam Lada Hitam', 'Japanese Style Noodles Shio Flavor', 'Ganjjampong', 'Fresh Yaki-Soba Stir Fry Noodles With Seasoning Sauce Base', 'Ramen Kamen Thasos Galle Pork Bone', 'Oat Noodle Sesame Oil Flavored', 'Selera Pedas Mi Rebus Hot Gulai Flavor', 'Taste Sensation Instant Noodles Curry Flavour', 'Kimchi Bowl Noodles Oriental Noodle With Soup Base', 'spicy Pad Thai Instant Noodles & Sauce', 'Mini Instant Noodles Artificial Chicken Flavor', 'Pan Asian Kitchen Sukiyaki Beef Flavor Savory Soy Sauce Ramen Noodles', 'Vegetarian Fried Noodles (Mie Goreng)', 'Samyang Ramyun (SK Version)', 'Oriental Style Instant Kua-Chap Clear Soup', 'Korean Style Stew Beef Cooking Noodle', 'Gonghwachun Jjajangmyun', 'Spaghetti With Bolognese Sauce', 'Spicy Beef', 'Demae Ramen Kimchi Flavour Instant Noodle With Soup Base', 'Raoh Rich Soy Sauce With Roast Pork (2 Slices)', 'Doong Ji Authentic Korean Cold Noodles With Chili Sauce', 'Ippei-chan Yomise No Yakisoba Teriyaki Mayo Flavor', 'Super Noodles Mild Mexican Chilli', 'Spicy Chicken Mi Instan Cup', 'Instant Noodles With Chicken Flavour Broth', 'Instant Noodles With Beef Flavour Broth', 'Low Fat Noodles Hainan Chicken', 'Homely Dried Noodles - Sesame Pate', 'Tachia Noodles - Hot & Spicy Sauce', 'Tachia Dried Noodles - Fried Shallot', 'Thin Noodles - Sesame Oil', 'Hakka Flat Noodles - Satay Sauce', 'Tachia Dried Noodles - Rou Zhou Meat Sauce', 'Homely Dried Noodles - Original Flavor ', 'Dried Noodles - Spicy Sauerkraut', 'Hakka Flat Noodles - Fried Bean Sauce', 'Tachia Dried Noodles - Peppery', 'Indian Curry Flavour', 'Hao Hao Mi Goreng Shrimp & Onion Flavour', 'Noodles In A Cup Chicken Simulated Flavour', 'GooTa Demi Hamburg-Men', 'Mi Goreng Cabe Ijo', 'Aloe Noodle Sesame Sauce', 'Black Eyed Beans Noodle Basil Sauce & Sesame Sauce', 'Aloe Noodle Vegetable Sauce', 'Black Eyed Beans Noodle Spicy Soybean Sauce & Sesame Sauce', 'Aloe Noodle Red Onion & Sesame Sauce', 'Black Eyed Beans Noodle Vegetable Sauce & Sesame Sauce', 'Aloe Noodle With Basil Sauce', 'Pollen Noodles Sesame Sauce & Soy Sauce', 'Black Eyed Bean Noodle Red Onion Sauce & Sesame Sauce', 'Aloe Noodle With Spicy Soybean Sauce', 'Raoh Soy Sauce Taste', 'Premium Noodle House Pork & Seafood Flavor', 'Oriental Instant Noodles Stir Fried Noodles', 'Cup Noodle Red Shock', '1 Step-1 Minute Asian Noodles Pad Thai', '1 Step-1 Minute Asian Noodles Kung Pao', '1 Step-1 Minute Asian Noodles Mushroom Lo Mein', '1 Step-1 Minute Asian Noodles Thai Basil', '1 Step-1 Minute Asian Noodles Lemongrass Ginger', '1 Step-1 Minute Asian Noodles Toasted Sesame', 'Happy Pho Vietnamese Brown Rice Noodle Soup Garlic Goodness', 'Oriental Noodles Curry Flavour', 'Dry Noodle Mandarin Noodle - Original Sauce', 'Dry Noodle Hakka Noodle - Spicy Sesame Oil Sauce', 'Dry Noodle Mandarin Noodle - Onion Oil Sauce', 'Dry Noodle QQ Thin Noodle - BBQ Sauce', 'No. 10 Mandarin Noodle - Black Pepper Sauce', 'Dry Noodle Tainan Noodle - Sesame Sauce', 'Dry Noodle Hakka Noodle - Chili Sauce', 'Seimen Japanese Instant Ramen Noodles Soy Sauce Taste', 'Japanese Pork Bone Flavour Quick Serve Macaroni', 'Bowl Beef Simulated Flavor', 'Yakisoba Noodle', 'Stir Fry Noodles Japanese Style Noodles With Sauce', 'Chow Mein Chicken', 'Shin Ramyun Noodle Spicy Mushroom', 'Rice Vermicelli Satay Chicken', 'Potato Pork Ramyun', 'Instant Noodles Super Chow Mein', 'Bowl Hot & Spicy Shrimp Flavor Ramen Noodles With Vegetables', 'Chanponmen', 'Dare You Habanero Jjamppong', 'Korean Style Spicy Shrimp Noodle Soup', 'Spicy Sichuan Flavor Instant Noodle', 'Instant Noodles In A Cup Spicy Chicken', 'King Cup Noodle BBQ Chicken & Onion', 'Authentic Thai Cuisine Pad Thai', 'Premium Noodle House Don Ramyun', '60 Ingredients Assorted Vegetable SK Version', 'Nagasaki Crab Jjampong', 'Buldalk Bokkeummyeon (Hot Fried Chicken Ramyun)', 'Yukgaejang Beef Ramyun', 'Bajirak Kalgugsu', 'Hot Chacharoni', 'Premium Noodle House Tofu Fried Noodle', 'Samyang Ramyun', 'Premuim Noodle House Crab Jjampong', 'Beef Flavor Ramyun (SK Version)', 'Nagasaki Jjampong', 'Kimchi Ramyun (SK Version)', 'Sutah (SK Version)', 'Big Cup Noodles Habanero Lime Chicken Flavor Ramen Noodle Soup', 'Oriental Style Ramen Noodle Soup', 'King Spa Oh Peperoncino Spaghetti (日清生タイプSpa王 ペペロンチーノ)', 'Oh! Ricey Hủ Tiếu Sườn Heo (Pork Spareribs Flavour)', 'Good Noodles Oosterse Kip (Oriental Chicken)', 'Bowl Hot & Spicy Chicken Flavor Ramen Noodles With Vegetables', 'Korean Style Spicy Beef Noodle Soup', 'Instant Noodles In A Cup Oriental', 'Sesame Flavor Noodle Bowl', 'Demae Ramen Sesame Oil Flavour Noodles With Soup Base', 'Barszcz czerwony (Borscht)', 'Chow Mein Spicy Teriyaki Beef', 'Bowl Spicy Chicken Simulated Flavour', 'ДОШИРАК (Dosirac) Beef Flavor', 'Yakisoba Beef Taco Flavor', \"Tony's Doner Kebab\", 'Shin Ramyun Black Spicy Beef', 'Miso Stew Instant Udon (Winter)', 'Bowl Chicken Flavor', 'Tom Yum Shrimp Flavour', 'Sate', 'Singapore Laksa La Mian', 'Singapore Curry La Mian', 'Pan Asian Kitchen Spicy Pad Thai', 'Gonghwachun Jjamppong', 'Ogorkowa', 'Singapore Soft Noodles', 'Jong-Gah-Jip Kimchi Ramen', 'Go Noodles Thai Hot & Spicy Tom Yum', 'Ramen Shoyu Flavor', 'Tantanmen Spicy Sesame (Mild)', 'Ramen Miso Flavor', 'Saimin', 'Cold Ramen Soy Sauce Vinaigrette', 'Nama Soba Buckwheat Noodle', 'Ramen Pork Flavor', 'Donbei Tensoba', 'Spaghetti Ramen', 'Chilli Beef Flavour', 'Ramen House Spicy Chicken Ramen', 'Spinach With Organic Noodles', 'Soup Bowl Chinese Chicken', 'Noodle Express Spicy Szechuan', 'Soup Bowl Vietnamese Pho', 'Noodle Express Teriyaki', 'Soup Bowl South Korean Kimchi', 'Ramen House Spring Vegetable Ramen', 'Noodle Express Chinese Chow Mein', 'Raoh Backfat Rich Soy Sauce Flavor', 'Mr. Chu’s Golden Noodle No. 7 Sticky Rib', 'Bowl Noodle Soup Spicy Seafood Flavor (New Version)', 'Chow Mein Soft Noodles', 'Bowl Noodles Hot & Spicy Super Picante', 'ARCHE Naturküche Ramen Mit Ingwer', 'Soy Sauce Ramen', '100% Vegetarian Soy Sauce Flavor', 'Sesame Noodles', 'ARCHE Naturküche Japanische Nudelsuppe', 'Sweet & Spicy', 'Pomidorowa (Mild Tomato)', 'Kiss Myon', 'Instant Noodles Chicken ', 'Hot & Spicy 2 Minute Noodles', 'Yakisoba Jalapeno Cheddar', \"Dr. McDougall's Vegan Chicken Ramen\", 'Jamaican Jerk!', 'Oriental Style Instant Noodles (Dry method)', 'Zurek', 'E-men Lobster Soup', 'Go Noodles Chicken Special', 'Sour Soup Flavor', 'Sweet & Sour', 'Yakisoba Four Cheese', 'Shrimp (TOM YUM)', 'Mild Tonkotsu', 'Beef', \"Jinjja Jinjja Flamin' Hot & Nutty\", 'Kokomen Spicy Chicken', 'Namja Ramen (USA version)', 'dried Mix Noodles Soya Bean Paste', '35% Less Sodium Beef', 'Good Artificial Minced Pork Bean Vermicelli', 'Dried Mix Noodles Artificial Spicy Pork', 'VegeMee Vegetarian Flavour', 'Dare You! Habanero Ramen', '35% Less Sodium Chicken', 'LadMee Hot Pepper', 'Shitake Mushroom Vernicalli', 'Jjajang Bokki', 'Hot & Spicy Udon', 'Tempura Udon Flavor Cup Ramyun', 'Good Chicken Abalone Bean Vermicelli', 'Seafood Flavor Japanese Noodles', 'Casserole Beef Flavour', 'Ramen Shop Sapporo Miso', 'Spicy Shrimp Cup Ramyun', 'Instant Lunch Shrimp', 'Top Ramen Cucharealo Habanero Shrimp', 'Namja Ramyun', 'Kriuuk Bawang', 'Original Flavor', 'Neoguri Spicy Seafood', 'Kari 365 Curry Flavour', 'Vegetable Instant Noodle soup', 'Ippei-chan Yomise-No Yakisoba Oriental', 'Rice Noodle With Seafood Flavored Soup', 'Pho Bo Beef Flavour Rice Stick', 'Rasa Ayam Bawang', 'Instant Lunch Chicken', 'Chow Tomato ', 'Crystal Noodles Savory Shoyu', 'Chow Masala', 'Good Tomyum Kung Bean Vermicelli', 'Sedaaap Mi Goreng', 'Rice Noodle With Kimchi Flavored Soup', 'Bowl Noodle Shrimp Flavor', 'Selera Pedas Hot Tomato Soup Flavor', 'Hao Hao Mushroom', 'Mushroom Flavor Ramen Noodles', 'Rich Shoyu Ramen', 'Nagasaki Sara Udon Chicken ', 'Cold Noodles With Lemon Soy\\xa0Dressing', 'Tonkotsu-Shoyu Rich Pork Flavor\\xa0Ramen', 'Miso Ramen Rich Sapporo Miso', 'Miso Ramen - Mild', 'Shio Ramen Seafood Mild', 'GoBang', 'Rice Noodle With Hot & Spicy', 'South Korean Style Seafood', 'Rice Topokki', 'Top Ramen Short Cuts Lime Chili', 'Shin Bowl (New)', 'Soto Koya Pedasss', 'Artificial Chicken Rice Vermicelli', 'Nabeyaki Udon', 'Viet Rice Noodles Chicken', 'Chapagetti', 'Artificial Hot & Sour Shrimp', 'Mi Keriting Rasa Ayam Bawang', 'Good Chicken Bean Vermicelli', 'Katsuobushi Udon', 'Rasa Coto Makassar', 'Mianba', 'Stewed Duck', 'Chinese Spices Tong Tsai Bean Vermicelli', 'Special Fried Curly Noodle (Local)', 'Top Ramen Short Cuts Roast Chicken', 'Hao Hao Mi Chay Vegetarian', 'Artificial Pickled Cabbage Fish', 'Imitation Chicken Vegetarian', 'Rasa Mi Cakalang', 'Seafood Vermicelli Anchovy', 'Mushroom Vegetarian', 'Bestcook Hot & Sour Shrimp', 'Crystal Noodles Hot & Sour', 'RaUdong Unfried Noodle With Kimchi', 'Sedaaap Mi Kuah Rasa Kari Ayam', 'Artificial Pork Ribs', 'Top Ramen Short Cuts Chicken', 'Top Ramen Cucharealo Tomato Chicken', 'South Korean Style Spicy Pork', 'Sansai Soba Edible Wld Plant', 'Mi Kim Chee', 'Doong Ji Cold Noodle Chilled Broth', '2 Minute Noodles Perencah Asam Laksa', 'Top Ramen Short Cuts Beef', 'Artificial Stew Beef', 'Chapagetti (South Korean)', 'Stir Rice Vermicelli Singaporean Laksa', 'Mild Bean Curd Stew', 'Soto Koya Gurih', 'Top Ramen Cucharealo Picante Chicken', 'Mi Chay Vegetarian', 'Shrimp', 'Mi Goreng Kriuuk Pedas', 'Vegetarian', 'Mee Goreng Dry Ramen Noodles', 'Instant Porridge Chicken', 'Seven & I Shoyu', 'Kko Kko Myun King Cup', 'Seolleongtangmyeon', 'Rabokki', 'Namja', 'Shoyu', 'Bibim Men Cucumber', 'Speed King Bowl (Prototype)', 'Potatoes & Stewed Beef', 'Tom Yum Shrimp Rice Stick', 'Tempura Soba', 'Sedaaap Mi Kuah Rasa Soto', 'Bowl Ramen Shrimp', 'Oh! Ricey Phnom Penh Rice Noodle', 'Stewde Chicken Of Mushroom', 'Spicy Chicken', 'Vegetable', 'Selera Pedas Mi Goreng Hot Chicken Lemon', 'Neoguri Mild (South Korea)', 'Vegetarian Tom Yum', 'Super Rasa Ayam Bawang', 'Hot Spicy Bowl With Soy Peptide', 'Super Big Ramen Soy Sauce', 'Abalone Chicken', 'Premium Taste Roasted Beef', 'Isi 2 Mi Goreng Rasa Ayam Kecap', 'Hot Sour Shrimp', 'Chicken', 'Bowl Noodle Savory Chicken (New)', 'South Korean Style Pork', 'Kingcook Vegetable', 'Red Oil Dan Dan', 'Soto Koya Jeruk Nipis', 'Bowl Noodle Spicy Chicken (New)', 'Super Big Ramen Tonkotsu', 'Shiitake & Soy Sauce', 'GoKar', '100 Beef With Sauerkraut', 'Ramen E Ramen White Broth', 'Isi 2 Rasa Soto', 'Cai Lin Ji Dry Noodles', 'Cup Noodles Salsa Picante Chicken', 'Bowl Noodle Savory Shrimp (New)', 'Kingcook Beef', 'Jin Ramen (Mild) (Import)', 'Mi Goreng Kriuuk Ayam', 'Express Cup Curry', 'Oriental', 'Isi 2 Rasa Kari spesial', 'Seafood', 'Rasa Sup Sayuran Vegan', 'TVP Stewed Pork', 'Bowl Noodle Hot & Spicy Beef (New)', 'Mi Kuah Rasa Ayam Bawang', 'Cup Noodles Shrimp Picante Style', 'Beef Pho', 'Kuah Rice Noodles', 'Seafood Noodle Cup', '2 Minute Noodles Tricky Tomato', 'Kimchi Pickle Bean Vermicelli', 'Garlic Vegetable Rice Noodle', 'Big Cup Noodles Roast Chicken', 'Bowl Noodle Savory Lobster (New)', 'Artificial Stew Pork', 'Mi Goreng Vegan', 'Bikkuchigekara Big Chige', 'Udon ', 'Ansungtangmyun (US Version)', 'Soba', 'Bowl Noodle Savory Tempura Udon', 'Shin Ramyun Black Onion', 'Bowl Noodle Spicy Kimchi (New)', 'Chow Mein (New)', 'Naengmyeon Combo', 'Spoon-it Chicken', 'Artificial Mushroom Chicken', 'Jinjja Jinjja', 'Instant Mami Beef', 'Express Cup Tom Yum', 'chicken', 'Good Good Eat Super Ramen Vegetable', 'Mi Goreng Sate (Local)', 'Artificial Spicy Beef', 'U.F.O. Yakiosoba', 'Chicken Shrimp', 'Yakisoba Spicy Vegetable', 'Odongtong Myon Seafood', 'Mi Goreng Rasa Ayam Panggang Jumbo (Local)', 'Rasa Soto Betawi', 'Curly Noodle With Chicken Chilli Paddi', 'Rasa Mi Kocok Bandung', 'Rasa Soto Banjar Limau Kulit', 'Mi Goreng Jumbo Beef', 'Rasa Kari Ayam Medan', 'Rasa Empal Gentong', 'Mi Goreng Cakalang', 'Mi Goreng Instant Cup Noodles', 'Curly Noodle With Laksa Chilli', 'Mi Goreng Barbecue Chicken', 'Seafood Ramen', 'Bowl Noodle Savory Beef', 'Chicken Curry', 'Spoon-it Beef', 'Ramen Bowl Spicy Chicken', 'Hu Tieu Ca Stewed Fish', 'Mi Goreng Rendang (Import)', 'Nature Is Delicious Spicy', 'Spoon-it Creamy Chicken', 'Seaweed', 'Hearty Rice Noodle Beef', 'Kung Fu Mixed Foods', 'Chow Mein Spicy Chicken', 'Pork Flavor Ramen', 'Noodle Soup Spicy Beef Garlic Onion', 'Man Han Feast Spring Onion Eel', 'South Korean Style Beef', 'Chow Mein Chinese Chicken Vegetable', 'Spoon-it Rich Hearty Beef Stew', 'Demae Ramen Black Garlic Oil Tonkotsu', 'Big Cup Noodles Lime Chili Shrimp', 'Chikin Ramen (Local)', 'Cup Noodles Salsa Picante Shrimp', 'Chow Mein Orange Chicken', 'Spoon-it Rich Hearty Savory Chicken', 'Big Cup Noodles Spicy Chicken', 'Japanese Style Noodle Curry', 'Kingcook Chicken', 'Stir Rice Vermicelli Indonesian Gado Gado', 'Assorted Vegetable Ramen', 'Express Cup Vegetarian', 'Yakisoba Savory Soy Sauce', 'Noodle Soup Sour Spicy Shrimp Tom Yum', 'Hong Ramyun Soy Peptide Hot Spicy', 'Cup Noodles Xo Sauce Seafood', 'Mi Segera Mi Goreng Perisa Sambal Goreng', 'Rasa Sup Buntut Oxtail Soup', 'Artificial Seafood', 'Udon Garlic Teriyaki', 'Instant Cup Noodles Mi Goreng Satay', 'Hearty Rice Noodle Black Bean Vegetable', 'Kingcook Shrimp', 'Express Cup Fried Onion Chicken', 'Shin Ramyun Shrimp', 'Spicy Coconut Shrimp', 'Kko Kko Myun', 'Hong Ramyun Soup Soy Peptide Mild', 'Spicy Sweet & Sour', 'Kung Fu Artificial Chicken Rice Noodle', 'Gozen Tempura', 'Kung Fu Vegetarian', 'Ramen Bowl Kimchi', 'Black Rooster Chicken', 'Moo Nam Tok Rice Vermicelli', 'Bangkok Curry Rice Noodle', 'Jjajangmen Black Bean', 'Shokuh Kitsune Udon', 'Ponpoko Tempura Soba', 'Beef Na Beef', 'Ramen Bowl Spicy Shrimp', 'Hwa King Cup', 'Onion', 'Ramen Bowl Hot & Spicy', 'Mie Telor Asli', 'Sour Spicy Chicken Tom Yum', 'Shio', 'Mi Segera Mi Sup Perisa Kari Ayam', 'Artificial Chicken', 'Chicken & Mushroom', 'Seafood Ramyun', 'Tom Yum Shrimp Noodle', 'Oolongmen Artificial Chicken', 'Knife Cut Rice Noodle', 'Miso Vegetables', 'Hao Hao Shrimp Onion', 'Gozen Kitsune Udon', 'Chinese Mushroom Rice Noodle', 'Tom Yam Ramen Pork', 'Buckwheat Bibim Ramyon', 'Sichuan Hot Pot Sweet Potato Thread', 'Seafood Selection', 'Japanese Miso', 'XO Sauce', 'Kung Fu Artificial Mushroom Pork', 'Artificial Braised Beef', 'Supreme La Paz Batchoy Beef Garlic', 'Spaghetti', 'Yeul Hot Taste', 'Bombay Bad Boy', 'Artificial Pork', '\"A\" Series Vegetarian', 'My Friend Vic Tanuki Udon', 'Jin Ramen Big Bowl (Hot)', 'Phu Gia Bamboo Shoot Artificial Pork Bean Thread', 'Ponpoko Tempura Udon', 'Cold Noodles By Dad', 'Demae Iccho Sesame Oil Chicken Macaroni', \"2 Minute Noodles Thrillin' Curry\", 'Tom Yam Prawn', 'Superior Soup Rice Noodle', 'Kung Fu Artificial Pork Flavor', 'Yakisoba Spicy Chicken', 'Super Noodles Low Fat Sweet Thai Chilli', '\"A\" Series Artificial Chicken', '\"A\" Series Artificial Hot Beef', 'Spicy Black Pepper', 'Beef Tomato', 'U-Dong', 'Artificial Onion', 'Super Noodles Low Fat Chicken Herb', 'Goog Good Eat Super Ramen Hot Chili', 'Oolongmen Artificial Seafood', 'Tomato Vegetables', 'Ramen Noodle Soup Beef', 'Pancit Canton Extra Hot Chili', 'Super Noodles Sweet & sour', 'Lemongrass Chili Rice Noodle', 'Spring Onion Rice Noodle', 'Asian Style Noodles Seafood', 'Chapagetti Chajang', 'Super Noodles Mild Curry', 'Super Noodles To Go Chinese Space Rib', 'Chand Clear Soup', 'South Korean Style Kim Chee', 'Tu Quy Pork', 'Steam Vermicelli', 'Bah Kut Tea Noodle For Vegetarians', 'Artificial Onion Flavor Bean Thread', 'Single Noble Black Bone Chicken Sweet Potato Thread', 'Phu Gia Cua Crab Bean Thread', 'Tofu & Miso', 'Mushroom', 'Hot & Sour Casserole Stewed Rice Noodle', 'Sichuan Pickled Sweet Potato Thread', 'Chinese Chow Mein', 'Super Noodles Barbecue Beef', 'Phoya Chicken', 'Yakisoba Tomato Basil', 'Japanese Style Tokusen Sio', 'Keopnurungji Rice Snack', 'Kung Fu Suc Song Artificial Pork', 'Gomtang', 'DJ DOC Jjolmyeon', 'Super Noodles To Go Curry', 'One More Cup Kimchi', 'Duck', 'Super Noodles Bacon', 'Ippeichan Soy Sauce', 'Quick Tom Yum Shrimp', 'Crystal Noodles Vegetables', 'Super Noodles Souther Fried Chicken', 'Mi Goreng Perisa Asli', 'Super Noodles Chinese Chow Mein', 'Shrimp Tom Yum Flavor', '60 Ingredients', 'Kuah Rasa Baso Sapi Rice Noodles', 'Super Noodles Chicken', 'Taisho Fried Noodle Yakisoba', 'Supreme Soto', 'Original Curry', 'Pancit Canton Sweet Spicy', 'South Korean Style Spicy Beef', 'Good Noodles Chicken', 'Mi SupArtificial Chicken Special', 'Top Ramen Chicken', 'Demae Ramen Chicken', 'Lomi Seafood Vegetable', 'Pad Kee Mao Drunken', 'Yeul Ramyun', 'Chicken Flavor', 'Pho Ga', 'Spicy Tomkotsu', 'Artificial Shrimp Tom yum', 'Hot Spicy Chicken', 'Good Noodles Vegetable', 'Wheat Gluten Stewed Duck Flavoured', 'Soy Ginger Ramen', 'Artificial Spicy Hot Beef', 'Cup Noodles Spicy Seafood', 'Hot Beef', 'Vegetarian Rice Noodles', 'Beijing Vegetable Rice Noodle', 'Thai Ginger Rice Noodle', 'Champong Spicy Seafood', 'Imitation Beef', 'Sanukiya Fresh Spicy Ramen', 'Big Bowl Noodle', 'Miso', 'South Korean Kimchi Rice Noodle', 'Kung Fu Shrimp', 'Oolongmen Beef', 'Pizza', 'Beef Rice Stick', 'Neoguri Mild', 'Soupless Ramen Shallot Teriyaki', 'Artificial Beef', 'Tiny Noodle With Oyster Flavor', 'Demae Iccho Seafood & Abalone Macaroni', 'Yakisoba Shrimp', 'Jin Ramen (Mild)', 'Tomato Seafood Rice Noodle', 'Fresh Ramen Spicy', 'Phoya Rice Noodles Beef', 'DJ DOC Instant rice Ramen Topokki', 'Stew Pork', 'Big Bowl Crab ', 'Big Bowl Artificial Chicken', 'Japanese U-Don Lobster Scallop', 'Hot & Spicy Ramen', 'Bekse Curry Myon', 'Yellow Buckwheat', 'Roasted Garlic Rice Noodle', 'Mushroom Rice Noodle', 'Potato Noodle Soup', 'Mushroom & Artificial Cuttlefish', 'Malaysian Beef Udon', 'Teriyaki Noodle', 'Kung Fu Rice Noodle Shrimp Crab ', 'Ramen-Desse Miso Soybean Paste', 'Lemongrass ginger', 'Ramen Noodle Soup Chicken Mushroom', 'Snack Noodle slightly Hot', 'Tu Quy Sour Spicy Shrimp', 'Kung Fu Rice Noodle Artificial Beef', 'Souper Meal Picante Shrimp Hot Spicy', 'Ppushu Ppushu Barbecue', 'Top Ramen Shrimp', 'Sutah Hot Spicy Beef', 'Tempura Udon', 'Kung Fu Artificial Beef Rice Noodle', 'Harmee Mee goreng Prawn', 'Kung Fu Artificial Szechuan Pork', 'Single Noble Pickled Radish & Duck', 'Asian Vegetable', 'Bowl Noodle Savory Chicken', 'Hyoubanya No Chukasoba Soy Sauce', 'Ippeichan Soybean Paste', 'Ppushu Ppushu Tteobokki', 'Beef Flavor Ramen', 'Kung Fu Artificial Sesame Chicken', 'Little Prince Bacon', 'Noodle King Hong Koing Style Wonton', 'Taiwan Style Chow Mein', 'N-Rich Chicken Tinola', 'Kalguksoo', 'Spice Seafood', 'Instant Lunch Hot spicy Beef', 'Tom Yum Seafood Creamy', 'Big Bowl Spicy Kimchi', 'Artificial Beef With Sauerkraut', 'Mie Sambal Goreng', 'Kari Spesial', 'Supreme Bulalo', 'Instant Bean Thread Seafood', 'Chinese Onion Rice Noodle', 'Pancit Canton toyo Mansi', 'Chicken Mami', 'E Menm Chicken', 'Mi Hai Cua Crab Flavor', 'Tu quy Chicken', 'Shrimp Udon', 'Noodle With Sesame Sauce', 'Shin Cup', 'Mi Lau Thai Thai Stle', 'Kakesoba Desse Soy Sauce', 'Beef Flavorc', 'Ramen Desse Shio', 'Udon Noodle Soup Oriental', 'Tu Quy Spicy Beef', 'Artificial Classic Beef', 'Artificial Beef Flavor', 'Alimentary Paste Chow Mein', 'Midori No Tanuki', 'Crab Vermicelli', 'Instant Bulalo Bone Marrow', 'Instant Mami Chicken', '3 Mien Mi Tom Chua Cay Hot sour Shrimp', 'Snack Ramyon', 'Asian Style Instant Noodles Beef', 'Harmee Prawn', 'Hao Hao Sate Onion', 'Instant Lunch Lime Flavor with Shrimp', 'Noodle King Scallop Thick', 'Suudon Desse Soy Sauce', 'Cup Noodles Seafood Curry', 'Spicy Seafood', 'Bowl Noodle Beef With Vegetables', 'Quickie Mami La Paz Batchoy', 'Bestcook Hot spicy Tom Yum Shrimp', 'Hwa Cup Hot Spicy', 'Dried Mix Noodles XO Sauce', 'Yakisoba Noodles Karashi', 'Hyoubanya No Chukasoba Oriental', 'Curry Soba', 'Instant Lunch Cheddar Cheese', 'Bowl Noodles Rich & Savory Beef', 'Fu Chang Chinese Noodle Company Pork Seafood', 'Hot Of Hots Artificial Black Peppered Beef', 'Demae Iccho Tom Yam Goong Macaroni', 'Chicken Na Chicken', 'N-Rich Artificial Chicken With Ginger', 'Pho Vietnamese Noodle Soup', 'Chow Mein Thai Peanut', 'Hot Of Hots Artificial Satay Beef', 'Ho Fan Abalone Chicken', 'Noodle King Lobster Thick', 'Pho Bo Beef Rice Noodle', 'Asian Style Instant Noodles Shrimp', 'Spicy Thai', 'Chow Noodles Alfredo', 'Superior Soup', 'Tofu Udon Dosirak', 'Chili Pork', 'Kung Fu Artificial Chicken', 'Pancit Shanghai', 'Cup Noodles Prawn', 'Noodle King Beef Hong Kong Style', 'Demae Iccho Tonkotsu Macaroni', 'Daily Hot & Sour With Shrimp', 'Vermicelli With Pork', 'Cup Noodles Hearty Chicken', 'Bowl Noodles Hot & Spicy Beef', 'Spicy Artificial Pork', 'Xtra Big Kalamansi Pancit Canton', 'Ramen Noodle Soup Roast Beef', 'Noodle Lite 275 Udon Mushroom', 'Instant Lunch Chicken 35% Less Sodium', 'Top Ramen Chili', 'Ramen Noodle Soup Chili', 'Top Ramen Picante Beef', 'Souper Meal Tomato Garlic Shrimp', 'Ramen Bokki', 'Bowl Noodle Kimchi', 'Bowl Noodle Spicy Artificial Chicken', 'Charumera Shoyu', 'Stirfried Kimchi', 'Goreng Rice Noodles', 'Shin Big Bowl', 'Daily Vegetarian', 'Japanese Style Tokusen Shoyu', 'Xtra Big Chilimansi Pancit Canton', 'Big Cup Noodles Chicken', 'Ramen Noodle Soup Creamy Chicken', 'Instant Noodles With Soup', 'Hot & Spicy Beef', 'Big Cup Noodles Beef', 'Big Cup Noodles Shrimp', 'Champong Oriental Noodles', 'Crab Noodle', 'Phu Gia Instant Bean Thread Chicken', 'Big Bowl Udon', '3 Mien Mi Tom Hum Lobster', 'TVP Curry Chicken', 'Big Bowl Spicy Shrimp', 'Jin Ramen (Hot)', 'Shrimp Fish', 'TVP Spicy Beef', 'Ramen Noodle Soup Spicy Picante Chicken', 'Ramen Noodle Soup Oriental', 'Super Bowl Artificial Pickled Chilli Beef', 'Yakisoba Cheddar Cheese', 'Super Bowl Artificial Stewed Pork Chop', 'Super Bowl Artificial Spicy Beef', 'Dosirac Mushroom', 'Dosirac Shrimp', 'Supreme Bulalo Artificial Bone Marrow', 'Tasty Mushroom', 'La Paz Batchoy Beef', 'Dosirac Beef', 'Supreme Special Beef Carne De Vaca', 'Pho Bo Rice Noodle Artificial Beef', 'Dosirac Artificial Chicken', 'Bowl Noodle Picante Beef', 'Guilin Style Rice Vermicelli', 'Steam Spinach Ramen With Onion', 'Supreme Sotanghon Artificial Chicken Vermicelli ', 'Hearty Rice Noodle Spicy Veggie Consomme', 'Rice Noodle Hot & Spicy Kimchi', 'Cup Noodles Crab', 'Soybean Paste', 'South Korean Seafood', 'Onion Flaver Rice Noodle', 'South Korean U Dong', 'Shin Bowl', 'Spicy Artificial Beef', 'South Korean Broad Noodle', 'King Cup Lobster', 'Hyoubanya No Yakisoba Oriental', 'King Cup Kimchi Pot Stew', 'Pickled Vegetable', 'Oriental Kitchen Hot Spicy', 'Rice Noodle Katsuo', 'Rice Noodles Seafood', 'Udon Mushroom', 'Oh! Ricey Beef Rice Noodles', 'Chili Paste Tom Yum', 'Cup Shrimp Tom Yum Flavor', 'Kung Fu Artificial Soybean Paste', 'Minced Pork Tom Yum', 'Mi Lau Thai Artificial Chicken', 'South Korean Noodle Kimchi Flavor', 'Dried Noodle With BBQ Pork', 'Spicy Shrimp Bowl', 'Cup Noodles Spicy Chile Chicken', 'Pork', 'Mi Lau Thai Shrimp', 'Cup Noodles Chicken', 'Hao Hao Sour Hot Shrimp', 'Chow Mein Kung Pao Chicken', 'Daily Beef Ball', 'Oh! Ricey Chicken', 'Bowl Noodles Hot & Spicy Shrimp', 'Mi Lau Thai Seafood', 'Tom Yum Shrimp', 'Cup Noodles Beef', 'Cup Noodles Shrimp', 'Oriental Kitchen Spicy Seafood', 'Daily Hot & Spicy Tom Yun', 'Bowl Noodle Spicy Seafood', 'Udon Chicken', 'Udon Beef', 'Steamed Noodle Sesame Oil', '100 Artificial Spicy Beef', 'Tomato', 'Artificial Pork Jumbo', 'Broad Noodles', 'Karashi Mayo Yakisoba', 'Udon Hot & Spicy', 'Tom Klong', 'Aunt Mentaiko Durum Spaghetti', 'Ppushu Ppushu Sweet & Sour', 'Chow Noodles Tomato Basil', 'Spicy Seafood Marinara', 'Spicy Sesame', 'Curry', 'Udon Shrimp', 'Tom Yum Rice Noodles', 'Onion Chicken', 'Supreme Instant Mami Noodles With Free Crackers', 'Pho Ga Instant rice Noodle', 'Bihon Guisado Rice Noodle', 'Chow Noodles Cheddar Cheese', 'Instant Bowl Noodles Artificial Pork', 'Udon Crab', 'Top Ramen Beef', 'Good Good Eat Super Ramen Original', 'Tom Yam Instant soup Noodle', 'Yakisoba Sweet & Sour Chicken', 'Instant Lunch Roast Chicken Flavor', 'Yakisoba Chicken', 'Yakisoba Teriyaki Beef', 'Bowl Noodle Spicy Artificial Lobster', 'Yakisoba Roast chicken', 'Kingcook Tomato Sauce Pork', 'Satoimo Noodles', 'Souper Meal Beef Flavor Minestrone', 'Ramen King Scallop Seafood', 'Deuchi Udon', 'Beef Flavor', 'Bowl Noodle Spicy Shrimp', 'Bowl Noodle Hot & Spicy', 'Bowl Noodle Cabbage Kimchi', 'Bowl Noodle Beef Ginger', 'Bowl Noodle Spicy Chicken', 'Chinese Soybean Paste', 'Sanukiya Somen', 'Rice Noodle With Spicy Flavored Soup', 'Cup Noodles Pani Puri', 'Chukazanmai Served Cool Sesame Flavored Rice Vinegar Sesame', 'Kung Fu Instant Rice Noodles Artificial Chicken', 'Soy Flavor Noodle', 'Steamed Noodle Chinese Herbs', 'Perencah Tom Yam', 'Cup Noodles Manchurian', 'Udon', 'Hwa Ramyun Soy Peptide', 'Teumsae Ramyun', 'Sanukiya Udon', 'Chukazanmai Soy Sauce', 'Bowl Noodles Hot & Spicy Chicken', 'Chukazanmai Soy Sauce chili Oil', 'Noodle King Thin Wonton', 'Hyobanya No Yakisoba Sauce Flavor', 'Oriental Style Clear Soup', 'Hu Tieu Bo Kho An Lien Beef', 'Dosirac Pork', 'Cold Ramen With Ponytail Radish', 'Sotanghon Artificial Chicken', 'Instant Bean Vermicelli Shrimp', 'Flat Noodle Tom Yum', 'Japanese Seafood Flavor Udon', 'Chukazanmai Soybean Paste', 'Seafood Party', 'Japanese Style Noodle Fresh Udon', 'Crab Instant Rice Vermicelli', 'Garlic Pepper', 'Sesame Oil', 'Asian Style Instant Noodles Chicken', 'Chukazanmai Oriental', 'Green Tea Chlorella', 'Ramen Desse Soy Sauce', 'Hot & Spicy', 'Jok Cup Porridge Artificial Pork', 'Sotanghon', 'Instant Lunch Cajun Style With chili Piquin Shrimp', 'Pancit Canton', 'Creamy Chicken', 'Shrimp Flavor', 'Steamed Noodle Garlic & Sesame Oil', 'Japanese Style Tokusen Miso', 'Jjambbong Hot Spicy Seafood', 'Akai Kitsune Udon', 'Okinawa Soba', 'Nagasaki Sara Udon', 'Pho Bo', 'Vegetarian Flavor', 'Kimchi Ramyun', 'Mamy Chand Clear Soup', 'Chow Mein Teriyaki Beef', 'Seafood Flavor', 'Mi Goreng', 'Noodle King Beef', '100 Furong Shrimp', 'Bowl Noodles Rich & Savory Chicken', 'Shrimp Creamy Tom Yum', 'Fresh Shrimp', 'Gyeong-Gi-Do Rice', 'Hot & Sour Rice Noodle', 'Artificial Peppered Beef', '100 Artificial Shallot Chicken', 'Miso Soybean Paste', 'Mupama Tang Myun', 'Artificial PA-LO Duck', 'Tom Yam Koong Rice Vermicelli', 'Japanese Style Tokusen Karami', 'Yakisoba With Mayonnaise/Mustard Packet', 'Minced Pork Soeng Kreung', 'Shrimp Wonton', 'Bekse Curry', 'Artificial Pork & Chicken', 'Ramyonsari', 'Nam Vang', 'Miso Ramyun', 'Hooroorook ', 'Jiajang Noodle', 'Odongtongmyon Seafood Spicy', 'Pad Thai', 'Ramen', 'Pow Crunch Teriyaki', 'Tom Yum', 'Special Fried Curly Noodle', 'Ramen Noodle Soup Chicken', 'Soto Mie', 'Artificial Sesame Chicken', 'Artificial Chinese Beef', 'Kung Fu Artificial Onion', 'Chah Chiang', 'Kung Fu Mi Tom Chua Sour Shrimp', 'Xtra Big Original Pancit Canton', 'Mi Chay Mushroom', 'Crystal Noodle Six Kinds Of Mushrooms', '100 Artificial Stewed Pork Chop', 'South Korean Noodle Chicken', 'Tom Yum Shrimp Cream Soup', 'Onion Flavor', 'Demae Ramen Sesame', 'Kalgug-Su Assorted Clam', 'Demae Ramen Spicy Flavor', 'Demae Ramen Miso', 'Demae Ramen Seafood', 'Demae Ramen Prawn', 'Meatball Flavor', 'Mi Goreng Rendang', 'Demae Ramen Shoyu', 'Demae Ramen Five Spices Artificial Beef', 'Demae Ramen Tonkatsu Artificial Pork', 'Demae Ramen Satay', 'Demae Ramen XO Sauce Seafood', 'Spicy Fei- Chang Sweet Potato Noodle', 'Jah Jan Mien Instant Noodle With Fried Soybean Paste', 'Ramen Noodle Soup Lime Chili Shrimp', 'Ramen Noodle Soup Pork', 'Top Ramen Oriental', 'Souper Meal Chicken Flavor With Vegetable Medley', 'Rice Noodle Mania Lemon Masala', '2 Minute Noodles Curry', 'Vegetable Atta Noodles Masala', 'Chinese Noodles Lemon Chicken Flavor', 'A-One Bun Tom Shrimp', 'Instant Fried Noodles With Chili Sauce', 'Instant Noodles With Sesame Oil & Soup Base', 'Favoury Pork Flavor', 'Spicy Seafood Flavor', 'Curly Noodles With Grilled Chicken', 'Mi Goreng Pedas Hot', 'Mi Goreng Jumbo Barbecue Chicken', 'Mi Goreng Jumbo Meatball', 'Mi Goreng Sate', 'Special Chicken', 'Jaopai Series: Vegetarian Instant Noodles', 'Kung-Fu Chicken Flavor', 'Pork Mustard Stem', 'Pancit Canton Chili Mansi', 'Supreme Bulalo Flavor', 'Pancit Canton Citrus Flavor', 'Pancit Canton Hot Chili Flavor', 'Itnok', 'Ramen Noodle Soup Shrimp', 'Mi Hai Tom Prawn', 'Ippeichan Yakisoba', 'Special Duck', 'Chikin Ramen', 'Demae Ramen Curry Flavor', 'Soba Noodles With Mayo Mustard Squirt', 'Demae Ramen Spicy Seafood With Chili Pepper', 'Top Ramen Creamy Chicken', 'Ansungtangmyun Noodle Soup', \"Neoguri (Seafood'n'Spicy)\", 'Jin Ramen (Hot Taste)', 'Pancit Palabok', 'Kalgug-Su (Spicy)', 'Pojangmacha U-dong', 'Hot', 'Chow Mein', 'Chicken Flavor Instant Soup Noodle', 'Vegetable Beef', 'Chinese Beef Instant Rice Noodle', 'Mushroom Pork', 'Hu Tiu Nam Vang [\"Phnom Penh\" style] Asian Style Instant\\xa0Rice\\xa0Noodles', 'Oriental Style Instant Noodles', 'Tom Yum Chili Flavor']\n"
     ]
    }
   ],
   "source": [
    "print(list(ramen.Variety.unique()))"
   ]
  },
  {
   "cell_type": "code",
   "execution_count": 44,
   "id": "0ab5afb6",
   "metadata": {},
   "outputs": [],
   "source": [
    "style_binary_values = pd.get_dummies(ramen.Style)"
   ]
  },
  {
   "cell_type": "code",
   "execution_count": 45,
   "id": "66fd9940",
   "metadata": {},
   "outputs": [
    {
     "name": "stdout",
     "output_type": "stream",
     "text": [
      "['Japan' 'Taiwan' 'USA' 'India' 'South Korea' 'Singapore' 'Thailand'\n",
      " 'Hong Kong' 'Vietnam' 'Ghana' 'Malaysia' 'Indonesia' 'China' 'Nigeria'\n",
      " 'Germany' 'Hungary' 'Mexico' 'Fiji' 'Australia' 'Pakistan' 'Bangladesh'\n",
      " 'Canada' 'Nepal' 'Brazil' 'UK' 'Myanmar' 'Netherlands' 'United States'\n",
      " 'Cambodia' 'Finland' 'Sarawak' 'Philippines' 'Sweden' 'Colombia'\n",
      " 'Estonia' 'Holland' 'Poland' 'Dubai']\n"
     ]
    }
   ],
   "source": [
    "country_names = ramen.Country.unique()\n",
    "print(country_names)\n",
    "\n",
    "def region_assignment(x): \n",
    "    if x in ['USA', 'United States', 'Mexico', 'Canada']: \n",
    "        return 'North America'\n",
    "    elif x in ['Colombia', 'Brazil']:\n",
    "        return 'South America'\n",
    "    elif x in ['Pakistan', 'Vietnam', 'Japan', 'Taiwan', 'South Korea', 'Singapore', 'Thailand', \n",
    "               'Hong Kong', 'Myanmar', 'Nepal', 'Malaysia', 'Singapore', \n",
    "               'China', 'Sarawak', 'Phillipines', 'Dubai']:\n",
    "        return 'Asia'\n",
    "    elif x in ['Germany', 'Hungary', 'Holland', 'Poland', 'Finland']:\n",
    "        return 'Europe'\n",
    "    elif x in ['Ghana']: \n",
    "        return 'Africa'\n",
    "    else: \n",
    "        return 'Oceania'\n",
    "    \n",
    "ramen['Region'] = ramen.Country.apply(func = region_assignment)\n",
    "\n",
    "region_values = pd.get_dummies(ramen.Region)"
   ]
  },
  {
   "cell_type": "code",
   "execution_count": 75,
   "id": "336cf72f",
   "metadata": {},
   "outputs": [
    {
     "name": "stdout",
     "output_type": "stream",
     "text": [
      "232\n",
      "323\n",
      "102\n",
      "1921\n"
     ]
    }
   ],
   "source": [
    "def spicy_indicator(x): \n",
    "    if 'Spicy' in x or 'Hot' in x: \n",
    "        return 1\n",
    "    else: \n",
    "        return 0\n",
    "def chicken_indicator(x): \n",
    "    if 'Chicken' in x: \n",
    "        return 1\n",
    "    else: return 0 \n",
    "    \n",
    "def pork_indicator(x):\n",
    "    if 'Pork' in x: \n",
    "        return 1\n",
    "    else:\n",
    "        return 0 \n",
    "    \n",
    "def beef_indicator(x): \n",
    "    if 'Beef' in x or 'Oxtain' in x:\n",
    "        return 1 \n",
    "    else: \n",
    "        return 0 \n",
    "    \n",
    "def other_indicator(x): \n",
    "    if 'Chicken' in x:\n",
    "        return 0 \n",
    "    elif 'Beef' in x: \n",
    "        return 0 \n",
    "    elif 'Pork' in x: \n",
    "        return 0 \n",
    "    else: \n",
    "        return 1\n",
    "\n",
    "ramen['Spicy'] = ramen.Variety.apply(func = spicy_indicator)\n",
    "ramen['Chicken'] = ramen.Variety.apply(func = chicken_indicator)\n",
    "ramen['Beef'] = ramen.Variety.apply(func = beef_indicator)\n",
    "ramen['Pork'] = ramen.Variety.apply(func = pork_indicator)\n",
    "ramen['Other'] = ramen.Variety.apply(func = other_indicator)\n",
    "\n",
    "print(ramen.Beef.sum())\n",
    "print(ramen.Chicken.sum())\n",
    "print(ramen.Pork.sum())\n",
    "print(ramen.Other.sum())"
   ]
  },
  {
   "cell_type": "code",
   "execution_count": 47,
   "id": "5cfabba4",
   "metadata": {},
   "outputs": [
    {
     "name": "stdout",
     "output_type": "stream",
     "text": [
      "['Review #', 'Brand', 'Variety', 'Style', 'Country', 'Stars', 'Top Ten', 'Region', 'Spicy', 'Chicken', 'Pork', 'Veggie', 'Bar', 'Bowl', 'Box', 'Can', 'Cup', 'Pack', 'Tray', 'Africa', 'Asia', 'Europe', 'North America', 'Oceania', 'South America']\n"
     ]
    }
   ],
   "source": [
    "ramen = pd.concat([ramen, style_binary_values, region_values], ignore_index = False, axis=1)\n",
    "print(list(ramen))"
   ]
  },
  {
   "cell_type": "code",
   "execution_count": 48,
   "id": "7bcf127d",
   "metadata": {},
   "outputs": [
    {
     "data": {
      "text/plain": [
       "Review #          int64\n",
       "Brand            object\n",
       "Variety          object\n",
       "Style            object\n",
       "Country          object\n",
       "Stars            object\n",
       "Top Ten          object\n",
       "Region           object\n",
       "Spicy             int64\n",
       "Chicken           int64\n",
       "Pork              int64\n",
       "Veggie            int64\n",
       "Bar               uint8\n",
       "Bowl              uint8\n",
       "Box               uint8\n",
       "Can               uint8\n",
       "Cup               uint8\n",
       "Pack              uint8\n",
       "Tray              uint8\n",
       "Africa            uint8\n",
       "Asia              uint8\n",
       "Europe            uint8\n",
       "North America     uint8\n",
       "Oceania           uint8\n",
       "South America     uint8\n",
       "dtype: object"
      ]
     },
     "execution_count": 48,
     "metadata": {},
     "output_type": "execute_result"
    }
   ],
   "source": [
    "ramen.dtypes"
   ]
  },
  {
   "cell_type": "code",
   "execution_count": 49,
   "id": "43b8bfef",
   "metadata": {},
   "outputs": [
    {
     "name": "stdout",
     "output_type": "stream",
     "text": [
      "   Review #           Brand  \\\n",
      "0      2580       New Touch   \n",
      "1      2579        Just Way   \n",
      "2      2578          Nissin   \n",
      "3      2577         Wei Lih   \n",
      "4      2576  Ching's Secret   \n",
      "5      2575   Samyang Foods   \n",
      "6      2574         Acecook   \n",
      "7      2573     Ikeda Shoku   \n",
      "8      2572      Ripe'n'Dry   \n",
      "9      2571            KOKA   \n",
      "\n",
      "                                             Variety Style      Country Stars  \\\n",
      "0                          T's Restaurant Tantanmen    Cup        Japan  3.75   \n",
      "1  Noodles Spicy Hot Sesame Spicy Hot Sesame Guan...  Pack       Taiwan     1   \n",
      "2                      Cup Noodles Chicken Vegetable   Cup          USA  2.25   \n",
      "3                      GGE Ramen Snack Tomato Flavor  Pack       Taiwan  2.75   \n",
      "4                                    Singapore Curry  Pack        India  3.75   \n",
      "5                             Kimchi song Song Ramen  Pack  South Korea  4.75   \n",
      "6                Spice Deli Tantan Men With Cilantro   Cup        Japan     4   \n",
      "7                              Nabeyaki Kitsune Udon  Tray        Japan  3.75   \n",
      "8                           Hokkaido Soy Sauce Ramen  Pack        Japan  0.25   \n",
      "9              The Original Spicy Stir-Fried Noodles  Pack    Singapore   2.5   \n",
      "\n",
      "  Top Ten         Region  Spicy  Chicken  ...  Can  Cup  Pack  Tray  Africa  \\\n",
      "0     NaN           Asia      0        0  ...    0    1     0     0       0   \n",
      "1     NaN           Asia      1        0  ...    0    0     1     0       0   \n",
      "2     NaN  North America      0        1  ...    0    1     0     0       0   \n",
      "3     NaN           Asia      0        0  ...    0    0     1     0       0   \n",
      "4     NaN        Oceania      0        0  ...    0    0     1     0       0   \n",
      "5     NaN           Asia      0        0  ...    0    0     1     0       0   \n",
      "6     NaN           Asia      0        0  ...    0    1     0     0       0   \n",
      "7     NaN           Asia      0        0  ...    0    0     0     1       0   \n",
      "8     NaN           Asia      0        0  ...    0    0     1     0       0   \n",
      "9     NaN           Asia      1        0  ...    0    0     1     0       0   \n",
      "\n",
      "   Asia  Europe  North America  Oceania  South America  \n",
      "0     1       0              0        0              0  \n",
      "1     1       0              0        0              0  \n",
      "2     0       0              1        0              0  \n",
      "3     1       0              0        0              0  \n",
      "4     0       0              0        1              0  \n",
      "5     1       0              0        0              0  \n",
      "6     1       0              0        0              0  \n",
      "7     1       0              0        0              0  \n",
      "8     1       0              0        0              0  \n",
      "9     1       0              0        0              0  \n",
      "\n",
      "[10 rows x 25 columns]\n"
     ]
    }
   ],
   "source": [
    "print(ramen.head(10))"
   ]
  },
  {
   "cell_type": "code",
   "execution_count": 50,
   "id": "4ab90c9d",
   "metadata": {},
   "outputs": [
    {
     "name": "stdout",
     "output_type": "stream",
     "text": [
      "0       3.75\n",
      "1       1.00\n",
      "2       2.25\n",
      "3       2.75\n",
      "4       3.75\n",
      "        ... \n",
      "2575    3.50\n",
      "2576    1.00\n",
      "2577    2.00\n",
      "2578    2.00\n",
      "2579    0.50\n",
      "Name: Stars, Length: 2580, dtype: float64\n",
      "There are 0 null values.\n"
     ]
    },
    {
     "data": {
      "image/png": "[encoded data removed]",
      "text/plain": [
       "<Figure size 432x288 with 1 Axes>"
      ]
     },
     "metadata": {
      "needs_background": "light"
     },
     "output_type": "display_data"
    },
    {
     "data": {
      "image/png": "[encoded data removed]",
      "text/plain": [
       "<Figure size 432x288 with 1 Axes>"
      ]
     },
     "metadata": {
      "needs_background": "light"
     },
     "output_type": "display_data"
    },
    {
     "data": {
      "text/plain": [
       "<Figure size 432x288 with 0 Axes>"
      ]
     },
     "metadata": {},
     "output_type": "display_data"
    }
   ],
   "source": [
    "ramen.Stars = pd.to_numeric(ramen.Stars, errors = 'coerce')\n",
    "print(ramen.Stars)\n",
    "ramen.dropna(subset = ['Stars'], axis = 0, inplace = True)\n",
    "print(\"There are\", ramen.Stars.isna().sum(), \"null values.\")\n",
    "\n",
    "plt.hist(ramen.Stars, bins = 15, color = '#EAE061', edgecolor = 'black')\n",
    "plt.show()\n",
    "plt.clf()\n",
    "\n",
    "sns.boxplot(x = ramen.Stars, color = '#EAE061')\n",
    "plt.show()\n",
    "plt.clf()\n",
    "\n",
    "median_stars = ramen.Stars.median()\n",
    "mean_stars = ramen.Stars.mean()\n",
    "std_stars = ramen.Stars.std()\n",
    "\n",
    "\n",
    "minimum_star_rating = ramen.Stars.min()\n",
    "maximum_star_rating = ramen.Stars.max()\n",
    "\n",
    "#print(\"The average rating is\", round(mean_stars, 2), \"stars.\")\n",
    "#print(\"The median rating is\", round(median_stars, 2), \"stars.\")\n",
    "#print(\"The standard deviation is\", round(std_stars, 2), \"stars.\")\n",
    "\n",
    "#print(\"The lowest rating is\", round(minimum_star_rating, 2), \"stars.\")\n",
    "#print(\"THe highest rating is\", round(maximum_star_rating, 2), \"stars.\")"
   ]
  },
  {
   "cell_type": "code",
   "execution_count": 51,
   "id": "ac7ce449",
   "metadata": {},
   "outputs": [
    {
     "name": "stdout",
     "output_type": "stream",
     "text": [
      "Country\n",
      "Australia        3.138636\n",
      "Bangladesh       3.714286\n",
      "Brazil           4.350000\n",
      "Cambodia         4.200000\n",
      "Canada           2.243902\n",
      "China            3.421893\n",
      "Colombia         3.291667\n",
      "Dubai            3.583333\n",
      "Estonia          3.500000\n",
      "Fiji             3.875000\n",
      "Finland          3.583333\n",
      "Germany          3.638889\n",
      "Ghana            3.500000\n",
      "Holland          3.562500\n",
      "Hong Kong        3.801825\n",
      "Hungary          3.611111\n",
      "India            3.395161\n",
      "Indonesia        4.067460\n",
      "Japan            3.981605\n",
      "Malaysia         4.154194\n",
      "Mexico           3.730000\n",
      "Myanmar          3.946429\n",
      "Nepal            3.553571\n",
      "Netherlands      2.483333\n",
      "Nigeria          1.500000\n",
      "Pakistan         3.000000\n",
      "Philippines      3.329787\n",
      "Poland           3.625000\n",
      "Sarawak          4.333333\n",
      "Singapore        4.126147\n",
      "South Korea      3.790554\n",
      "Sweden           3.250000\n",
      "Taiwan           3.665402\n",
      "Thailand         3.384817\n",
      "UK               2.997101\n",
      "USA              3.457043\n",
      "United States    3.750000\n",
      "Vietnam          3.187963\n",
      "Name: Stars, dtype: float64\n"
     ]
    }
   ],
   "source": [
    "ramen_reviewers = ramen.Country.unique()\n",
    "country_average_rating = ramen.groupby('Country').Stars.mean()\n",
    "print(country_average_rating)"
   ]
  },
  {
   "cell_type": "code",
   "execution_count": 52,
   "id": "b8df823e",
   "metadata": {},
   "outputs": [
    {
     "name": "stdout",
     "output_type": "stream",
     "text": [
      "Style\n",
      "Bar     5.000000\n",
      "Bowl    3.670686\n",
      "Box     4.291667\n",
      "Can     3.500000\n",
      "Cup     3.498500\n",
      "Pack    3.700458\n",
      "Tray    3.545139\n",
      "Name: Stars, dtype: float64\n"
     ]
    }
   ],
   "source": [
    "pack_type_averages = ramen.groupby('Style').Stars.mean()\n",
    "print(pack_type_averages)"
   ]
  },
  {
   "cell_type": "markdown",
   "id": "bf11e257",
   "metadata": {},
   "source": [
    "Here we see only one review for ramen of the \"bar\" style which explains the even 5-star average above. "
   ]
  },
  {
   "cell_type": "code",
   "execution_count": 53,
   "id": "fdfd3e8d",
   "metadata": {},
   "outputs": [
    {
     "data": {
      "text/html": [
       "<div>\n",
       "<style scoped>\n",
       "    .dataframe tbody tr th:only-of-type {\n",
       "        vertical-align: middle;\n",
       "    }\n",
       "\n",
       "    .dataframe tbody tr th {\n",
       "        vertical-align: top;\n",
       "    }\n",
       "\n",
       "    .dataframe thead th {\n",
       "        text-align: right;\n",
       "    }\n",
       "</style>\n",
       "<table border=\"1\" class=\"dataframe\">\n",
       "  <thead>\n",
       "    <tr style=\"text-align: right;\">\n",
       "      <th></th>\n",
       "      <th>Review #</th>\n",
       "      <th>Brand</th>\n",
       "      <th>Variety</th>\n",
       "      <th>Style</th>\n",
       "      <th>Country</th>\n",
       "      <th>Stars</th>\n",
       "      <th>Top Ten</th>\n",
       "      <th>Region</th>\n",
       "      <th>Spicy</th>\n",
       "      <th>Chicken</th>\n",
       "      <th>...</th>\n",
       "      <th>Can</th>\n",
       "      <th>Cup</th>\n",
       "      <th>Pack</th>\n",
       "      <th>Tray</th>\n",
       "      <th>Africa</th>\n",
       "      <th>Asia</th>\n",
       "      <th>Europe</th>\n",
       "      <th>North America</th>\n",
       "      <th>Oceania</th>\n",
       "      <th>South America</th>\n",
       "    </tr>\n",
       "  </thead>\n",
       "  <tbody>\n",
       "    <tr>\n",
       "      <th>1425</th>\n",
       "      <td>1155</td>\n",
       "      <td>Komforte Chockolates</td>\n",
       "      <td>Savory Ramen</td>\n",
       "      <td>Bar</td>\n",
       "      <td>USA</td>\n",
       "      <td>5.0</td>\n",
       "      <td>NaN</td>\n",
       "      <td>North America</td>\n",
       "      <td>0</td>\n",
       "      <td>0</td>\n",
       "      <td>...</td>\n",
       "      <td>0</td>\n",
       "      <td>0</td>\n",
       "      <td>0</td>\n",
       "      <td>0</td>\n",
       "      <td>0</td>\n",
       "      <td>0</td>\n",
       "      <td>0</td>\n",
       "      <td>1</td>\n",
       "      <td>0</td>\n",
       "      <td>0</td>\n",
       "    </tr>\n",
       "  </tbody>\n",
       "</table>\n",
       "<p>1 rows × 25 columns</p>\n",
       "</div>"
      ],
      "text/plain": [
       "      Review #                 Brand        Variety Style Country  Stars  \\\n",
       "1425      1155  Komforte Chockolates  Savory Ramen    Bar     USA    5.0   \n",
       "\n",
       "     Top Ten         Region  Spicy  Chicken  ...  Can  Cup  Pack  Tray  \\\n",
       "1425     NaN  North America      0        0  ...    0    0     0     0   \n",
       "\n",
       "      Africa  Asia  Europe  North America  Oceania  South America  \n",
       "1425       0     0       0              1        0              0  \n",
       "\n",
       "[1 rows x 25 columns]"
      ]
     },
     "execution_count": 53,
     "metadata": {},
     "output_type": "execute_result"
    }
   ],
   "source": [
    "ramen[ramen.Style == 'Bar']"
   ]
  },
  {
   "cell_type": "markdown",
   "id": "c3091ef9",
   "metadata": {},
   "source": [
    "Now I conducted a multiple linear regression looking at the relationship between the flavor of ramen, the country it was produced, the packaging style of ramen, and the overall rating a reviewer assigns said product, which serves as the dependent variable in this analysis. For each independent variable, a specific variable is left out for reference (in this case, \"Oceania,\" \"Other (that's not chicken, beef, or pork ramen)\", and \"Bar\" ramen. "
   ]
  },
  {
   "cell_type": "code",
   "execution_count": 80,
   "id": "439d91a0",
   "metadata": {},
   "outputs": [
    {
     "name": "stderr",
     "output_type": "stream",
     "text": [
      "C:\\Users\\tyler\\anaconda3\\lib\\site-packages\\statsmodels\\tsa\\tsatools.py:142: FutureWarning: In a future version of pandas all arguments of concat except for the argument 'objs' will be keyword-only\n",
      "  x = pd.concat(x[::order], 1)\n"
     ]
    },
    {
     "data": {
      "text/html": [
       "<table class=\"simpletable\">\n",
       "<caption>OLS Regression Results</caption>\n",
       "<tr>\n",
       "  <th>Dep. Variable:</th>          <td>Stars</td>      <th>  R-squared:         </th> <td>   0.035</td>\n",
       "</tr>\n",
       "<tr>\n",
       "  <th>Model:</th>                   <td>OLS</td>       <th>  Adj. R-squared:    </th> <td>   0.029</td>\n",
       "</tr>\n",
       "<tr>\n",
       "  <th>Method:</th>             <td>Least Squares</td>  <th>  F-statistic:       </th> <td>   6.216</td>\n",
       "</tr>\n",
       "<tr>\n",
       "  <th>Date:</th>             <td>Mon, 29 Aug 2022</td> <th>  Prob (F-statistic):</th> <td>4.55e-13</td>\n",
       "</tr>\n",
       "<tr>\n",
       "  <th>Time:</th>                 <td>19:16:47</td>     <th>  Log-Likelihood:    </th> <td> -3649.2</td>\n",
       "</tr>\n",
       "<tr>\n",
       "  <th>No. Observations:</th>      <td>  2577</td>      <th>  AIC:               </th> <td>   7330.</td>\n",
       "</tr>\n",
       "<tr>\n",
       "  <th>Df Residuals:</th>          <td>  2561</td>      <th>  BIC:               </th> <td>   7424.</td>\n",
       "</tr>\n",
       "<tr>\n",
       "  <th>Df Model:</th>              <td>    15</td>      <th>                     </th>     <td> </td>   \n",
       "</tr>\n",
       "<tr>\n",
       "  <th>Covariance Type:</th>      <td>nonrobust</td>    <th>                     </th>     <td> </td>   \n",
       "</tr>\n",
       "</table>\n",
       "<table class=\"simpletable\">\n",
       "<tr>\n",
       "        <td></td>           <th>coef</th>     <th>std err</th>      <th>t</th>      <th>P>|t|</th>  <th>[0.025</th>    <th>0.975]</th>  \n",
       "</tr>\n",
       "<tr>\n",
       "  <th>const</th>         <td>    3.9028</td> <td>    0.581</td> <td>    6.715</td> <td> 0.000</td> <td>    2.763</td> <td>    5.042</td>\n",
       "</tr>\n",
       "<tr>\n",
       "  <th>Bowl</th>          <td>   -0.3187</td> <td>    0.580</td> <td>   -0.550</td> <td> 0.582</td> <td>   -1.455</td> <td>    0.818</td>\n",
       "</tr>\n",
       "<tr>\n",
       "  <th>Box</th>           <td>    0.3139</td> <td>    0.707</td> <td>    0.444</td> <td> 0.657</td> <td>   -1.073</td> <td>    1.701</td>\n",
       "</tr>\n",
       "<tr>\n",
       "  <th>Can</th>           <td>   -0.0364</td> <td>    1.156</td> <td>   -0.031</td> <td> 0.975</td> <td>   -2.303</td> <td>    2.231</td>\n",
       "</tr>\n",
       "<tr>\n",
       "  <th>Cup</th>           <td>   -0.4249</td> <td>    0.580</td> <td>   -0.733</td> <td> 0.464</td> <td>   -1.562</td> <td>    0.712</td>\n",
       "</tr>\n",
       "<tr>\n",
       "  <th>Pack</th>          <td>   -0.2869</td> <td>    0.578</td> <td>   -0.496</td> <td> 0.620</td> <td>   -1.421</td> <td>    0.847</td>\n",
       "</tr>\n",
       "<tr>\n",
       "  <th>Tray</th>          <td>   -0.3474</td> <td>    0.586</td> <td>   -0.593</td> <td> 0.553</td> <td>   -1.496</td> <td>    0.801</td>\n",
       "</tr>\n",
       "<tr>\n",
       "  <th>North America</th> <td>   -0.1305</td> <td>    0.077</td> <td>   -1.694</td> <td> 0.090</td> <td>   -0.282</td> <td>    0.021</td>\n",
       "</tr>\n",
       "<tr>\n",
       "  <th>Africa</th>        <td>    0.0652</td> <td>    0.713</td> <td>    0.092</td> <td> 0.927</td> <td>   -1.332</td> <td>    1.462</td>\n",
       "</tr>\n",
       "<tr>\n",
       "  <th>South America</th> <td>    0.2196</td> <td>    0.307</td> <td>    0.715</td> <td> 0.475</td> <td>   -0.383</td> <td>    0.822</td>\n",
       "</tr>\n",
       "<tr>\n",
       "  <th>Europe</th>        <td>    0.0875</td> <td>    0.156</td> <td>    0.561</td> <td> 0.575</td> <td>   -0.218</td> <td>    0.393</td>\n",
       "</tr>\n",
       "<tr>\n",
       "  <th>Asia</th>          <td>    0.2040</td> <td>    0.061</td> <td>    3.323</td> <td> 0.001</td> <td>    0.084</td> <td>    0.324</td>\n",
       "</tr>\n",
       "<tr>\n",
       "  <th>Spicy</th>         <td>    0.0108</td> <td>    0.059</td> <td>    0.182</td> <td> 0.856</td> <td>   -0.106</td> <td>    0.127</td>\n",
       "</tr>\n",
       "<tr>\n",
       "  <th>Chicken</th>       <td>   -0.2359</td> <td>    0.062</td> <td>   -3.802</td> <td> 0.000</td> <td>   -0.358</td> <td>   -0.114</td>\n",
       "</tr>\n",
       "<tr>\n",
       "  <th>Beef</th>          <td>   -0.1811</td> <td>    0.071</td> <td>   -2.568</td> <td> 0.010</td> <td>   -0.319</td> <td>   -0.043</td>\n",
       "</tr>\n",
       "<tr>\n",
       "  <th>Pork</th>          <td>   -0.2756</td> <td>    0.102</td> <td>   -2.701</td> <td> 0.007</td> <td>   -0.476</td> <td>   -0.075</td>\n",
       "</tr>\n",
       "</table>\n",
       "<table class=\"simpletable\">\n",
       "<tr>\n",
       "  <th>Omnibus:</th>       <td>470.164</td> <th>  Durbin-Watson:     </th> <td>   1.736</td> \n",
       "</tr>\n",
       "<tr>\n",
       "  <th>Prob(Omnibus):</th> <td> 0.000</td>  <th>  Jarque-Bera (JB):  </th> <td> 894.624</td> \n",
       "</tr>\n",
       "<tr>\n",
       "  <th>Skew:</th>          <td>-1.110</td>  <th>  Prob(JB):          </th> <td>5.43e-195</td>\n",
       "</tr>\n",
       "<tr>\n",
       "  <th>Kurtosis:</th>      <td> 4.845</td>  <th>  Cond. No.          </th> <td>    116.</td> \n",
       "</tr>\n",
       "</table><br/><br/>Notes:<br/>[1] Standard Errors assume that the covariance matrix of the errors is correctly specified."
      ],
      "text/plain": [
       "<class 'statsmodels.iolib.summary.Summary'>\n",
       "\"\"\"\n",
       "                            OLS Regression Results                            \n",
       "==============================================================================\n",
       "Dep. Variable:                  Stars   R-squared:                       0.035\n",
       "Model:                            OLS   Adj. R-squared:                  0.029\n",
       "Method:                 Least Squares   F-statistic:                     6.216\n",
       "Date:                Mon, 29 Aug 2022   Prob (F-statistic):           4.55e-13\n",
       "Time:                        19:16:47   Log-Likelihood:                -3649.2\n",
       "No. Observations:                2577   AIC:                             7330.\n",
       "Df Residuals:                    2561   BIC:                             7424.\n",
       "Df Model:                          15                                         \n",
       "Covariance Type:            nonrobust                                         \n",
       "=================================================================================\n",
       "                    coef    std err          t      P>|t|      [0.025      0.975]\n",
       "---------------------------------------------------------------------------------\n",
       "const             3.9028      0.581      6.715      0.000       2.763       5.042\n",
       "Bowl             -0.3187      0.580     -0.550      0.582      -1.455       0.818\n",
       "Box               0.3139      0.707      0.444      0.657      -1.073       1.701\n",
       "Can              -0.0364      1.156     -0.031      0.975      -2.303       2.231\n",
       "Cup              -0.4249      0.580     -0.733      0.464      -1.562       0.712\n",
       "Pack             -0.2869      0.578     -0.496      0.620      -1.421       0.847\n",
       "Tray             -0.3474      0.586     -0.593      0.553      -1.496       0.801\n",
       "North America    -0.1305      0.077     -1.694      0.090      -0.282       0.021\n",
       "Africa            0.0652      0.713      0.092      0.927      -1.332       1.462\n",
       "South America     0.2196      0.307      0.715      0.475      -0.383       0.822\n",
       "Europe            0.0875      0.156      0.561      0.575      -0.218       0.393\n",
       "Asia              0.2040      0.061      3.323      0.001       0.084       0.324\n",
       "Spicy             0.0108      0.059      0.182      0.856      -0.106       0.127\n",
       "Chicken          -0.2359      0.062     -3.802      0.000      -0.358      -0.114\n",
       "Beef             -0.1811      0.071     -2.568      0.010      -0.319      -0.043\n",
       "Pork             -0.2756      0.102     -2.701      0.007      -0.476      -0.075\n",
       "==============================================================================\n",
       "Omnibus:                      470.164   Durbin-Watson:                   1.736\n",
       "Prob(Omnibus):                  0.000   Jarque-Bera (JB):              894.624\n",
       "Skew:                          -1.110   Prob(JB):                    5.43e-195\n",
       "Kurtosis:                       4.845   Cond. No.                         116.\n",
       "==============================================================================\n",
       "\n",
       "Notes:\n",
       "[1] Standard Errors assume that the covariance matrix of the errors is correctly specified.\n",
       "\"\"\""
      ]
     },
     "execution_count": 80,
     "metadata": {},
     "output_type": "execute_result"
    }
   ],
   "source": [
    "x = ramen[['Bowl', 'Box', 'Can', 'Cup', 'Pack', 'Tray', 'North America', 'Africa', 'South America', 'Europe', 'Asia', 'Spicy', 'Chicken', 'Beef', 'Pork']]\n",
    "y = ramen.Stars\n",
    "\n",
    "x = sm.add_constant(x)\n",
    "\n",
    "est = sm.OLS(y, x).fit() \n",
    "est.summary()"
   ]
  },
  {
   "cell_type": "code",
   "execution_count": 81,
   "id": "e25d4cc9",
   "metadata": {},
   "outputs": [
    {
     "name": "stdout",
     "output_type": "stream",
     "text": [
      "f-stat: 11.56464674893\n",
      "p_value 4.564468592903681e-11\n"
     ]
    }
   ],
   "source": [
    "north_america_ratings = ramen.Stars[ramen.Region == 'North America']\n",
    "south_america_ratings = ramen.Stars[ramen.Region == 'South America']\n",
    "europe_ratings = ramen.Stars[ramen.Region == 'Europe']\n",
    "africa_ratings = ramen.Stars[ramen.Region == 'Africa']\n",
    "asia_ratings = ramen.Stars[ramen.Region == 'Asia']\n",
    "oceania_ratings = ramen.Stars[ramen.Region == 'Oceania']\n",
    "\n",
    "f_stat, p_val = f_oneway(north_america_ratings, south_america_ratings, europe_ratings, africa_ratings, asia_ratings, oceania_ratings)\n",
    "\n",
    "print('f-stat:', f_stat)\n",
    "print('p_value', p_val)"
   ]
  },
  {
   "cell_type": "code",
   "execution_count": 56,
   "id": "3d119af2",
   "metadata": {},
   "outputs": [
    {
     "name": "stdout",
     "output_type": "stream",
     "text": [
      "       Multiple Comparison of Means - Tukey HSD, FWER=0.05        \n",
      "==================================================================\n",
      "    group1        group2    meandiff p-adj   lower   upper  reject\n",
      "------------------------------------------------------------------\n",
      "       Africa          Asia   0.2469    0.9  -1.781  2.2748  False\n",
      "       Africa        Europe   0.1223    0.9 -1.9471  2.1918  False\n",
      "       Africa North America  -0.1522    0.9 -2.1842  1.8797  False\n",
      "       Africa       Oceania   0.0184    0.9 -2.0145  2.0513  False\n",
      "       Africa South America   0.2727    0.9 -1.9306  2.4761  False\n",
      "         Asia        Europe  -0.1245    0.9 -0.5481   0.299  False\n",
      "         Asia North America  -0.3991  0.001 -0.5592  -0.239   True\n",
      "         Asia       Oceania  -0.2285  0.002 -0.3997 -0.0573   True\n",
      "         Asia South America   0.0259    0.9  -0.841  0.8927  False\n",
      "       Europe North America  -0.2746 0.4864 -0.7172   0.168  False\n",
      "       Europe       Oceania   -0.104    0.9 -0.5507  0.3427  False\n",
      "       Europe South America   0.1504    0.9 -0.8097  1.1104  False\n",
      "North America       Oceania   0.1706 0.2053 -0.0434  0.3847  False\n",
      "North America South America    0.425 0.7102 -0.4514  1.3013  False\n",
      "      Oceania South America   0.2544    0.9 -0.6241  1.1328  False\n",
      "------------------------------------------------------------------\n"
     ]
    }
   ],
   "source": [
    "tukey = pairwise_tukeyhsd(endog = ramen.Stars, groups = ramen.Region, alpha = 0.05)\n",
    "print(tukey)"
   ]
  }
 ],
 "metadata": {
  "kernelspec": {
   "display_name": "Python 3 (ipykernel)",
   "language": "python",
   "name": "python3"
  },
  "language_info": {
   "codemirror_mode": {
    "name": "ipython",
    "version": 3
   },
   "file_extension": ".py",
   "mimetype": "text/x-python",
   "name": "python",
   "nbconvert_exporter": "python",
   "pygments_lexer": "ipython3",
   "version": "3.9.7"
  }
 },
 "nbformat": 4,
 "nbformat_minor": 5
}
